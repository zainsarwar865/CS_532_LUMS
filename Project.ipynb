{
  "nbformat": 4,
  "nbformat_minor": 0,
  "metadata": {
    "colab": {
      "name": "For_Your_Eyes_Only.ipynb",
      "provenance": [],
      "collapsed_sections": [],
      "machine_shape": "hm"
    },
    "kernelspec": {
      "name": "python3",
      "display_name": "Python 3"
    }
  },
  "cells": [
    {
      "cell_type": "code",
      "metadata": {
        "id": "Nohcz9vX_NgQ",
        "colab_type": "code",
        "colab": {}
      },
      "source": [
        "import numpy as np\n",
        "import matplotlib.pyplot as plt\n",
        "import string\n",
        "import gensim\n",
        "from gensim.test.utils import common_texts, get_tmpfile\n",
        "from gensim.models import Word2Vec\n",
        "import gensim.models.keyedvectors as word2vec\n",
        "from numpy.linalg import norm"
      ],
      "execution_count": 0,
      "outputs": []
    },
    {
      "cell_type": "code",
      "metadata": {
        "id": "ojsxs24t03MU",
        "colab_type": "code",
        "colab": {}
      },
      "source": [
        "from sklearn.metrics.pairwise import cosine_similarity"
      ],
      "execution_count": 0,
      "outputs": []
    },
    {
      "cell_type": "code",
      "metadata": {
        "id": "XSkaXPsXAG5C",
        "colab_type": "code",
        "outputId": "837e7178-c69f-4666-96e9-9b997b2371d1",
        "colab": {
          "base_uri": "https://localhost:8080/",
          "height": 35
        }
      },
      "source": [
        "from google.colab import drive\n",
        "drive.mount('/content/drive')"
      ],
      "execution_count": 0,
      "outputs": [
        {
          "output_type": "stream",
          "text": [
            "Drive already mounted at /content/drive; to attempt to forcibly remount, call drive.mount(\"/content/drive\", force_remount=True).\n"
          ],
          "name": "stdout"
        }
      ]
    },
    {
      "cell_type": "code",
      "metadata": {
        "id": "PRJvYsee_7OD",
        "colab_type": "code",
        "outputId": "10bb59dc-9133-4912-ac5d-7979474cb8df",
        "colab": {
          "base_uri": "https://localhost:8080/",
          "height": 54
        }
      },
      "source": [
        "!unzip '/content/drive/My Drive/Set.zip'"
      ],
      "execution_count": 0,
      "outputs": [
        {
          "output_type": "stream",
          "text": [
            "Archive:  /content/drive/My Drive/Set.zip\n",
            "replace stopwords.txt? [y]es, [n]o, [A]ll, [N]one, [r]ename: "
          ],
          "name": "stdout"
        }
      ]
    },
    {
      "cell_type": "code",
      "metadata": {
        "id": "Nn-1RF7ZAack",
        "colab_type": "code",
        "colab": {}
      },
      "source": [
        "# Hyper Parameters\n",
        "classes = 2\n",
        "batch_size = 32"
      ],
      "execution_count": 0,
      "outputs": []
    },
    {
      "cell_type": "code",
      "metadata": {
        "id": "Pbq5rjyPAch8",
        "colab_type": "code",
        "colab": {}
      },
      "source": [
        "def accuracy(preds,true):\n",
        "  correct = 0\n",
        "  l = preds.shape[0]\n",
        "  for ex in range(l):\n",
        "    if (preds[ex] == true[ex]).all():\n",
        "      correct+=1\n",
        "  print(correct, \" of\", l, \"predictions were correct\")    \n",
        "  acc = (correct/l)\n",
        "  return acc    \n",
        "\n",
        "\n",
        "\n",
        "def Softmax(logits):\n",
        "    Max = np.max(logits,axis=1)\n",
        "    logits= logits- Max.reshape(Max.shape[0],1)\n",
        "    fin = np.sum(np.exp(logits), axis=1)\n",
        "    return np.exp(logits) / fin.reshape(fin.shape[0],1)\n",
        "\n",
        "def cross_entropy_loss(y_true,y_pred):\n",
        "    return -(y_true * np.log2(y_pred+1e-50)).sum()\n",
        "\n"
      ],
      "execution_count": 0,
      "outputs": []
    },
    {
      "cell_type": "markdown",
      "metadata": {
        "id": "g-1NMSSoAfB8",
        "colab_type": "text"
      },
      "source": [
        "# Batch Generator\n"
      ]
    },
    {
      "cell_type": "code",
      "metadata": {
        "id": "0qrVJ37PAmwL",
        "colab_type": "code",
        "colab": {}
      },
      "source": [
        "def data_generator(df,labels,batch_size = 32):\n",
        "\n",
        "  while True:\n",
        "    start = 0\n",
        "    stop = batch_size\n",
        "\n",
        "    total_batches = int(np.ceil(df.shape[0] / batch_size))\n",
        "\n",
        "    for i in range(total_batches):\n",
        "      if i == total_batches-1:\n",
        "          yield (df[start:,:],labels[start:,:])\n",
        "      else:        \n",
        "          yield (df[start:stop,:],labels[start:stop,:])\n",
        "      start = stop\n",
        "      stop+= batch_size\n",
        "  \n"
      ],
      "execution_count": 0,
      "outputs": []
    },
    {
      "cell_type": "code",
      "metadata": {
        "id": "t4fXKgisGI09",
        "colab_type": "code",
        "colab": {}
      },
      "source": [
        "train_labels = []\n",
        "train_headlines = []\n",
        "test_labels = []\n",
        "test_headlines = []\n",
        "\n",
        "stop_words = []"
      ],
      "execution_count": 0,
      "outputs": []
    },
    {
      "cell_type": "code",
      "metadata": {
        "id": "dnEeqvolJ_oy",
        "colab_type": "code",
        "colab": {}
      },
      "source": [
        "# Loading the stop words\n",
        "with open(\"/content/stopwords.txt\", \"r\") as filestream:\n",
        "  for line in filestream:\n",
        "    stop_words.append(line.rstrip())\n"
      ],
      "execution_count": 0,
      "outputs": []
    },
    {
      "cell_type": "code",
      "metadata": {
        "id": "oOtmsKz3Ax-K",
        "colab_type": "code",
        "colab": {}
      },
      "source": [
        "#Loading the training file\n",
        "with open(\"/content/train.txt\", \"r\") as filestream:\n",
        "  for line in filestream:\n",
        "    split_w = line.split(',')\n",
        "    train_labels.append(split_w[0])\n",
        "\n",
        "    train_headlines.append(split_w[1].rstrip())"
      ],
      "execution_count": 0,
      "outputs": []
    },
    {
      "cell_type": "code",
      "metadata": {
        "id": "k41ezRjuMa-M",
        "colab_type": "code",
        "colab": {}
      },
      "source": [
        "#Loading the test file\n",
        "with open(\"/content/test.txt\", \"r\") as filestream:\n",
        "  for line in filestream:\n",
        "    split_w = line.split(',')\n",
        "    test_labels.append(split_w[0])\n",
        "    test_headlines.append(split_w[1].rstrip())"
      ],
      "execution_count": 0,
      "outputs": []
    },
    {
      "cell_type": "code",
      "metadata": {
        "id": "JislcbD_IgZ-",
        "colab_type": "code",
        "colab": {}
      },
      "source": [
        "# Removing stop words\n",
        "for i in range(len(train_headlines)):\n",
        "  out = train_headlines[i].replace(',', ' ').replace('.', ' ').replace('!', ' ').replace('?', ' ')\n",
        "  out = out.translate(str.maketrans('', '', string.punctuation))\n",
        "  out = out.split()\n",
        "  final = [i for i in out if i not in stop_words]\n",
        "  string_f =  ' '.join(map(str, final))\n",
        "  train_headlines[i] = string_f\n",
        "\n"
      ],
      "execution_count": 0,
      "outputs": []
    },
    {
      "cell_type": "code",
      "metadata": {
        "id": "fWnZbQ7TYCrg",
        "colab_type": "code",
        "colab": {}
      },
      "source": [
        "# Removing stop words\n",
        "for i in range(len(test_headlines)):\n",
        "  out = test_headlines[i].replace(',', ' ').replace('.', ' ').replace('!', ' ').replace('?', ' ')\n",
        "  out = out.translate(str.maketrans('', '', string.punctuation))\n",
        "  out = out.split()\n",
        "  final = [i for i in out if i not in stop_words]\n",
        "  string_f =  ' '.join(map(str, final))\n",
        "  test_headlines[i] = string_f\n",
        "\n"
      ],
      "execution_count": 0,
      "outputs": []
    },
    {
      "cell_type": "code",
      "metadata": {
        "id": "awn5SCSaGiat",
        "colab_type": "code",
        "colab": {}
      },
      "source": [
        "# Converting to Numpy arrays\n",
        "train_labels = np.asarray(train_labels)\n",
        "train_headlines = np.asarray(train_headlines)\n",
        "test_labels = np.asarray(test_labels)\n",
        "test_headlines = np.asarray(test_headlines)"
      ],
      "execution_count": 0,
      "outputs": []
    },
    {
      "cell_type": "code",
      "metadata": {
        "id": "P0QCKG0PZF5Y",
        "colab_type": "code",
        "outputId": "3ac4e6da-3566-4636-d21a-270e859797f3",
        "colab": {
          "base_uri": "https://localhost:8080/",
          "height": 74
        }
      },
      "source": [
        "# Loading the embeddings\n",
        "model = word2vec.KeyedVectors.load_word2vec_format('/content/drive/My Drive/GoogleNews-vectors-negative300.bin.gz', binary=True)"
      ],
      "execution_count": 0,
      "outputs": [
        {
          "output_type": "stream",
          "text": [
            "/usr/local/lib/python3.6/dist-packages/smart_open/smart_open_lib.py:253: UserWarning: This function is deprecated, use smart_open.open instead. See the migration notes for details: https://github.com/RaRe-Technologies/smart_open/blob/master/README.rst#migrating-to-the-new-open-function\n",
            "  'See the migration notes for details: %s' % _MIGRATION_NOTES_URL\n"
          ],
          "name": "stderr"
        }
      ]
    },
    {
      "cell_type": "code",
      "metadata": {
        "id": "plE1o02smyX8",
        "colab_type": "code",
        "outputId": "4dd951f0-e58c-4bb5-86b0-a2c3fb12bd03",
        "colab": {
          "base_uri": "https://localhost:8080/",
          "height": 74
        }
      },
      "source": [
        "# Loading words that the embeddings represent\n",
        "word_vectors = model.wv"
      ],
      "execution_count": 0,
      "outputs": [
        {
          "output_type": "stream",
          "text": [
            "/usr/local/lib/python3.6/dist-packages/ipykernel_launcher.py:1: DeprecationWarning: Call to deprecated `wv` (Attribute will be removed in 4.0.0, use self instead).\n",
            "  \"\"\"Entry point for launching an IPython kernel.\n"
          ],
          "name": "stderr"
        }
      ]
    },
    {
      "cell_type": "code",
      "metadata": {
        "id": "4L933qyGldYl",
        "colab_type": "code",
        "colab": {}
      },
      "source": [
        "# Converting the training set headlines into their respective vector representations\n",
        "train_headlines_vec = []\n",
        "\n",
        "for i in range(len(train_headlines)):\n",
        "  temp_vecs = []\n",
        "  word_list = train_headlines[i].split()\n",
        "  for word in word_list:\n",
        "    if word not in word_vectors:\n",
        "      continue\n",
        "    else:\n",
        "      vec = model[word] \n",
        "      temp_vecs.append(vec)\n",
        "  if(len(temp_vecs) > 0):       \n",
        "    temp_vecs = np.asarray(temp_vecs)\n",
        "    mean_vec = np.mean(temp_vecs,axis=0)\n",
        "    train_headlines_vec.append(mean_vec)\n",
        "  else:\n",
        "    train_labels = np.delete(train_labels,[i])  \n",
        "\n",
        "train_headlines_vec = np.array(train_headlines_vec)\n"
      ],
      "execution_count": 0,
      "outputs": []
    },
    {
      "cell_type": "code",
      "metadata": {
        "id": "77Ek5rgippkN",
        "colab_type": "code",
        "colab": {}
      },
      "source": [
        "# Converting the test set headlines into their respective vector representations\n",
        "test_headlines_vec = []\n",
        "\n",
        "for i in range(len(test_headlines)):\n",
        "  temp_vecs = []\n",
        "  word_list = test_headlines[i].split()\n",
        "  for word in word_list:\n",
        "    if word not in word_vectors:\n",
        "      continue\n",
        "    else:\n",
        "      vec = model[word] \n",
        "      temp_vecs.append(vec)\n",
        "  if(len(temp_vecs) > 0):       \n",
        "    temp_vecs = np.asarray(temp_vecs)\n",
        "    mean_vec = np.mean(temp_vecs,axis=0)\n",
        "    test_headlines_vec.append(mean_vec)\n",
        "  else:\n",
        "    test_labels = np.delete(test_labels,[i])  \n",
        "\n",
        "\n",
        "\n",
        "test_headlines_vec = np.array(test_headlines_vec)\n"
      ],
      "execution_count": 0,
      "outputs": []
    },
    {
      "cell_type": "markdown",
      "metadata": {
        "id": "GItX-x4RtZhz",
        "colab_type": "text"
      },
      "source": [
        "# Hot Encoding The Labels"
      ]
    },
    {
      "cell_type": "code",
      "metadata": {
        "id": "Xam3c-_SvzrT",
        "colab_type": "code",
        "colab": {}
      },
      "source": [
        "train_labels = train_labels.astype(np.int)\n",
        "test_labels = test_labels.astype(np.int)"
      ],
      "execution_count": 0,
      "outputs": []
    },
    {
      "cell_type": "code",
      "metadata": {
        "id": "7uTsS5i4tdpX",
        "colab_type": "code",
        "colab": {}
      },
      "source": [
        "shape = (train_labels.shape[0],classes)\n",
        "encoded = np.zeros(shape)\n",
        "rows = np.arange(train_labels.shape[0])\n",
        "encoded[rows,train_labels] = 1\n",
        "train_labels = encoded\n",
        "\n",
        "\n",
        "shape = (test_labels.shape[0],classes)\n",
        "encoded = np.zeros(shape)\n",
        "rows = np.arange(test_labels.shape[0])\n",
        "encoded[rows,test_labels] = 1\n",
        "test_labels = encoded"
      ],
      "execution_count": 0,
      "outputs": []
    },
    {
      "cell_type": "markdown",
      "metadata": {
        "id": "7jiaul6nsf4f",
        "colab_type": "text"
      },
      "source": [
        "# Logistic Regression"
      ]
    },
    {
      "cell_type": "markdown",
      "metadata": {
        "id": "ntaw3KyIsphL",
        "colab_type": "text"
      },
      "source": [
        "# Weight intitializations"
      ]
    },
    {
      "cell_type": "code",
      "metadata": {
        "id": "DsVbVMa7spc2",
        "colab_type": "code",
        "colab": {}
      },
      "source": [
        "W = np.zeros((train_headlines_vec.shape[1],classes))\n",
        "b = np.zeros(classes).reshape(1,classes)\n",
        "W = W.reshape(-1,classes)"
      ],
      "execution_count": 0,
      "outputs": []
    },
    {
      "cell_type": "code",
      "metadata": {
        "id": "spdhrD2CspW6",
        "colab_type": "code",
        "colab": {}
      },
      "source": [
        "W_past = np.zeros_like(W)\n",
        "V_past = np.zeros_like(W)\n",
        "beta_1 = 0.99\n",
        "beta_2 = 0.99"
      ],
      "execution_count": 0,
      "outputs": []
    },
    {
      "cell_type": "markdown",
      "metadata": {
        "id": "1oQvbViG-fj_",
        "colab_type": "text"
      },
      "source": [
        "# Batch Gradient Descent"
      ]
    },
    {
      "cell_type": "code",
      "metadata": {
        "id": "gb_vgLwBsoUr",
        "colab_type": "code",
        "colab": {}
      },
      "source": [
        "# Optional\n",
        "def batch_gd(train_matrix_split,train_labels_split,epochs,lr):\n",
        "    \n",
        "    J = []\n",
        "    global W\n",
        "    global b\n",
        "    global W_past\n",
        "    global V_past\n",
        "    for ech in range(epochs):\n",
        "      logits = (np.dot(train_matrix_split,W) + b) \n",
        "      probs = Softmax(logits)\n",
        "      loss = cross_entropy_loss(train_labels_split,probs) \n",
        "      loss = loss / train_matrix_split.shape[0]\n",
        "      J.append(loss)\n",
        "\n",
        "      # Start computing the gradients\n",
        "\n",
        "      d_W = np.zeros_like(W)\n",
        "      d_W = np.dot((probs -  train_labels_split ).T,train_matrix_split).T\n",
        "      d_b = np.sum(probs - train_labels_split,axis=0)\n",
        "      d_b = d_b / train_matrix_split.shape[0]\n",
        "      d_W = d_W / train_matrix_split.shape[0]\n",
        "\n",
        "      # Updating weights using Adam update\n",
        "      \n",
        "\n",
        "      W_past = beta_1 * W_past + (1 - beta_1) * d_W\n",
        "\n",
        "      V_past = beta_2 * V_past + (1 - beta_2) * np.power(d_W, 2)\n",
        "      W_hat = W_past / (1 - np.power(beta_1, ech+1))\n",
        "      V_hat = V_past / (1 - np.power(beta_2, ech+1))\n",
        "      \n",
        "      W = W - (lr * W_hat / (np.sqrt(V_hat) + 0.0000001) )\n",
        "      b = b - lr*d_b\n",
        "      \n",
        "    \n",
        "\n",
        "    \n",
        "    return J\n"
      ],
      "execution_count": 0,
      "outputs": []
    },
    {
      "cell_type": "markdown",
      "metadata": {
        "id": "Y6rngPVEyCUH",
        "colab_type": "text"
      },
      "source": [
        "# Mini Batch Gradient descent"
      ]
    },
    {
      "cell_type": "code",
      "metadata": {
        "id": "uFCPjeHuyCR_",
        "colab_type": "code",
        "colab": {}
      },
      "source": [
        "def mini_batch_gd(train_matrix_split,train_labels_split,epochs,lr):\n",
        "  total_batches = int(np.ceil(train_matrix_split.shape[0] / 1024))\n",
        "  J = []\n",
        "  global W\n",
        "  global W_past\n",
        "  global V_past\n",
        "  global b\n",
        "  train_gen = data_generator(train_matrix_split,train_labels_split,1024)\n",
        "  for ech in range(epochs):\n",
        "    for batch in range(total_batches):\n",
        "      data = next(train_gen)\n",
        "      logits = (np.dot(data[0],W) + b)\n",
        "    \n",
        "      probs = Softmax(logits)\n",
        "      loss = cross_entropy_loss(data[1],probs) \n",
        "      loss = loss / data[0].shape[0]\n",
        "      J.append(loss)\n",
        "      # Start computing the gradients\n",
        "\n",
        "      d_W = np.zeros_like(W)\n",
        "      d_W = np.dot((probs - data[1]).T,data[0]).T\n",
        "      \n",
        "      d_b = np.sum(probs - data[1],axis=0)\n",
        "      d_b = d_b / data[1].shape[0]\n",
        "      d_W = d_W / data[0].shape[0]\n",
        "\n",
        "      # Updating weights\n",
        "      W_past = beta_1 * W_past + (1 - beta_1) * d_W\n",
        "\n",
        "      V_past = beta_2 * V_past + (1 - beta_2) * np.power(d_W, 2)\n",
        "      W_hat = W_past / (1 - np.power(beta_1, ech+1))\n",
        "      V_hat = V_past / (1 - np.power(beta_2, ech+1))\n",
        "      W = W - (lr * W_hat / (np.sqrt(V_hat) + 0.00001) )\n",
        "\n",
        "      b = b - lr*d_b\n",
        "     \n",
        "  return J"
      ],
      "execution_count": 0,
      "outputs": []
    },
    {
      "cell_type": "code",
      "metadata": {
        "id": "3FtZ6ZgB3mj1",
        "colab_type": "code",
        "colab": {}
      },
      "source": [
        "def predict_meaning(matrix,labels):\n",
        "  logits = np.dot(matrix,W) + b\n",
        "  probs = Softmax(logits)\n",
        "  preds = np.zeros_like(probs)\n",
        "  index = np.argmax(probs,axis=1).reshape(preds.shape[0],1)\n",
        "  l = np.arange(len(index)).reshape(preds.shape[0],1)\n",
        "  preds[l,index] = 1\n",
        "  acc = accuracy(preds,labels)\n",
        "\n",
        "  print(\"The accuracy on the data is: \", acc)\n",
        "  return preds"
      ],
      "execution_count": 0,
      "outputs": []
    },
    {
      "cell_type": "code",
      "metadata": {
        "id": "_bmPSshlyCBI",
        "colab_type": "code",
        "colab": {}
      },
      "source": [
        "# Batch Generator\n",
        "train_gen = data_generator(train_headlines_vec,train_labels)"
      ],
      "execution_count": 0,
      "outputs": []
    },
    {
      "cell_type": "code",
      "metadata": {
        "id": "UI7X6NbwyB7p",
        "colab_type": "code",
        "colab": {}
      },
      "source": [
        "loss = mini_batch_gd(train_headlines_vec,train_labels,100,0.001)"
      ],
      "execution_count": 0,
      "outputs": []
    },
    {
      "cell_type": "code",
      "metadata": {
        "id": "m9nOTwXtBEq7",
        "colab_type": "code",
        "outputId": "e8933a5d-f236-440b-8778-0e1c7651f77c",
        "colab": {
          "base_uri": "https://localhost:8080/",
          "height": 54
        }
      },
      "source": [
        "preds = predict_meaning(test_headlines_vec,test_labels)"
      ],
      "execution_count": 0,
      "outputs": [
        {
          "output_type": "stream",
          "text": [
            "4071  of 5707 predictions were correct\n",
            "The accuracy on the data is:  0.713334501489399\n"
          ],
          "name": "stdout"
        }
      ]
    },
    {
      "cell_type": "markdown",
      "metadata": {
        "id": "hvilq6s1BI3C",
        "colab_type": "text"
      },
      "source": [
        "# KNN"
      ]
    },
    {
      "cell_type": "code",
      "metadata": {
        "id": "sePcJfH8fWqW",
        "colab_type": "code",
        "colab": {}
      },
      "source": [
        ""
      ],
      "execution_count": 0,
      "outputs": []
    },
    {
      "cell_type": "code",
      "metadata": {
        "id": "L58vHIVJDI_y",
        "colab_type": "code",
        "colab": {}
      },
      "source": [
        "# Initial K\n",
        "k = 1"
      ],
      "execution_count": 0,
      "outputs": []
    },
    {
      "cell_type": "code",
      "metadata": {
        "id": "5eM9XYoElf3y",
        "colab_type": "code",
        "colab": {}
      },
      "source": [
        "def allmax(a):\n",
        "    if len(a) == 0:\n",
        "        return []\n",
        "    all_ = [0]\n",
        "    max_ = a[0]\n",
        "    for i in range(1, len(a)):\n",
        "        if a[i] > max_:\n",
        "            all_ = [i]\n",
        "            max_ = a[i]\n",
        "        elif a[i] == max_:\n",
        "            all_.append(i)\n",
        "    return all_"
      ],
      "execution_count": 0,
      "outputs": []
    },
    {
      "cell_type": "code",
      "metadata": {
        "id": "DiwXxqb7CcfP",
        "colab_type": "code",
        "outputId": "f9c037a5-7f7c-4899-d881-7f62c3d02461",
        "colab": {
          "base_uri": "https://localhost:8080/",
          "height": 35
        }
      },
      "source": [
        "a = [0,3]\n",
        "b = allmax(a)\n",
        "b"
      ],
      "execution_count": 0,
      "outputs": [
        {
          "output_type": "execute_result",
          "data": {
            "text/plain": [
              "[1]"
            ]
          },
          "metadata": {
            "tags": []
          },
          "execution_count": 95
        }
      ]
    },
    {
      "cell_type": "code",
      "metadata": {
        "id": "yjTK43hVDJ7I",
        "colab_type": "code",
        "colab": {}
      },
      "source": [
        "def predict_label(dist_vect,train_labels,k):\n",
        "  #Indices of k smallest distances in the array\n",
        "  pred_label = np.zeros((1,classes)) \n",
        "  votes = np.zeros((1,classes))\n",
        "\n",
        "  indices = dist_vect[0:k]\n",
        "  #print(indices)\n",
        "  for inde in indices:\n",
        "    ind = np.argmax(train_labels[inde])\n",
        "    votes[0][ind] += 1\n",
        "\n",
        "  #print(votes)\n",
        "  max_list = allmax(votes[0])\n",
        "  #print(max_list)\n",
        "  if len(max_list) > 1:\n",
        "    votes = np.zeros((1,classes))\n",
        "    for inde in indices[:-1]:\n",
        "      ind = np.argmax(train_labels[inde])\n",
        "      votes[0][ind] += 1\n",
        "    \n",
        "    lab = np.argmax(votes)\n",
        "    pred_label[0][lab] = 1  \n",
        "    return pred_label\n",
        "\n",
        "  pred_label[0][max_list[0]] = 1  \n",
        "  return pred_label\n"
      ],
      "execution_count": 0,
      "outputs": []
    },
    {
      "cell_type": "code",
      "metadata": {
        "id": "MLGfHoyo6d92",
        "colab_type": "code",
        "colab": {}
      },
      "source": [
        "def KNN_distances(test_data,test_labels,train_data,train_labels):\n",
        "  sim_matrix = []\n",
        "\n",
        "  preds = np.zeros_like(test_labels)\n",
        "  for i in range(test_data.shape[0]):\n",
        "    dist_vect = []\n",
        "    for ex in range(train_data.shape[0]):\n",
        "      tot = 0\n",
        "      tot = np.dot(test_data[i], train_data[ex])/ (norm(test_data[i])*norm(train_data[ex]))\n",
        "      dist_vect.append(tot)\n",
        "    \n",
        "    dist_vect = np.argsort(np.negative(dist_vect))  \n",
        "    sim_matrix.append(dist_vect)\n",
        "\n",
        "\n",
        "  return np.asarray(sim_matrix)    "
      ],
      "execution_count": 0,
      "outputs": []
    },
    {
      "cell_type": "code",
      "metadata": {
        "id": "MTCXb9BEDJ3C",
        "colab_type": "code",
        "colab": {}
      },
      "source": [
        "def KNN(test_data,test_labels,train_data,train_labels,sim_matrix,k):\n",
        "  preds = np.zeros_like(test_labels)\n",
        "  for i in range(sim_matrix.shape[0]):  \n",
        "    vect = sim_matrix[i]\n",
        "    pred_label = predict_label(vect,train_labels,k)\n",
        "    preds[i] = pred_label\n",
        "\n",
        "  return preds  \n"
      ],
      "execution_count": 0,
      "outputs": []
    },
    {
      "cell_type": "code",
      "metadata": {
        "id": "OwXwT6Jw9hBR",
        "colab_type": "code",
        "colab": {}
      },
      "source": [
        "tt = test_headlines_vec[0:100]\n",
        "t_l = test_labels[0:100]"
      ],
      "execution_count": 0,
      "outputs": []
    },
    {
      "cell_type": "code",
      "metadata": {
        "id": "LvfwySJDDJ0g",
        "colab_type": "code",
        "colab": {}
      },
      "source": [
        "# For K = 1\n",
        "dist_matrix = KNN_distances(test_headlines_vec,test_labels,train_headlines_vec,train_labels)\n",
        "\n"
      ],
      "execution_count": 0,
      "outputs": []
    },
    {
      "cell_type": "code",
      "metadata": {
        "id": "L9_59uuDzLeS",
        "colab_type": "code",
        "outputId": "963c6d76-a2e4-4282-b5b2-b9833be43d5b",
        "colab": {
          "base_uri": "https://localhost:8080/",
          "height": 108
        }
      },
      "source": [
        "dist_matrix"
      ],
      "execution_count": 0,
      "outputs": [
        {
          "output_type": "execute_result",
          "data": {
            "text/plain": [
              "array([[17108,  9636, 13598, ...,  4216, 21933,   412],\n",
              "       [11007, 14452, 16777, ..., 14766, 13113, 11630],\n",
              "       [14384,  9096,  7003, ..., 19345,  9120, 21933],\n",
              "       [16880, 10356, 21912, ..., 14706,  5115,  6129],\n",
              "       [ 8258,   306,  6411, ..., 14539, 12473, 17242]])"
            ]
          },
          "metadata": {
            "tags": []
          },
          "execution_count": 85
        }
      ]
    },
    {
      "cell_type": "code",
      "metadata": {
        "id": "LtPeoiTZAAE7",
        "colab_type": "code",
        "colab": {}
      },
      "source": [
        "predictions_1 = KNN(test_headlines_vec,test_labels,train_headlines_vec,train_labels,dist_matrix,1)"
      ],
      "execution_count": 0,
      "outputs": []
    },
    {
      "cell_type": "code",
      "metadata": {
        "id": "YSyoWY-kAL8A",
        "colab_type": "code",
        "outputId": "fde76612-f088-41a5-fc56-068079553238",
        "colab": {
          "base_uri": "https://localhost:8080/",
          "height": 35
        }
      },
      "source": [
        "acc_k_1 = accuracy(predictions_1,test_labels)"
      ],
      "execution_count": 0,
      "outputs": [
        {
          "output_type": "stream",
          "text": [
            "4010  of 5707 predictions were correct\n"
          ],
          "name": "stdout"
        }
      ]
    },
    {
      "cell_type": "code",
      "metadata": {
        "id": "tLPHcEAeDJuk",
        "colab_type": "code",
        "outputId": "6b4de9dc-24cb-4a82-ef9d-37279bd86720",
        "colab": {
          "base_uri": "https://localhost:8080/",
          "height": 35
        }
      },
      "source": [
        "# For K = 3\n",
        "\n",
        "k = 3\n",
        "\n",
        "predictions_1 = KNN(test_headlines_vec,test_labels,train_headlines_vec,train_labels,dist_matrix,3)\n",
        "\n",
        "acc_k_1 = accuracy(predictions_1,test_labels)"
      ],
      "execution_count": 0,
      "outputs": [
        {
          "output_type": "stream",
          "text": [
            "4130  of 5707 predictions were correct\n"
          ],
          "name": "stdout"
        }
      ]
    },
    {
      "cell_type": "code",
      "metadata": {
        "id": "JsU81y809yZe",
        "colab_type": "code",
        "outputId": "c3b0f154-c329-458c-96dd-809aa9eb6ee8",
        "colab": {
          "base_uri": "https://localhost:8080/",
          "height": 35
        }
      },
      "source": [
        "# For K = 5\n",
        "\n",
        "k = 5\n",
        "\n",
        "\n",
        "predictions_1 = KNN(test_headlines_vec,test_labels,train_headlines_vec,train_labels,dist_matrix,5)\n",
        "\n",
        "acc_k_1 = accuracy(predictions_1,test_labels)"
      ],
      "execution_count": 0,
      "outputs": [
        {
          "output_type": "stream",
          "text": [
            "4199  of 5707 predictions were correct\n"
          ],
          "name": "stdout"
        }
      ]
    },
    {
      "cell_type": "code",
      "metadata": {
        "id": "KrnyqotU9yOy",
        "colab_type": "code",
        "outputId": "20c4456f-2ea5-499c-91e3-35ac90db4d6a",
        "colab": {
          "base_uri": "https://localhost:8080/",
          "height": 35
        }
      },
      "source": [
        "# For K = 7\n",
        "\n",
        "k = 7\n",
        "\n",
        "predictions_1 = KNN(test_headlines_vec,test_labels,train_headlines_vec,train_labels,dist_matrix,7)\n",
        "\n",
        "acc_k_1 = accuracy(predictions_1,test_labels)"
      ],
      "execution_count": 0,
      "outputs": [
        {
          "output_type": "stream",
          "text": [
            "4244  of 5707 predictions were correct\n"
          ],
          "name": "stdout"
        }
      ]
    },
    {
      "cell_type": "code",
      "metadata": {
        "id": "men6oOCo9yG7",
        "colab_type": "code",
        "outputId": "937b3daf-8315-4d57-f841-5b9079045f16",
        "colab": {
          "base_uri": "https://localhost:8080/",
          "height": 35
        }
      },
      "source": [
        "# For K = 10\n",
        "\n",
        "k = 10\n",
        "\n",
        "predictions_1 = KNN(test_headlines_vec,test_labels,train_headlines_vec,train_labels,dist_matrix,10)\n",
        "\n",
        "acc_k_1 = accuracy(predictions_1,test_labels)"
      ],
      "execution_count": 0,
      "outputs": [
        {
          "output_type": "stream",
          "text": [
            "4235  of 5707 predictions were correct\n"
          ],
          "name": "stdout"
        }
      ]
    },
    {
      "cell_type": "markdown",
      "metadata": {
        "id": "udxNZHAob7H1",
        "colab_type": "text"
      },
      "source": [
        "# Evaluation metrics"
      ]
    },
    {
      "cell_type": "code",
      "metadata": {
        "id": "djxey1VdCeQF",
        "colab_type": "code",
        "colab": {}
      },
      "source": [
        "def confusion_matrix(predictions,labels,mat):\n",
        "\n",
        "  for ind,lab in enumerate(labels):\n",
        "    tr = np.argmax(lab)\n",
        "    pr = np.argmax(predictions[ind])\n",
        "    mat[pr,tr] +=1\n",
        "  return mat"
      ],
      "execution_count": 0,
      "outputs": []
    },
    {
      "cell_type": "code",
      "metadata": {
        "id": "7xzGzh9NWIZn",
        "colab_type": "code",
        "colab": {}
      },
      "source": [
        "conf_mat = np.zeros((classes,classes))"
      ],
      "execution_count": 0,
      "outputs": []
    },
    {
      "cell_type": "code",
      "metadata": {
        "id": "iQPUtYOXfLA4",
        "colab_type": "code",
        "colab": {}
      },
      "source": [
        "c = confusion_matrix(predictions_1,test_labels, conf_mat)"
      ],
      "execution_count": 0,
      "outputs": []
    },
    {
      "cell_type": "code",
      "metadata": {
        "id": "8LNL64AJ4psS",
        "colab_type": "code",
        "colab": {}
      },
      "source": [
        "accuracy = (c[0,0] + c[1,1]) / np.sum(c)\n",
        "precision = (c[0,0]) / (c[0,0] + c[0,1])\n",
        "recall = (c[0,0]) / (c[0,0] + c[1,0])\n",
        "f1 = (2*precision*recall)/(precision+recall)"
      ],
      "execution_count": 0,
      "outputs": []
    },
    {
      "cell_type": "markdown",
      "metadata": {
        "id": "SGr7VAydvEpG",
        "colab_type": "text"
      },
      "source": [
        "# Confusion Matrix"
      ]
    },
    {
      "cell_type": "markdown",
      "metadata": {
        "id": "mg2LFC_ks3kF",
        "colab_type": "text"
      },
      "source": [
        "# Confusion matrix for logistic regression\n"
      ]
    },
    {
      "cell_type": "code",
      "metadata": {
        "id": "2Mn1_E53s8Ed",
        "colab_type": "code",
        "outputId": "3eccb92f-d9b5-4f77-b13a-6606100ae8f0",
        "colab": {
          "base_uri": "https://localhost:8080/",
          "height": 284
        }
      },
      "source": [
        "\n",
        "# Prepare table\n",
        "# Add a table at the bottom of the axes\n",
        "c_colors = [[\"w\",\"w\"],[ \"w\",\"w\"]]\n",
        "columns = ('True Neutral', 'True Sarcastic')\n",
        "rows = ['Pred Neutral', 'Pred Sarcastic']\n",
        "colors = plt.cm.BuPu(np.linspace(0, 1, len(rows)))\n",
        "plt.axis('tight')\n",
        "plt.axis('off')\n",
        "\n",
        "cell_text = c\n",
        "the_table = plt.table(\n",
        "                      \n",
        "                      cellText=cell_text,\n",
        "                      rowLabels=rows,\n",
        "                      rowColours=colors,\n",
        "                      cellColours = c_colors,\n",
        "                      colColours = colors,\n",
        "                      colWidths = [0.5,0.5,0.5],\n",
        "                      colLabels=columns,\n",
        "                      fontsize = 0.9,\n",
        "                      loc='top')\n",
        "\n",
        "the_table.set_fontsize(13)\n",
        "plt.show()"
      ],
      "execution_count": 0,
      "outputs": [
        {
          "output_type": "display_data",
          "data": {
            "image/png": "[encoded data removed]",
            "text/plain": [
              "<Figure size 432x288 with 1 Axes>"
            ]
          },
          "metadata": {
            "tags": [],
            "needs_background": "light"
          }
        }
      ]
    },
    {
      "cell_type": "code",
      "metadata": {
        "id": "WreRQTlqtFjZ",
        "colab_type": "code",
        "outputId": "6759b046-371f-4a84-fcd5-dd98d0f108a4",
        "colab": {
          "base_uri": "https://localhost:8080/",
          "height": 308
        }
      },
      "source": [
        "\n",
        "# Prepare table\n",
        "# Add a table at the bottom of the axes\n",
        "c_colors = np.asarray([\"w\",\"w\",\"w\",\"w\"]).reshape(4,1)\n",
        "\n",
        "\n",
        "rows = ['Accuracy', 'Precision', 'Recall', 'F1-Score']\n",
        "# Get some pastel shades for the colors\n",
        "colors = plt.cm.BuPu(np.linspace(0, 1, len(rows)))\n",
        "#c_colors = plt.cm.BuPu(np.linspace(0, 1, len(rows)))\n",
        "#r_colors = plt.cm.BuPu(np.linspace(0, 1, len(rows)))\n",
        "plt.axis('tight')\n",
        "plt.axis('off')\n",
        "\n",
        "cell_text = np.asarray([accuracy,precision,recall, f1]).reshape(4,1)\n",
        "the_table = plt.table(\n",
        "                      \n",
        "                      cellText=cell_text,\n",
        "                      rowLabels=rows,\n",
        "                      rowColours=colors,\n",
        "                      cellColours = c_colors,\n",
        "                      colColours = colors,\n",
        "                      colWidths = [0.8,0.8],\n",
        "                      \n",
        "                      fontsize = 0.9,\n",
        "                      loc='top')\n",
        "\n",
        "the_table.set_fontsize(13)\n",
        "plt.show()"
      ],
      "execution_count": 0,
      "outputs": [
        {
          "output_type": "display_data",
          "data": {
            "image/png": "[encoded data removed]",
            "text/plain": [
              "<Figure size 432x288 with 1 Axes>"
            ]
          },
          "metadata": {
            "tags": [],
            "needs_background": "light"
          }
        }
      ]
    },
    {
      "cell_type": "markdown",
      "metadata": {
        "id": "BVkjM56BrtWK",
        "colab_type": "text"
      },
      "source": [
        "# Confusion matrix for KNN"
      ]
    },
    {
      "cell_type": "markdown",
      "metadata": {
        "id": "eCFqLrwjOW91",
        "colab_type": "text"
      },
      "source": [
        "# K = 1"
      ]
    },
    {
      "cell_type": "code",
      "metadata": {
        "id": "vVLeDfWkOW6e",
        "colab_type": "code",
        "outputId": "76226b18-9448-4faf-ee4b-7a796e9563a4",
        "colab": {
          "base_uri": "https://localhost:8080/",
          "height": 284
        }
      },
      "source": [
        "\n",
        "# Prepare table\n",
        "# Add a table at the bottom of the axes\n",
        "c_colors = [[\"w\",\"w\"],[ \"w\",\"w\"]]\n",
        "columns = ('True Neutral', 'True Sarcastic')\n",
        "rows = ['Pred Neutral', 'Pred Sarcastic']\n",
        "colors = plt.cm.BuPu(np.linspace(0, 1, len(rows)))\n",
        "plt.axis('tight')\n",
        "plt.axis('off')\n",
        "\n",
        "cell_text = c\n",
        "the_table = plt.table(\n",
        "                      \n",
        "                      cellText=cell_text,\n",
        "                      rowLabels=rows,\n",
        "                      rowColours=colors,\n",
        "                      cellColours = c_colors,\n",
        "                      colColours = colors,\n",
        "                      colWidths = [0.5,0.5,0.5],\n",
        "                      colLabels=columns,\n",
        "                      fontsize = 0.9,\n",
        "                      loc='top')\n",
        "\n",
        "the_table.set_fontsize(13)\n",
        "plt.show()"
      ],
      "execution_count": 0,
      "outputs": [
        {
          "output_type": "display_data",
          "data": {
            "image/png": "[encoded data removed]",
            "text/plain": [
              "<Figure size 432x288 with 1 Axes>"
            ]
          },
          "metadata": {
            "tags": [],
            "needs_background": "light"
          }
        }
      ]
    },
    {
      "cell_type": "code",
      "metadata": {
        "id": "ffEh4O9vOW2d",
        "colab_type": "code",
        "outputId": "81c05e1e-41d0-4dc2-e4ed-e551efa63c1f",
        "colab": {
          "base_uri": "https://localhost:8080/",
          "height": 308
        }
      },
      "source": [
        "\n",
        "# Prepare table\n",
        "# Add a table at the bottom of the axes\n",
        "c_colors = np.asarray([\"w\",\"w\",\"w\",\"w\"]).reshape(4,1)\n",
        "\n",
        "\n",
        "rows = ['Accuracy', 'Precision', 'Recall', 'F1-Score']\n",
        "# Get some pastel shades for the colors\n",
        "colors = plt.cm.BuPu(np.linspace(0, 1, len(rows)))\n",
        "#c_colors = plt.cm.BuPu(np.linspace(0, 1, len(rows)))\n",
        "#r_colors = plt.cm.BuPu(np.linspace(0, 1, len(rows)))\n",
        "plt.axis('tight')\n",
        "plt.axis('off')\n",
        "\n",
        "cell_text = np.asarray([accuracy,precision,recall, f1]).reshape(4,1)\n",
        "the_table = plt.table(\n",
        "                      \n",
        "                      cellText=cell_text,\n",
        "                      rowLabels=rows,\n",
        "                      rowColours=colors,\n",
        "                      cellColours = c_colors,\n",
        "                      colColours = colors,\n",
        "                      colWidths = [0.8,0.8],\n",
        "                      \n",
        "                      fontsize = 0.9,\n",
        "                      loc='top')\n",
        "\n",
        "the_table.set_fontsize(13)\n",
        "plt.show()"
      ],
      "execution_count": 0,
      "outputs": [
        {
          "output_type": "display_data",
          "data": {
            "image/png": "[encoded data removed]",
            "text/plain": [
              "<Figure size 432x288 with 1 Axes>"
            ]
          },
          "metadata": {
            "tags": [],
            "needs_background": "light"
          }
        }
      ]
    },
    {
      "cell_type": "markdown",
      "metadata": {
        "id": "vu7lVvLgOWyt",
        "colab_type": "text"
      },
      "source": [
        "# K = 3"
      ]
    },
    {
      "cell_type": "code",
      "metadata": {
        "id": "Lq2sJji-O9ES",
        "colab_type": "code",
        "outputId": "177056e5-f3af-4116-f72b-1091f93e01b8",
        "colab": {
          "base_uri": "https://localhost:8080/",
          "height": 284
        }
      },
      "source": [
        "\n",
        "# Prepare table\n",
        "# Add a table at the bottom of the axes\n",
        "c_colors = [[\"w\",\"w\"],[ \"w\",\"w\"]]\n",
        "columns = ('True Neutral', 'True Sarcastic')\n",
        "rows = ['Pred Neutral', 'Pred Sarcastic']\n",
        "colors = plt.cm.BuPu(np.linspace(0, 1, len(rows)))\n",
        "plt.axis('tight')\n",
        "plt.axis('off')\n",
        "\n",
        "cell_text = c\n",
        "the_table = plt.table(\n",
        "                      \n",
        "                      cellText=cell_text,\n",
        "                      rowLabels=rows,\n",
        "                      rowColours=colors,\n",
        "                      cellColours = c_colors,\n",
        "                      colColours = colors,\n",
        "                      colWidths = [0.5,0.5,0.5],\n",
        "                      colLabels=columns,\n",
        "                      fontsize = 0.9,\n",
        "                      loc='top')\n",
        "\n",
        "the_table.set_fontsize(13)\n",
        "plt.show()"
      ],
      "execution_count": 0,
      "outputs": [
        {
          "output_type": "display_data",
          "data": {
            "image/png": "[encoded data removed]",
            "text/plain": [
              "<Figure size 432x288 with 1 Axes>"
            ]
          },
          "metadata": {
            "tags": [],
            "needs_background": "light"
          }
        }
      ]
    },
    {
      "cell_type": "code",
      "metadata": {
        "id": "s7a_UsjkOWqW",
        "colab_type": "code",
        "outputId": "138d40ec-e0fc-4a17-e57d-d23b1de977f8",
        "colab": {
          "base_uri": "https://localhost:8080/",
          "height": 308
        }
      },
      "source": [
        "\n",
        "# Prepare table\n",
        "# Add a table at the bottom of the axes\n",
        "c_colors = np.asarray([\"w\",\"w\",\"w\",\"w\"]).reshape(4,1)\n",
        "\n",
        "\n",
        "rows = ['Accuracy', 'Precision', 'Recall', 'F1-Score']\n",
        "# Get some pastel shades for the colors\n",
        "colors = plt.cm.BuPu(np.linspace(0, 1, len(rows)))\n",
        "#c_colors = plt.cm.BuPu(np.linspace(0, 1, len(rows)))\n",
        "#r_colors = plt.cm.BuPu(np.linspace(0, 1, len(rows)))\n",
        "plt.axis('tight')\n",
        "plt.axis('off')\n",
        "\n",
        "cell_text = np.asarray([accuracy,precision,recall, f1]).reshape(4,1)\n",
        "the_table = plt.table(\n",
        "                      \n",
        "                      cellText=cell_text,\n",
        "                      rowLabels=rows,\n",
        "                      rowColours=colors,\n",
        "                      cellColours = c_colors,\n",
        "                      colColours = colors,\n",
        "                      colWidths = [0.8,0.8],\n",
        "                      \n",
        "                      fontsize = 0.9,\n",
        "                      loc='top')\n",
        "\n",
        "the_table.set_fontsize(13)\n",
        "plt.show()"
      ],
      "execution_count": 0,
      "outputs": [
        {
          "output_type": "display_data",
          "data": {
            "image/png": "[encoded data removed]",
            "text/plain": [
              "<Figure size 432x288 with 1 Axes>"
            ]
          },
          "metadata": {
            "tags": [],
            "needs_background": "light"
          }
        }
      ]
    },
    {
      "cell_type": "markdown",
      "metadata": {
        "id": "lYN_YJFWPCEi",
        "colab_type": "text"
      },
      "source": [
        "# K = 5"
      ]
    },
    {
      "cell_type": "code",
      "metadata": {
        "id": "XdayV9VpPB-l",
        "colab_type": "code",
        "outputId": "43aaae29-c7b3-4cdf-8986-86ac40ae9044",
        "colab": {
          "base_uri": "https://localhost:8080/",
          "height": 284
        }
      },
      "source": [
        "\n",
        "# Prepare table\n",
        "# Add a table at the bottom of the axes\n",
        "c_colors = [[\"w\",\"w\"],[ \"w\",\"w\"]]\n",
        "columns = ('True Neutral', 'True Sarcastic')\n",
        "rows = ['Pred Neutral', 'Pred Sarcastic']\n",
        "colors = plt.cm.BuPu(np.linspace(0, 1, len(rows)))\n",
        "plt.axis('tight')\n",
        "plt.axis('off')\n",
        "\n",
        "cell_text = c\n",
        "the_table = plt.table(\n",
        "                      \n",
        "                      cellText=cell_text,\n",
        "                      rowLabels=rows,\n",
        "                      rowColours=colors,\n",
        "                      cellColours = c_colors,\n",
        "                      colColours = colors,\n",
        "                      colWidths = [0.5,0.5,0.5],\n",
        "                      colLabels=columns,\n",
        "                      fontsize = 0.9,\n",
        "                      loc='top')\n",
        "\n",
        "the_table.set_fontsize(13)\n",
        "plt.show()"
      ],
      "execution_count": 0,
      "outputs": [
        {
          "output_type": "display_data",
          "data": {
            "image/png": "[encoded data removed]",
            "text/plain": [
              "<Figure size 432x288 with 1 Axes>"
            ]
          },
          "metadata": {
            "tags": [],
            "needs_background": "light"
          }
        }
      ]
    },
    {
      "cell_type": "code",
      "metadata": {
        "id": "lqwb8jyMPBmT",
        "colab_type": "code",
        "outputId": "609a4488-3edd-43c9-fa30-eebefc626efc",
        "colab": {
          "base_uri": "https://localhost:8080/",
          "height": 308
        }
      },
      "source": [
        "\n",
        "# Prepare table\n",
        "# Add a table at the bottom of the axes\n",
        "c_colors = np.asarray([\"w\",\"w\",\"w\",\"w\"]).reshape(4,1)\n",
        "\n",
        "\n",
        "rows = ['Accuracy', 'Precision', 'Recall', 'F1-Score']\n",
        "# Get some pastel shades for the colors\n",
        "colors = plt.cm.BuPu(np.linspace(0, 1, len(rows)))\n",
        "#c_colors = plt.cm.BuPu(np.linspace(0, 1, len(rows)))\n",
        "#r_colors = plt.cm.BuPu(np.linspace(0, 1, len(rows)))\n",
        "plt.axis('tight')\n",
        "plt.axis('off')\n",
        "\n",
        "cell_text = np.asarray([accuracy,precision,recall, f1]).reshape(4,1)\n",
        "the_table = plt.table(\n",
        "                      \n",
        "                      cellText=cell_text,\n",
        "                      rowLabels=rows,\n",
        "                      rowColours=colors,\n",
        "                      cellColours = c_colors,\n",
        "                      colColours = colors,\n",
        "                      colWidths = [0.8,0.8],\n",
        "                      \n",
        "                      fontsize = 0.9,\n",
        "                      loc='top')\n",
        "\n",
        "the_table.set_fontsize(13)\n",
        "plt.show()"
      ],
      "execution_count": 0,
      "outputs": [
        {
          "output_type": "display_data",
          "data": {
            "image/png": "[encoded data removed]",
            "text/plain": [
              "<Figure size 432x288 with 1 Axes>"
            ]
          },
          "metadata": {
            "tags": [],
            "needs_background": "light"
          }
        }
      ]
    },
    {
      "cell_type": "code",
      "metadata": {
        "id": "ObTrznr7PAsP",
        "colab_type": "code",
        "colab": {}
      },
      "source": [
        ""
      ],
      "execution_count": 0,
      "outputs": []
    },
    {
      "cell_type": "markdown",
      "metadata": {
        "id": "fMXYnGJiPHyF",
        "colab_type": "text"
      },
      "source": [
        "# K = 7"
      ]
    },
    {
      "cell_type": "code",
      "metadata": {
        "id": "t7l0n5pLPJjl",
        "colab_type": "code",
        "outputId": "656179ac-afea-4968-f43c-8d178ac7fd4f",
        "colab": {
          "base_uri": "https://localhost:8080/",
          "height": 284
        }
      },
      "source": [
        "\n",
        "# Prepare table\n",
        "# Add a table at the bottom of the axes\n",
        "c_colors = [[\"w\",\"w\"],[ \"w\",\"w\"]]\n",
        "columns = ('True Neutral', 'True Sarcastic')\n",
        "rows = ['Pred Neutral', 'Pred Sarcastic']\n",
        "colors = plt.cm.BuPu(np.linspace(0, 1, len(rows)))\n",
        "plt.axis('tight')\n",
        "plt.axis('off')\n",
        "\n",
        "cell_text = c\n",
        "the_table = plt.table(\n",
        "                      \n",
        "                      cellText=cell_text,\n",
        "                      rowLabels=rows,\n",
        "                      rowColours=colors,\n",
        "                      cellColours = c_colors,\n",
        "                      colColours = colors,\n",
        "                      colWidths = [0.5,0.5,0.5],\n",
        "                      colLabels=columns,\n",
        "                      fontsize = 0.9,\n",
        "                      loc='top')\n",
        "\n",
        "the_table.set_fontsize(13)\n",
        "plt.show()"
      ],
      "execution_count": 0,
      "outputs": [
        {
          "output_type": "display_data",
          "data": {
            "image/png": "[encoded data removed]",
            "text/plain": [
              "<Figure size 432x288 with 1 Axes>"
            ]
          },
          "metadata": {
            "tags": [],
            "needs_background": "light"
          }
        }
      ]
    },
    {
      "cell_type": "code",
      "metadata": {
        "id": "axy4C6H3PJfI",
        "colab_type": "code",
        "outputId": "262773ec-165e-483d-d327-d25f87c2dea3",
        "colab": {
          "base_uri": "https://localhost:8080/",
          "height": 308
        }
      },
      "source": [
        "\n",
        "# Prepare table\n",
        "# Add a table at the bottom of the axes\n",
        "c_colors = np.asarray([\"w\",\"w\",\"w\",\"w\"]).reshape(4,1)\n",
        "\n",
        "\n",
        "rows = ['Accuracy', 'Precision', 'Recall', 'F1-Score']\n",
        "# Get some pastel shades for the colors\n",
        "colors = plt.cm.BuPu(np.linspace(0, 1, len(rows)))\n",
        "#c_colors = plt.cm.BuPu(np.linspace(0, 1, len(rows)))\n",
        "#r_colors = plt.cm.BuPu(np.linspace(0, 1, len(rows)))\n",
        "plt.axis('tight')\n",
        "plt.axis('off')\n",
        "\n",
        "cell_text = np.asarray([accuracy,precision,recall, f1]).reshape(4,1)\n",
        "the_table = plt.table(\n",
        "                      \n",
        "                      cellText=cell_text,\n",
        "                      rowLabels=rows,\n",
        "                      rowColours=colors,\n",
        "                      cellColours = c_colors,\n",
        "                      colColours = colors,\n",
        "                      colWidths = [0.8,0.8],\n",
        "                      \n",
        "                      fontsize = 0.9,\n",
        "                      loc='top')\n",
        "\n",
        "the_table.set_fontsize(13)\n",
        "plt.show()"
      ],
      "execution_count": 0,
      "outputs": [
        {
          "output_type": "display_data",
          "data": {
            "image/png": "[encoded data removed]",
            "text/plain": [
              "<Figure size 432x288 with 1 Axes>"
            ]
          },
          "metadata": {
            "tags": [],
            "needs_background": "light"
          }
        }
      ]
    },
    {
      "cell_type": "code",
      "metadata": {
        "id": "Y8ergJ7dPJY9",
        "colab_type": "code",
        "colab": {}
      },
      "source": [
        ""
      ],
      "execution_count": 0,
      "outputs": []
    },
    {
      "cell_type": "markdown",
      "metadata": {
        "id": "37awJuxXs27I",
        "colab_type": "text"
      },
      "source": [
        "# K = 10"
      ]
    },
    {
      "cell_type": "code",
      "metadata": {
        "id": "WFYoDy3_J-V5",
        "colab_type": "code",
        "outputId": "ffa47246-1390-4c62-eb98-94eaddfd3df0",
        "colab": {
          "base_uri": "https://localhost:8080/",
          "height": 284
        }
      },
      "source": [
        "\n",
        "# Prepare table\n",
        "# Add a table at the bottom of the axes\n",
        "c_colors = [[\"w\",\"w\"],[ \"w\",\"w\"]]\n",
        "columns = ('True Neutral', 'True Sarcastic')\n",
        "rows = ['Pred Neutral', 'Pred Sarcastic']\n",
        "colors = plt.cm.BuPu(np.linspace(0, 1, len(rows)))\n",
        "plt.axis('tight')\n",
        "plt.axis('off')\n",
        "\n",
        "cell_text = c\n",
        "the_table = plt.table(\n",
        "                      \n",
        "                      cellText=cell_text,\n",
        "                      rowLabels=rows,\n",
        "                      rowColours=colors,\n",
        "                      cellColours = c_colors,\n",
        "                      colColours = colors,\n",
        "                      colWidths = [0.5,0.5,0.5],\n",
        "                      colLabels=columns,\n",
        "                      fontsize = 0.9,\n",
        "                      loc='top')\n",
        "\n",
        "the_table.set_fontsize(13)\n",
        "plt.show()"
      ],
      "execution_count": 0,
      "outputs": [
        {
          "output_type": "display_data",
          "data": {
            "image/png": "[encoded data removed]",
            "text/plain": [
              "<Figure size 432x288 with 1 Axes>"
            ]
          },
          "metadata": {
            "tags": [],
            "needs_background": "light"
          }
        }
      ]
    },
    {
      "cell_type": "markdown",
      "metadata": {
        "id": "favxVBRnM3y7",
        "colab_type": "text"
      },
      "source": [
        "# Plotting the metrics"
      ]
    },
    {
      "cell_type": "code",
      "metadata": {
        "id": "NDbiOd4q3F2A",
        "colab_type": "code",
        "outputId": "85ccbdd9-ea7b-457c-d415-6fe57bd0a0ec",
        "colab": {
          "base_uri": "https://localhost:8080/",
          "height": 308
        }
      },
      "source": [
        "\n",
        "# Prepare table\n",
        "# Add a table at the bottom of the axes\n",
        "c_colors = np.asarray([\"w\",\"w\",\"w\",\"w\"]).reshape(4,1)\n",
        "\n",
        "\n",
        "rows = ['Accuracy', 'Precision', 'Recall', 'F1-Score']\n",
        "# Get some pastel shades for the colors\n",
        "colors = plt.cm.BuPu(np.linspace(0, 1, len(rows)))\n",
        "#c_colors = plt.cm.BuPu(np.linspace(0, 1, len(rows)))\n",
        "#r_colors = plt.cm.BuPu(np.linspace(0, 1, len(rows)))\n",
        "plt.axis('tight')\n",
        "plt.axis('off')\n",
        "\n",
        "cell_text = np.asarray([accuracy,precision,recall, f1]).reshape(4,1)\n",
        "the_table = plt.table(\n",
        "                      \n",
        "                      cellText=cell_text,\n",
        "                      rowLabels=rows,\n",
        "                      rowColours=colors,\n",
        "                      cellColours = c_colors,\n",
        "                      colColours = colors,\n",
        "                      colWidths = [0.8,0.8],\n",
        "                      \n",
        "                      fontsize = 0.9,\n",
        "                      loc='top')\n",
        "\n",
        "the_table.set_fontsize(13)\n",
        "plt.show()"
      ],
      "execution_count": 0,
      "outputs": [
        {
          "output_type": "display_data",
          "data": {
            "image/png": "[encoded data removed]",
            "text/plain": [
              "<Figure size 432x288 with 1 Axes>"
            ]
          },
          "metadata": {
            "tags": [],
            "needs_background": "light"
          }
        }
      ]
    },
    {
      "cell_type": "markdown",
      "metadata": {
        "id": "0zKT3zw8Sqxv",
        "colab_type": "text"
      },
      "source": [
        "# Perceptron"
      ]
    },
    {
      "cell_type": "code",
      "metadata": {
        "id": "1YprBoQfSjuq",
        "colab_type": "code",
        "colab": {}
      },
      "source": [
        "weights = np.zeros(len(train_headlines_vec[0]))"
      ],
      "execution_count": 0,
      "outputs": []
    },
    {
      "cell_type": "code",
      "metadata": {
        "id": "fO3v4VP0TN1Y",
        "colab_type": "code",
        "colab": {}
      },
      "source": [
        "train_labels_char = train_labels\n",
        "test_labels_char = test_labels\n",
        "\n",
        "train_labels = np.zeros(len(train_labels_char))\n",
        "test_labels = np.zeros(len(test_labels_char))\n",
        "\n",
        "for x in range (len(train_labels_char)):\n",
        "  if (train_labels_char[x] == '0'):\n",
        "    train_labels[x] = -1;\n",
        "  else:\n",
        "    train_labels[x] = 1;\n",
        "\n",
        "for x in range (len(test_labels_char)):\n",
        "  if (test_labels_char[x] == '0'):\n",
        "    test_labels[x] = -1;\n",
        "  else:\n",
        "    test_labels[x] = 1;"
      ],
      "execution_count": 0,
      "outputs": []
    },
    {
      "cell_type": "code",
      "metadata": {
        "id": "iCt8PFa2ZVIA",
        "colab_type": "code",
        "colab": {}
      },
      "source": [
        "ech = 0;\n",
        "while (1):\n",
        "  for x in range(len(train_headlines_vec)):\n",
        "    if ((train_labels[x]) * (np.dot(weights,train_headlines_vec[x]))  <= 0):\n",
        "      weights = weights + (train_labels[x]  * train_headlines_vec[x]);\n",
        "  ech +=1\n",
        "  if (ech == 5000):\n",
        "    break;  "
      ],
      "execution_count": 0,
      "outputs": []
    },
    {
      "cell_type": "code",
      "metadata": {
        "id": "6gJWRYNhCdUX",
        "colab_type": "code",
        "colab": {}
      },
      "source": [
        "tp = 0\n",
        "tn = 0\n",
        "fp =0\n",
        "fn = 0\n",
        "\n",
        "for x in range(len(test_headlines_vec)):\n",
        "\n",
        "  if (test_labels[x]== 1):\n",
        "    if (np.dot(weights,test_headlines_vec[x]) > 0):\n",
        "      tp += 1 \n",
        "    else:\n",
        "      fn += 1 \n",
        "\n",
        "  elif (np.dot(weights,test_headlines_vec[x]) < 0):\n",
        "      tn +=1 \n",
        "  else:\n",
        "      fp +=1"
      ],
      "execution_count": 0,
      "outputs": []
    },
    {
      "cell_type": "code",
      "metadata": {
        "id": "h0CZOorptQjF",
        "colab_type": "code",
        "colab": {}
      },
      "source": [
        "conf_matrix = np.array([[tp,fp ] ,[fn, tn]])"
      ],
      "execution_count": 0,
      "outputs": []
    },
    {
      "cell_type": "code",
      "metadata": {
        "id": "4E7IG-egeVxh",
        "colab_type": "code",
        "outputId": "b6a67915-24d6-4cc8-ecfc-94099832ce3b",
        "colab": {
          "base_uri": "https://localhost:8080/",
          "height": 83
        }
      },
      "source": [
        "a = (tp+tn)/(tp+tn+fp+fn) * 100\n",
        "print(\"Accuracy: \", a , \" percent\" )\n",
        "p = tp/(tp+fp)\n",
        "r = tp/(tp + fn)\n",
        "print(\"Precision: \", p )\n",
        "print(\"Recall: \",r)\n",
        "f1 = 2* (p*r)/(p + r)\n",
        "print(\"F1 Score: \", f1)\n",
        "  "
      ],
      "execution_count": 0,
      "outputs": [
        {
          "output_type": "stream",
          "text": [
            "Accuracy:  61.34571578762923  percent\n",
            "Precision:  0.5623935782048164\n",
            "Recall:  0.8503126149319603\n",
            "F1 Score:  0.6770131771595901\n"
          ],
          "name": "stdout"
        }
      ]
    },
    {
      "cell_type": "code",
      "metadata": {
        "id": "pa5BlFShswK8",
        "colab_type": "code",
        "outputId": "01a25efc-8852-4e15-c9a8-450420d22b2e",
        "colab": {
          "base_uri": "https://localhost:8080/",
          "height": 284
        }
      },
      "source": [
        "# Prepare table\n",
        "# Add a table at the bottom of the axes\n",
        "c_colors = [[\"w\",\"w\"],[ \"w\",\"w\"]]\n",
        "columns = ('True Neutral', 'True Sarcastic')\n",
        "rows = ['Pred Neutral', 'Pred Sarcastic']\n",
        "colors = plt.cm.BuPu(np.linspace(0, 1, len(rows)))\n",
        "plt.axis('tight')\n",
        "plt.axis('off')\n",
        "\n",
        "cell_text = conf_matrix\n",
        "the_table = plt.table(\n",
        "                      \n",
        "                      cellText=cell_text,\n",
        "                      rowLabels=rows,\n",
        "                      rowColours=colors,\n",
        "                      cellColours = c_colors,\n",
        "                      colColours = colors,\n",
        "                      colWidths = [0.5,0.5,0.5],\n",
        "                      colLabels=columns,\n",
        "                      fontsize = 0.9,\n",
        "                      loc='top')\n",
        "\n",
        "the_table.set_fontsize(13)\n",
        "plt.show()"
      ],
      "execution_count": 0,
      "outputs": [
        {
          "output_type": "display_data",
          "data": {
            "image/png": "[encoded data removed]",
            "text/plain": [
              "<Figure size 432x288 with 1 Axes>"
            ]
          },
          "metadata": {
            "tags": [],
            "needs_background": "light"
          }
        }
      ]
    },
    {
      "cell_type": "code",
      "metadata": {
        "id": "XMtMBcfss02S",
        "colab_type": "code",
        "outputId": "9613ebc8-bdbf-4cfd-cedc-d8fe1087c376",
        "colab": {
          "base_uri": "https://localhost:8080/",
          "height": 308
        }
      },
      "source": [
        "\n",
        "# Prepare table\n",
        "# Add a table at the bottom of the axes\n",
        "c_colors = np.asarray([\"w\",\"w\",\"w\",\"w\"]).reshape(4,1)\n",
        "\n",
        "\n",
        "rows = ['Accuracy', 'Precision', 'Recall', 'F1-Score']\n",
        "# Get some pastel shades for the colors\n",
        "colors = plt.cm.BuPu(np.linspace(0, 1, len(rows)))\n",
        "#c_colors = plt.cm.BuPu(np.linspace(0, 1, len(rows)))\n",
        "#r_colors = plt.cm.BuPu(np.linspace(0, 1, len(rows)))\n",
        "plt.axis('tight')\n",
        "plt.axis('off')\n",
        "\n",
        "cell_text = np.asarray([a,p,r, f1]).reshape(4,1)\n",
        "the_table = plt.table(\n",
        "                      \n",
        "                      cellText=cell_text,\n",
        "                      rowLabels=rows,\n",
        "                      rowColours=colors,\n",
        "                      cellColours = c_colors,\n",
        "                      colColours = colors,\n",
        "                      colWidths = [0.8,0.8],\n",
        "                      \n",
        "                      fontsize = 0.9,\n",
        "                      loc='top')\n",
        "\n",
        "the_table.set_fontsize(13)\n",
        "plt.show()"
      ],
      "execution_count": 0,
      "outputs": [
        {
          "output_type": "display_data",
          "data": {
            "image/png": "[encoded data removed]",
            "text/plain": [
              "<Figure size 432x288 with 1 Axes>"
            ]
          },
          "metadata": {
            "tags": [],
            "needs_background": "light"
          }
        }
      ]
    },
    {
      "cell_type": "code",
      "metadata": {
        "id": "oJ92xDR_tssv",
        "colab_type": "code",
        "colab": {}
      },
      "source": [
        ""
      ],
      "execution_count": 0,
      "outputs": []
    }
  ]
}