{
 "cells": [
  {
   "cell_type": "code",
   "execution_count": 0,
   "metadata": {
    "colab": {},
    "colab_type": "code",
    "id": "kRXl94rvUYAP"
   },
   "outputs": [],
   "source": [
    "import numpy as np\n",
    "import matplotlib.pyplot as plt\n",
    "import string\n",
    "import csv\n",
    "import collections\n"
   ]
  },
  {
   "cell_type": "code",
   "execution_count": 665,
   "metadata": {
    "colab": {
     "base_uri": "https://localhost:8080/",
     "height": 33
    },
    "colab_type": "code",
    "id": "ndll7poaWgks",
    "outputId": "6d95efd6-a8a6-450d-d431-128b03ab598f"
   },
   "outputs": [
    {
     "name": "stdout",
     "output_type": "stream",
     "text": [
      "Drive already mounted at /content/drive; to attempt to forcibly remount, call drive.mount(\"/content/drive\", force_remount=True).\n"
     ]
    }
   ],
   "source": [
    "from google.colab import drive\n",
    "drive.mount('/content/drive')"
   ]
  },
  {
   "cell_type": "markdown",
   "metadata": {
    "colab_type": "text",
    "id": "lorxB-NlvZhh"
   },
   "source": [
    "# Hyperparameters and intitializations"
   ]
  },
  {
   "cell_type": "code",
   "execution_count": 0,
   "metadata": {
    "colab": {},
    "colab_type": "code",
    "id": "DQJxkzOavfqx"
   },
   "outputs": [],
   "source": [
    "classes = 3\n",
    "batch_size = 32"
   ]
  },
  {
   "cell_type": "markdown",
   "metadata": {
    "colab_type": "text",
    "id": "oj3wK8M_vxh8"
   },
   "source": [
    "# Important functions"
   ]
  },
  {
   "cell_type": "code",
   "execution_count": 0,
   "metadata": {
    "colab": {},
    "colab_type": "code",
    "id": "YbYqmHZyvxrk"
   },
   "outputs": [],
   "source": [
    "def accuracy(preds,true):\n",
    "  correct = 0\n",
    "  l = preds.shape[0]\n",
    "  for ex in range(l):\n",
    "    if (preds[ex] == true[ex]).all():\n",
    "      correct+=1\n",
    "  print(correct, \" of\", l, \"predictions were correct\")    \n",
    "  acc = (correct/l)\n",
    "  return acc    \n",
    "\n",
    "\n",
    "\n",
    "def Softmax(logits):\n",
    "    Max = np.max(logits,axis=1)\n",
    "    logits= logits- Max.reshape(Max.shape[0],1)\n",
    "    fin = np.sum(np.exp(logits), axis=1)\n",
    "    return np.exp(logits) / fin.reshape(fin.shape[0],1)\n",
    "\n",
    "def cross_entropy_loss(y_true,y_pred):\n",
    "  return -(y_true * np.log2(y_pred+1e-50)).sum()\n",
    "\n"
   ]
  },
  {
   "cell_type": "markdown",
   "metadata": {
    "colab_type": "text",
    "id": "NIIKckq1vq5l"
   },
   "source": [
    "# Batch Generator"
   ]
  },
  {
   "cell_type": "code",
   "execution_count": 0,
   "metadata": {
    "colab": {},
    "colab_type": "code",
    "id": "8JjdV2S3vnI-"
   },
   "outputs": [],
   "source": [
    "def data_generator(df,labels,batch_size = 32):\n",
    "\n",
    "  while True:\n",
    "    start = 0\n",
    "    stop = batch_size\n",
    "\n",
    "    total_batches = int(np.ceil(df.shape[0] / batch_size))\n",
    "\n",
    "    for i in range(total_batches):\n",
    "      if i == total_batches-1:\n",
    "          yield (df[start:,:],labels[start:,:])\n",
    "      else:        \n",
    "          yield (df[start:stop,:],labels[start:stop,:])\n",
    "      start = stop\n",
    "      stop+= batch_size\n",
    "  \n"
   ]
  },
  {
   "cell_type": "code",
   "execution_count": 0,
   "metadata": {
    "colab": {},
    "colab_type": "code",
    "id": "YWVUb4pZctgc"
   },
   "outputs": [],
   "source": [
    "tweets = []\n",
    "labels = []"
   ]
  },
  {
   "cell_type": "code",
   "execution_count": 0,
   "metadata": {
    "colab": {},
    "colab_type": "code",
    "id": "1yrGNnJ4VRFP"
   },
   "outputs": [],
   "source": [
    "#Loadind the files\n",
    "with open('/content/drive/My Drive/Tweets.csv') as tw:\n",
    "  data = csv.reader(tw)\n",
    "  for row in data:\n",
    "    labels.append(row[0])\n",
    "    tweets.append(row[1])"
   ]
  },
  {
   "cell_type": "code",
   "execution_count": 0,
   "metadata": {
    "colab": {},
    "colab_type": "code",
    "id": "bvqOuT2Sd_j0"
   },
   "outputs": [],
   "source": [
    "#Converting labels to coded labels\n",
    "\n",
    "for r in range(len(labels)):\n",
    "  if labels[r] == 'negative':\n",
    "    labels[r] = 0\n",
    "  if labels[r] == 'neutral':\n",
    "    labels[r] = 1\n",
    "  if labels[r] == 'positive':\n",
    "    labels[r] = 2\n",
    "        "
   ]
  },
  {
   "cell_type": "code",
   "execution_count": 0,
   "metadata": {
    "colab": {},
    "colab_type": "code",
    "id": "QVzteRtdhl0S"
   },
   "outputs": [],
   "source": [
    "#Deleting the header\n",
    "tweets = np.asarray(np.delete(tweets,0))\n",
    "labels = np.asarray(np.delete(labels,0),dtype=int)\n"
   ]
  },
  {
   "cell_type": "markdown",
   "metadata": {
    "colab_type": "text",
    "id": "xZvEjsbW5Meq"
   },
   "source": [
    "# - Dataset Splitting function"
   ]
  },
  {
   "cell_type": "code",
   "execution_count": 0,
   "metadata": {
    "colab": {},
    "colab_type": "code",
    "id": "0tk3CbFT5PLv"
   },
   "outputs": [],
   "source": [
    "def split_data(tweets,labels):\n",
    "\n",
    "    # Counting total instances of each class\n",
    "  neg = np.count_nonzero(labels == 0)\n",
    "  neut = np.count_nonzero(labels == 1)\n",
    "  pos = np.count_nonzero(labels == 2)\n",
    "\n",
    "  # Sorting arrays so we can split the data\n",
    "\n",
    "  sort_indices = np.argsort(labels)\n",
    "  labels = labels[sort_indices]\n",
    "  tweets = tweets[sort_indices]\n",
    "\n",
    "  # Splitting train/test 80-20\n",
    "  neg_tweets = tweets[0:neg]\n",
    "  neg_labels = labels[0:neg]\n",
    "  neut_tweets = tweets[neg:neg+neut]\n",
    "  neut_labels = labels[neg:neg+neut]\n",
    "  pos_tweets = tweets[neut+neg:]\n",
    "  pos_labels = labels[neut+neg:]\n",
    "\n",
    "\n",
    "  neg_num = int(np.ceil(0.95*neg))\n",
    "  neut_num = int(np.ceil(0.95*neut))\n",
    "  pos_num = int(np.ceil(0.95*pos))\n",
    "\n",
    "  neg_train = neg_tweets[0:neg_num]\n",
    "  neg_train_l = neg_labels[0:neg_num]\n",
    "\n",
    "  neg_test = neg_tweets[neg_num:]\n",
    "  neg_test_l = neg_labels[neg_num:]\n",
    "\n",
    "  neut_train = neut_tweets[0:neut_num]\n",
    "  neut_train_l = neut_labels[0:neut_num]\n",
    "\n",
    "  neut_test = neut_tweets[neut_num:]\n",
    "  neut_test_l = neut_labels[neut_num:]\n",
    "\n",
    "                        \n",
    "  pos_train = pos_tweets[0:pos_num]\n",
    "  pos_train_l = pos_labels[0:pos_num]\n",
    "\n",
    "  pos_test = pos_tweets[pos_num:]\n",
    "  pos_test_l = pos_labels[pos_num:]\n",
    "\n",
    "\n",
    "  train_data = np.hstack([neg_train,neut_train,pos_train])\n",
    "  train_labels = np.hstack([neg_train_l,neut_train_l,pos_train_l])\n",
    "  test_data = np.hstack([neg_test,neut_test,pos_test])\n",
    "  test_labels = np.hstack([neg_test_l,neut_test_l,pos_test_l])\n",
    "\n",
    "  # Sanity check\n",
    "  print(len(train_data)+len(test_data),len(labels))\n",
    "\n",
    "\n",
    "  #ONE hot\n",
    "  shape = (train_labels.shape[0],classes)\n",
    "  encoded = np.zeros(shape)\n",
    "  rows = np.arange(train_labels.shape[0])\n",
    "  encoded[rows,train_labels] = 1\n",
    "  train_labels = encoded\n",
    "\n",
    "\n",
    "  shape = (test_labels.shape[0],classes)\n",
    "  encoded = np.zeros(shape)\n",
    "  rows = np.arange(test_labels.shape[0])\n",
    "  encoded[rows,test_labels] = 1\n",
    "  test_labels = encoded\n",
    "\n",
    "  # Shuffling the data\n",
    "\n",
    "  index = np.arange(train_labels.shape[0])\n",
    "  np.random.shuffle(index)\n",
    "  train_labels = train_labels[index]\n",
    "  train_data = train_data[index]\n",
    "\n",
    "  index = np.arange(test_labels.shape[0])\n",
    "  np.random.shuffle(index)\n",
    "  test_labels = test_labels[index]\n",
    "  test_data = test_data[index]\n",
    "\n",
    "\n",
    "  return train_labels, train_data, test_labels, test_data"
   ]
  },
  {
   "cell_type": "markdown",
   "metadata": {
    "colab_type": "text",
    "id": "-8tY6Tt3kUq4"
   },
   "source": [
    "# Dataset Preprocessing function"
   ]
  },
  {
   "cell_type": "code",
   "execution_count": 0,
   "metadata": {
    "colab": {},
    "colab_type": "code",
    "id": "GQogjYfB8inW"
   },
   "outputs": [],
   "source": [
    "neu_Emo=list(np.unique(('👉,🚪,👀,😔,😊,✈️').split(\",\")))\n",
    "pos_Emo=list(np.unique(('💜,✅,💗,💗,💘,💙,✔️,♥,💯,👍,💜✈,😘,⭐️,🙌,😆,😀,😎,👌,❤,💙,💝,😍,💕,😁,😋,👏,🌟,😅,😃,😳,😎,🙉,😻,💔,😜,😄,😆,😜,☀️,😁,😆,🎉,🍷,😀,💁,😂,😉,😮,😲,🎵,🍸,😉,😃,😂,😄,🎲,✌️').split(\",\")))\n",
    "neg_Emo=list(np.unique(('❌,🚫,😫,😣,:(,😡,❌,😠,😷,👎,😕,😭,😢,😩,😵,😑,😐,😒,🙏,😤,😡,😖,😩,😞,👿,😥,😒,😷,😑,😩,😏').split(\",\")))\n",
    "\n"
   ]
  },
  {
   "cell_type": "code",
   "execution_count": 0,
   "metadata": {
    "colab": {},
    "colab_type": "code",
    "id": "HEyaZ70K86SP"
   },
   "outputs": [],
   "source": [
    "pos_em = '😁'\n",
    "neg_em = '😫'\n",
    "neut_em = '👀'"
   ]
  },
  {
   "cell_type": "code",
   "execution_count": 0,
   "metadata": {
    "colab": {},
    "colab_type": "code",
    "id": "jtpIGI-SFfUg"
   },
   "outputs": [],
   "source": []
  },
  {
   "cell_type": "code",
   "execution_count": 0,
   "metadata": {
    "colab": {},
    "colab_type": "code",
    "id": "z45NNLkNvf0b"
   },
   "outputs": [],
   "source": [
    "ignore_list = [\"a\", \"is,\" \"about\", \"above\", \"after\", \"again\", \"against\", \"ain\", \"all\", \"am\", \"an\", \"and\", \"any\", \"are\", \"aren\", \"aren't\", \"as\", \"at\", \"be\", \"because\", \"been\", \"before\", \"being\", \"below\", \"between\", \"both\", \"but\", \"by\", \"can\", \"couldn\", \"couldn't\", \"d\", \"did\", \"didn\", \"didn't\", \"do\", \"does\", \"doesn\", \"doesn't\", \"doing\", \"don\", \"don't\", \"down\", \"during\", 'httpt','is','me','amp','hrs','min','via','\"',\"each\", \"few\", \"for\", \"from\", \"further\", \"had\", \"hadn\", \"hadn't\", \"has\", \"hasn\", \"hasn't\", \"have\", \"haven\", \"haven't\", \"having\", \"he\", \"her\", \"here\", \"hers\", \"herself\", \"him\", \"himself\", \"his\", \"how\", \"i\", \"if\", \"in\", \"into\", \"is\", \"isn\", \"isn't\", \"it\", \"it's\", \"its\", \"itself\", \"just\", \"ll\", \"m\", \"ma\", \"me\", \"mightn\", \"mightn't\", \"more\", \"most\", \"mustn\", \"mustn't\", \"my\", \"myself\", \"needn\", \"needn't\", \"no\", \"nor\", \"not\", \"now\", \"o\", \"of\", \"off\", \"on\", \"once\", \"only\", \"or\", \"other\", \"our\", \"ours\", \"ourselves\", \"out\", \"over\", \"own\", \"re\", \"s\", \"same\", \"shan\", \"shan't\", \"she\", \"she's\", \"should\", \"should've\", \"shouldn\", \"shouldn't\", \"so\", \"some\", \"such\", \"t\", \"than\", \"that\", \"that'll\", \"the\", \"their\", \"theirs\", \"them\", \"themselves\", \"then\", \"there\", \"these\", \"they\", \"this\", \"those\", \"through\", \"to\", \"too\", \"under\", \"until\", \"up\", \"ve\", \"very\", \"was\", \"wasn\", \"wasn't\", \"we\", \"were\", \"weren\", \"weren't\", \"what\", \"when\", \"where\", \"which\", \"while\", \"who\", \"whom\", \"why\", \"will\", \"with\", \"won\", \"won't\", \"wouldn\", \"wouldn't\", \"y\", \"you\", \"you'd\", \"you'll\", \"you're\", \"you've\", \"your\", \"yours\", \"yourself\", \"yourselves\", \"could\", \"he'd\", \"he'll\", \"he's\", \"here's\", \"how's\", \"i'd\", \"i'll\", \"i'm\", \"i've\", \"let's\", \"ought\", \"she'd\", \"she'll\", \"that's\", \"there's\", \"they'd\", \"they'll\", \"they're\", \"they've\", \"we'd\", \"we'll\", \"we're\", \"we've\", \"what's\", \"when's\", \"where's\", \"who's\", \"why's\", \"would\",'i', 'me', 'my', 'myself', 'we', 'our', 'ours', 'ourselves', 'you', 'your', 'yours', 'yourself', 'yourselves', 'he', 'him', 'his', 'himself', 'she', 'her', 'hers', 'herself', 'it', 'its', 'itself', 'they', 'them', 'their', 'theirs', 'themselves', 'what', 'which', 'who', 'whom', 'this', 'that', 'these', 'those', 'am', 'is', 'are', 'was', 'were', 'be', 'been', 'being', 'have', 'has', 'had', 'having', 'do', 'does', 'did', 'doing', 'a', 'an', 'the', 'and', 'but', 'if', 'or', 'because', 'as', 'until', 'while', 'of', 'at', 'by', 'for', 'with', 'about', 'against', 'between', 'into', 'through', 'during', 'before', 'after', 'above', 'below', 'to', 'from', 'up', 'down', 'in', 'out', 'on', 'off', 'over', 'under', 'again', 'further', 'then', 'once', 'here', 'there', 'when', 'where', 'why', 'how', 'all', 'any', 'both', 'each', 'few', 'more', 'most', 'other', 'some', 'such', 'no', 'nor', 'not', 'only', 'own', 'same', 'so', 'than', 'too', 'very', 's', 't', 'can', 'will', 'just', 'don', 'should', 'now', 'd', 'll', 'm', 'o', 're', 've', 'y', 'ain', 'aren', 'couldn', 'didn', 'doesn', 'hadn', 'hasn', 'haven', 'isn', 'ma', 'mightn', 'mustn', 'needn', 'shan', 'shouldn', 'wasn', 'weren', 'won', 'wouldn']\n"
   ]
  },
  {
   "cell_type": "code",
   "execution_count": 0,
   "metadata": {
    "colab": {},
    "colab_type": "code",
    "id": "_uB4K4sY7ciL"
   },
   "outputs": [],
   "source": [
    "def make_dictionary(ignore_list, tweets):\n",
    "  dictionary = {}\n",
    "\n",
    "  for i in range(tweets.shape[0]):\n",
    "    out = tweets[i].replace(',', ' ').replace('.', ' ').replace('!', ' ').replace('?', ' ')\n",
    "    final = out.translate(str.maketrans('', '', string.punctuation))\n",
    "    rev = final.split()\n",
    "    for word in rev:\n",
    "      if word in ignore_list:\n",
    "        continue\n",
    "      elif(any(char.isdigit() for char in word)):\n",
    "        continue\n",
    "      if word in pos_Emo:\n",
    "        word = pos_em\n",
    "      elif word in neg_Emo:\n",
    "        word = neg_em\n",
    "      elif word in neu_Emo:\n",
    "        word = neut_em\n",
    "      \n",
    "      if word in dictionary:\n",
    "        dictionary[word] +=1\n",
    "      else:\n",
    "        word = word.lower()\n",
    "        dictionary.update({word:1})    \n",
    "  return dictionary"
   ]
  },
  {
   "cell_type": "code",
   "execution_count": 0,
   "metadata": {
    "colab": {},
    "colab_type": "code",
    "id": "n9-KKMIODLs-"
   },
   "outputs": [],
   "source": [
    "dictionary = make_dictionary(ignore_list,tweets)\n"
   ]
  },
  {
   "cell_type": "code",
   "execution_count": 0,
   "metadata": {
    "colab": {},
    "colab_type": "code",
    "id": "hc3LgvXMlNaW"
   },
   "outputs": [],
   "source": [
    "def sort_by_value(dict_obj):\n",
    "    return collections.OrderedDict(sorted(dict_obj.items(), key=lambda kv: kv[1],reverse=True))"
   ]
  },
  {
   "cell_type": "markdown",
   "metadata": {
    "colab_type": "text",
    "id": "1dCeIJXHW-1o"
   },
   "source": [
    "# Extracting features"
   ]
  },
  {
   "cell_type": "code",
   "execution_count": 0,
   "metadata": {
    "colab": {},
    "colab_type": "code",
    "id": "q2gPrqc7_RXX"
   },
   "outputs": [],
   "source": [
    "def matrix_construct(tweets):\n",
    "\n",
    "  shape = (tweets.shape[0],len(dictionary))\n",
    "  matrix = np.zeros(shape)\n",
    "  ones = np.ones((tweets.shape[0],1))\n",
    "  for i in range(matrix.shape[0]):\n",
    "    out = tweets[i].replace(',', ' ').replace('.', ' ').replace('!', ' ').replace('?',' ')\n",
    "    final = out.translate(str.maketrans('', '', string.punctuation))\n",
    "    rev = final.split()\n",
    "    for word in rev:\n",
    "      if word in ignore_list:\n",
    "        continue\n",
    "      if(any(char.isdigit() for char in word)):\n",
    "        continue  \n",
    "      if word in Pos_Emoji:\n",
    "        word = pos_em\n",
    "      elif word in Neg_Emoji:\n",
    "        word = neg_em\n",
    "      elif word in Neu_Emoji:\n",
    "        word = neut_em  \n",
    "      else:\n",
    "        word = word.lower()\n",
    "        if word in dictionary:\n",
    "          ind = index_list.index(word)\n",
    "          matrix[i,ind] = dictionary[word]\n",
    "  # Adding a column of 1s for b0 weight\n",
    "  matrix = np.hstack([ones,matrix])\n",
    "  return matrix"
   ]
  },
  {
   "cell_type": "markdown",
   "metadata": {
    "colab_type": "text",
    "id": "y7qeTno4CBlp"
   },
   "source": [
    "# Calling our functions"
   ]
  },
  {
   "cell_type": "code",
   "execution_count": 840,
   "metadata": {
    "colab": {
     "base_uri": "https://localhost:8080/",
     "height": 33
    },
    "colab_type": "code",
    "id": "J-aMMtAUCEjJ",
    "outputId": "5f317dfa-e730-441f-afcb-e54a586cca61"
   },
   "outputs": [
    {
     "name": "stdout",
     "output_type": "stream",
     "text": [
      "14640 14640\n"
     ]
    }
   ],
   "source": [
    "train_labels, train_data, test_labels, test_data = split_data(tweets,labels)"
   ]
  },
  {
   "cell_type": "markdown",
   "metadata": {
    "colab_type": "text",
    "id": "WlWB9mfnECIs"
   },
   "source": [
    "# K-Fold cross validation data generator"
   ]
  },
  {
   "cell_type": "code",
   "execution_count": 0,
   "metadata": {
    "colab": {},
    "colab_type": "code",
    "id": "9TOpAOv0B1jB"
   },
   "outputs": [],
   "source": [
    "train_matrix = matrix_construct(train_data)\n",
    "test_matrix = matrix_construct(test_data)"
   ]
  },
  {
   "cell_type": "code",
   "execution_count": 0,
   "metadata": {
    "colab": {},
    "colab_type": "code",
    "id": "atfzS9sRJr7N"
   },
   "outputs": [],
   "source": [
    "def k_fold_gen(train_matrix,train_labels,split):\n",
    "  num = int(np.ceil(split*train_matrix.shape[0]))\n",
    "  folds = int(split*10+1)\n",
    "  inc = train_matrix.shape[0] - num\n",
    "  while True:\n",
    "    start = 0\n",
    "    stop = inc\n",
    "\n",
    "    for i in range(folds):\n",
    "\n",
    "      t_m = np.vstack((train_matrix[0:start,:], train_matrix[stop:,:]))\n",
    "      t_l =   np.vstack((train_labels[0:start,:], train_labels[stop:,:]))\n",
    "      v_m = train_matrix[start:stop,:]\n",
    "      v_l = train_labels[start:stop,:]\n",
    "\n",
    "      start = stop\n",
    "      stop += inc\n",
    "      yield (t_m,t_l,v_m,v_l)\n"
   ]
  },
  {
   "cell_type": "markdown",
   "metadata": {
    "colab_type": "text",
    "id": "NV9ijRh0CabP"
   },
   "source": [
    "# Weight intitializations"
   ]
  },
  {
   "cell_type": "code",
   "execution_count": 0,
   "metadata": {
    "colab": {},
    "colab_type": "code",
    "id": "6PyTPT9sDyhu"
   },
   "outputs": [],
   "source": [
    "#W = np.random.randn(train_matrix.shape[1]*classes)\n",
    "W = np.zeros((train_matrix.shape[1],classes))\n",
    "\n",
    "b = np.zeros(classes).reshape(1,classes)\n",
    "\n",
    "\n",
    "W = W.reshape(-1,classes)"
   ]
  },
  {
   "cell_type": "code",
   "execution_count": 0,
   "metadata": {
    "colab": {},
    "colab_type": "code",
    "id": "y17Kfa-dyLXa"
   },
   "outputs": [],
   "source": [
    "p = 0.5"
   ]
  },
  {
   "cell_type": "code",
   "execution_count": 0,
   "metadata": {
    "colab": {},
    "colab_type": "code",
    "id": "5OS1iuut1Mch"
   },
   "outputs": [],
   "source": [
    "W_past = np.zeros_like(W)\n",
    "V_past = np.zeros_like(W)\n",
    "beta_1 = 0.99\n",
    "beta_2 = 0.99"
   ]
  },
  {
   "cell_type": "markdown",
   "metadata": {
    "colab_type": "text",
    "id": "i3xbgoTGPnaO"
   },
   "source": [
    "# Starting the training"
   ]
  },
  {
   "cell_type": "markdown",
   "metadata": {
    "colab_type": "text",
    "id": "ydOSqgg5wQoj"
   },
   "source": [
    "# Batch Gradient Descent"
   ]
  },
  {
   "cell_type": "code",
   "execution_count": 0,
   "metadata": {
    "colab": {},
    "colab_type": "code",
    "id": "quJKW5XLEEli"
   },
   "outputs": [],
   "source": [
    "def batch_gd(train_matrix_split,train_labels_split,epochs,lr,lambd):\n",
    "  \n",
    "  J = []\n",
    "  global W\n",
    "  global b\n",
    "  global W_past\n",
    "  global V_past\n",
    "  for ech in range(epochs):\n",
    "\n",
    "# Implementing dropout\n",
    "\n",
    "    #W_drop = W.copy()\n",
    "    #mask = np.random.binomial(1, p, size=W_drop.shape) \n",
    "    #W_drop[mask] = 0\n",
    "\n",
    "    logits = (np.dot(train_matrix_split,W) + b) #/p\n",
    "    \n",
    "    probs = Softmax(logits)\n",
    "    loss = cross_entropy_loss(train_labels_split,probs) + (lambd/2)*np.sum(np.square(W))\n",
    "    loss = loss / train_matrix_split.shape[0]\n",
    "    J.append(loss)\n",
    "    # Start computing the gradients\n",
    "\n",
    "    d_W = np.zeros_like(W)\n",
    "    d_W = np.dot((probs -  train_labels_split ).T,train_matrix_split).T\n",
    "    d_b = np.sum(probs - train_labels_split,axis=0)\n",
    "    d_b = d_b / train_matrix_split.shape[0]\n",
    "    d_W = d_W / train_matrix_split.shape[0]\n",
    "\n",
    "    # Updating weights using Adam update\n",
    "    \n",
    "\n",
    "    W_past = beta_1 * W_past + (1 - beta_1) * d_W\n",
    "\n",
    "    V_past = beta_2 * V_past + (1 - beta_2) * np.power(d_W, 2)\n",
    "    W_hat = W_past / (1 - np.power(beta_1, ech+1))\n",
    "    V_hat = V_past / (1 - np.power(beta_2, ech+1))\n",
    "    \n",
    "    W = W - (lr * W_hat / (np.sqrt(V_hat) + 0.0000001) + (lambd*W)/train_matrix_split.shape[0])\n",
    "    b = b - lr*d_b\n",
    "    \n",
    "  \n",
    "\n",
    "  predict_tweets(train_matrix_split,train_labels_split)\n",
    "  predict_tweets(val_matrix,val_labels)\n",
    "  predict_tweets(test_matrix,test_labels)\n",
    "  return J\n"
   ]
  },
  {
   "cell_type": "markdown",
   "metadata": {
    "colab_type": "text",
    "id": "ghtDb0qLXDC3"
   },
   "source": [
    "# Mini Batch Gradient descent"
   ]
  },
  {
   "cell_type": "code",
   "execution_count": 0,
   "metadata": {
    "colab": {},
    "colab_type": "code",
    "id": "xbKVNsmyCplY"
   },
   "outputs": [],
   "source": [
    "def mini_batch_gd(train_matrix_split,train_labels_split,epochs,lr,lambd):\n",
    "  total_batches = int(np.ceil(train_matrix_split.shape[0] / 1024))\n",
    "  J = []\n",
    "  global W\n",
    "  global W_past\n",
    "  global V_past\n",
    "  global b\n",
    "  train_gen = data_generator(train_matrix_split,train_labels_split,1024)\n",
    "  for ech in range(epochs):\n",
    "    for batch in range(total_batches):\n",
    "      data = next(train_gen)\n",
    "      #W_drop = W.copy()\n",
    "      #mask = np.random.binomial(1, p, size=W_drop.shape) \n",
    "      #W_drop[mask] = 0\n",
    "      logits = (np.dot(data[0],W) + b)\n",
    "    \n",
    "      #logits = np.dot(data[0],W) + b\n",
    "      probs = Softmax(logits)\n",
    "      loss = cross_entropy_loss(data[1],probs) + (lambd/2)*np.sum(np.square(W))\n",
    "      loss = loss / data[0].shape[0]\n",
    "      J.append(loss)\n",
    "      # Start computing the gradients\n",
    "\n",
    "      d_W = np.zeros_like(W)\n",
    "      d_W = np.dot((probs - data[1]).T,data[0]).T\n",
    "      #d_W[mask] = 0\n",
    "      d_b = np.sum(probs - data[1],axis=0)\n",
    "      d_b = d_b / data[1].shape[0]\n",
    "      d_W = d_W / data[0].shape[0]\n",
    "\n",
    "      # Updating weights\n",
    "      W_past = beta_1 * W_past + (1 - beta_1) * d_W\n",
    "\n",
    "      V_past = beta_2 * V_past + (1 - beta_2) * np.power(d_W, 2)\n",
    "      W_hat = W_past / (1 - np.power(beta_1, ech+1))\n",
    "      V_hat = V_past / (1 - np.power(beta_2, ech+1))\n",
    "      W = W - (lr * W_hat / (np.sqrt(V_hat) + 0.00001) + (lambd*W)/data[0].shape[0])\n",
    "\n",
    "      b = b - lr*d_b\n",
    "     \n",
    "  predict_tweets(train_matrix_split,train_labels_split)\n",
    "  predict_tweets(val_matrix,val_labels)\n",
    "  predict_tweets(test_matrix,test_labels)    \n",
    "  return J"
   ]
  },
  {
   "cell_type": "code",
   "execution_count": 0,
   "metadata": {
    "colab": {},
    "colab_type": "code",
    "id": "GNf8TTrWLEn4"
   },
   "outputs": [],
   "source": [
    "dat = k_fold_gen(train_matrix,train_labels,0.99)"
   ]
  },
  {
   "cell_type": "code",
   "execution_count": 860,
   "metadata": {
    "colab": {
     "base_uri": "https://localhost:8080/",
     "height": 116
    },
    "colab_type": "code",
    "id": "XQ9NvJXD_6lD",
    "outputId": "dd0e6421-8233-48f2-b436-1901ff957dda"
   },
   "outputs": [
    {
     "name": "stdout",
     "output_type": "stream",
     "text": [
      "10950  of 13771 predictions were correct\n",
      "The accuracy on the data is:  0.7951492266356837\n",
      "108  of 139 predictions were correct\n",
      "The accuracy on the data is:  0.7769784172661871\n",
      "534  of 730 predictions were correct\n",
      "The accuracy on the data is:  0.7315068493150685\n"
     ]
    }
   ],
   "source": [
    "train_matrix_split,train_labels_split,val_matrix,val_labels = next(dat)  \n",
    "    \n",
    "\n",
    "loss = batch_gd(train_matrix_split,train_labels_split,20,0.0001,0.9999999)"
   ]
  },
  {
   "cell_type": "code",
   "execution_count": 0,
   "metadata": {
    "colab": {},
    "colab_type": "code",
    "id": "hiS5SQFkyxGd"
   },
   "outputs": [],
   "source": [
    "W_n = np.random.randn(*W.shape)*0.005\n",
    "b_n = np.random.randn(*b.shape)*0.005\n",
    "b += b_n\n",
    "W +=W_n"
   ]
  },
  {
   "cell_type": "code",
   "execution_count": 858,
   "metadata": {
    "colab": {
     "base_uri": "https://localhost:8080/",
     "height": 50
    },
    "colab_type": "code",
    "id": "F79sv_If3dvH",
    "outputId": "693cf1db-2327-491d-8e9f-52039fb1acb1"
   },
   "outputs": [
    {
     "name": "stdout",
     "output_type": "stream",
     "text": [
      "523  of 730 predictions were correct\n",
      "The accuracy on the data is:  0.7164383561643836\n"
     ]
    }
   ],
   "source": [
    "a = predict_tweets(test_matrix,test_labels)"
   ]
  },
  {
   "cell_type": "code",
   "execution_count": 217,
   "metadata": {
    "colab": {
     "base_uri": "https://localhost:8080/",
     "height": 1000
    },
    "colab_type": "code",
    "id": "iNJgUMZyWKK_",
    "outputId": "b15e5421-d384-4e67-dd46-1a75c161feed"
   },
   "outputs": [
    {
     "data": {
      "text/plain": [
       "[8.91446853889797,\n",
       " 8.944605583017315,\n",
       " 8.802120324483507,\n",
       " 8.881276666921508,\n",
       " 8.866742574882073,\n",
       " 8.881878350228027,\n",
       " 12.022288514477104,\n",
       " 8.931699280954637,\n",
       " 8.997153150883795,\n",
       " 8.864236016059666,\n",
       " 8.94216455703457,\n",
       " 8.904137279939826,\n",
       " 8.938812370082504,\n",
       " 12.013978881442467,\n",
       " 8.90441272855758,\n",
       " 8.9511127129572,\n",
       " 8.822076816865495,\n",
       " 8.891568352096243,\n",
       " 8.837687655228214,\n",
       " 8.872182842790293,\n",
       " 11.918160477789419,\n",
       " 8.834912233626499,\n",
       " 8.872817321620754,\n",
       " 8.757679076119274,\n",
       " 8.822435243937086,\n",
       " 8.7691391774183,\n",
       " 8.805759016407809,\n",
       " 11.824483937046935,\n",
       " 8.792490258605882,\n",
       " 8.8279477385999,\n",
       " 8.71468888976376,\n",
       " 8.759714533740567,\n",
       " 8.713815131726129,\n",
       " 8.735292164273522,\n",
       " 11.729926144116577,\n",
       " 8.755086014851939,\n",
       " 8.789829363336956,\n",
       " 8.664715522274754,\n",
       " 8.700992703437489,\n",
       " 8.660519580330575,\n",
       " 8.668977491128329,\n",
       " 11.64417741339023,\n",
       " 8.715111037324501,\n",
       " 8.753184474342927,\n",
       " 8.618638576548769,\n",
       " 8.652473738755479,\n",
       " 8.613092400790652,\n",
       " 8.612616163265992,\n",
       " 11.567523089770042,\n",
       " 8.672525256971333,\n",
       " 8.712112138638812,\n",
       " 8.5679949550246,\n",
       " 8.602226719652743,\n",
       " 8.568872076185864,\n",
       " 8.5604563998819,\n",
       " 11.490253747848733,\n",
       " 8.619962514170382,\n",
       " 8.662330623089055,\n",
       " 8.50592892941787,\n",
       " 8.542990016775422,\n",
       " 8.520048083119946,\n",
       " 8.507810034641256,\n",
       " 11.41121139501282,\n",
       " 8.559211956828946,\n",
       " 8.609562824407199,\n",
       " 8.44696913986429,\n",
       " 8.484831903566446,\n",
       " 8.467802668578267,\n",
       " 8.457287909547215,\n",
       " 11.339262531813626,\n",
       " 8.49719642728452,\n",
       " 8.556987946958381,\n",
       " 8.393970156453422,\n",
       " 8.434556288996133,\n",
       " 8.41290699161964,\n",
       " 8.405569199786195,\n",
       " 11.272936493347707,\n",
       " 8.434780367825129,\n",
       " 8.500586973539422,\n",
       " 8.344299885207247,\n",
       " 8.390872511439872,\n",
       " 8.36058183615259,\n",
       " 8.356012921848867,\n",
       " 11.20623766403714,\n",
       " 8.37715779390047,\n",
       " 8.441688772962133,\n",
       " 8.292291358599872,\n",
       " 8.343209212937358,\n",
       " 8.307681483358225,\n",
       " 8.299993866884886,\n",
       " 11.12926398790868,\n",
       " 8.320462068930222,\n",
       " 8.382860375242423,\n",
       " 8.237925606252187,\n",
       " 8.293075028330794,\n",
       " 8.256134806510618,\n",
       " 8.243700985459194,\n",
       " 11.05382034780659,\n",
       " 8.270849529199259,\n",
       " 8.333378376872625,\n",
       " 8.1885998744004,\n",
       " 8.246375020850826,\n",
       " 8.204886564488326,\n",
       " 8.187593329372698,\n",
       " 10.984143820906644,\n",
       " 8.222449714969757,\n",
       " 8.283761164105051,\n",
       " 8.137099764693572,\n",
       " 8.196032258130062,\n",
       " 8.148445777995942,\n",
       " 8.127723954292323,\n",
       " 10.915655683952245,\n",
       " 8.17055705848139,\n",
       " 8.22813675545313,\n",
       " 8.081521645786067,\n",
       " 8.139960598576165,\n",
       " 8.089361750743443,\n",
       " 8.067893915080957,\n",
       " 10.84819673716003,\n",
       " 8.11902933256982,\n",
       " 8.173375092897135,\n",
       " 8.029246189208163,\n",
       " 8.084466675872843,\n",
       " 8.034651186766983,\n",
       " 8.014680496887818,\n",
       " 10.783973061359312,\n",
       " 8.06986187902667,\n",
       " 8.122139967294322,\n",
       " 7.982489061955655,\n",
       " 8.031416212167528,\n",
       " 7.984620510824727,\n",
       " 7.965686566391156,\n",
       " 10.720293359581046,\n",
       " 8.01783096107552,\n",
       " 8.069111526055732,\n",
       " 7.9363158033337395,\n",
       " 7.978129017430166,\n",
       " 7.934930431454561,\n",
       " 7.917234425854431,\n",
       " 10.654681509550594,\n",
       " 7.962811634743803,\n",
       " 8.015851043061632,\n",
       " 7.887839775029972,\n",
       " 7.92445252428651,\n",
       " 7.883095477294346,\n",
       " 7.8679606614597715,\n",
       " 10.58589759021158,\n",
       " 7.9065454705013885,\n",
       " 7.9627499788114955,\n",
       " 7.836837673631917,\n",
       " 7.871578241019936,\n",
       " 7.830287072646973,\n",
       " 7.818398901075026,\n",
       " 10.515676140081869,\n",
       " 7.8517691329970845,\n",
       " 7.911023721276569,\n",
       " 7.786616358317634,\n",
       " 7.821421228653561,\n",
       " 7.778760311495499,\n",
       " 7.769136110843441,\n",
       " 10.446385523516188,\n",
       " 7.798625577449377,\n",
       " 7.860905760755294,\n",
       " 7.737874483318595,\n",
       " 7.7732750625072615,\n",
       " 7.727795093370426,\n",
       " 7.718900288406987,\n",
       " 10.37676499051952,\n",
       " 7.7451161622491815,\n",
       " 7.810608520241443,\n",
       " 7.688873449755646,\n",
       " 7.725295461059038,\n",
       " 7.676230482153786,\n",
       " 7.667487291417685,\n",
       " 10.305434727446562,\n",
       " 7.69101450699384,\n",
       " 7.760087767593699,\n",
       " 7.6388950802367654,\n",
       " 7.6772367973597975,\n",
       " 7.625041155830909,\n",
       " 7.6159121480840986,\n",
       " 10.234387495309418,\n",
       " 7.638328482194834,\n",
       " 7.710287375261058,\n",
       " 7.587113528659284,\n",
       " 7.629412966825185,\n",
       " 7.575394862480112,\n",
       " 7.564819033376021,\n",
       " 10.166083997951985,\n",
       " 7.588281861994274,\n",
       " 7.661452125172872,\n",
       " 7.5337978409723245,\n",
       " 7.581761052493089,\n",
       " 7.527509194437647,\n",
       " 7.5146270132360975,\n",
       " 10.101016931298554,\n",
       " 7.539608795920291,\n",
       " 7.612279549173445,\n",
       " 7.480993344072253,\n",
       " 7.5333337718422655,\n",
       " 7.480238081985824,\n",
       " 7.465171568463151,\n",
       " 10.037806968686338,\n",
       " 7.490702154240886,\n",
       " 7.561793477140167,\n",
       " 7.429714995404596,\n",
       " 7.4829773032616025,\n",
       " 7.431495135613725,\n",
       " 7.415541450776773,\n",
       " 9.9745115711195]"
      ]
     },
     "execution_count": 217,
     "metadata": {
      "tags": []
     },
     "output_type": "execute_result"
    }
   ],
   "source": [
    "loss"
   ]
  },
  {
   "cell_type": "markdown",
   "metadata": {
    "colab_type": "text",
    "id": "eGXDiNmxbKS7"
   },
   "source": [
    "# Checking training & validation accuracy"
   ]
  },
  {
   "cell_type": "code",
   "execution_count": 0,
   "metadata": {
    "colab": {},
    "colab_type": "code",
    "id": "SngB7iOFdRh0"
   },
   "outputs": [],
   "source": [
    "def predict_tweets(matrix,labels):\n",
    "  logits = np.dot(matrix,W) + b\n",
    "  probs = Softmax(logits)\n",
    "  preds = np.zeros_like(probs)\n",
    "  index = np.argmax(probs,axis=1).reshape(preds.shape[0],1)\n",
    "  l = np.arange(len(index)).reshape(preds.shape[0],1)\n",
    "  preds[l,index] = 1\n",
    "  acc = accuracy(preds,labels)\n",
    "\n",
    "  print(\"The accuracy on the data is: \", acc)\n",
    "  return preds"
   ]
  },
  {
   "cell_type": "code",
   "execution_count": 605,
   "metadata": {
    "colab": {
     "base_uri": "https://localhost:8080/",
     "height": 50
    },
    "colab_type": "code",
    "id": "C3mYQJ5Edk8p",
    "outputId": "ee08cc99-0f38-4ead-a419-8a03422d575e"
   },
   "outputs": [
    {
     "name": "stdout",
     "output_type": "stream",
     "text": [
      "11805  of 13771 predictions were correct\n",
      "The accuracy on the data is:  0.8572362210442234\n"
     ]
    }
   ],
   "source": [
    "# Predicting and calculating accuracy on training data\n",
    "\n",
    "preds = predict_tweets(train_matrix_split,train_labels_split)\n"
   ]
  },
  {
   "cell_type": "code",
   "execution_count": 606,
   "metadata": {
    "colab": {
     "base_uri": "https://localhost:8080/",
     "height": 50
    },
    "colab_type": "code",
    "id": "nc4bbDjneEJB",
    "outputId": "3ef2319c-fc89-43b4-9986-6b499f8d636c"
   },
   "outputs": [
    {
     "name": "stdout",
     "output_type": "stream",
     "text": [
      "111  of 139 predictions were correct\n",
      "The accuracy on the data is:  0.7985611510791367\n"
     ]
    }
   ],
   "source": [
    "# Predicting and calculating accuracy on validation data\n",
    "\n",
    "preds = predict_tweets(val_matrix,val_labels)\n"
   ]
  },
  {
   "cell_type": "code",
   "execution_count": 607,
   "metadata": {
    "colab": {
     "base_uri": "https://localhost:8080/",
     "height": 50
    },
    "colab_type": "code",
    "id": "jQI-WRnreVY6",
    "outputId": "0868412a-3a77-4aea-e2d3-e8db7751260a"
   },
   "outputs": [
    {
     "name": "stdout",
     "output_type": "stream",
     "text": [
      "541  of 730 predictions were correct\n",
      "The accuracy on the data is:  0.7410958904109589\n"
     ]
    }
   ],
   "source": [
    "# Predicting and calculating accuracy on test data\n",
    "\n",
    "predictions = predict_tweets(test_matrix,test_labels)\n"
   ]
  },
  {
   "cell_type": "code",
   "execution_count": 0,
   "metadata": {
    "colab": {},
    "colab_type": "code",
    "id": "XMXE8Gc4DiLj"
   },
   "outputs": [],
   "source": [
    "def predict_tweet(tweet):\n",
    "  matrix = matrix_construct(tweets)\n",
    "  logits = np.dot(data[0],W) + b\n",
    "  probs = Softmax(logits)\n",
    "  pred = np.argmax(probs,axis=1)\n",
    "  \n"
   ]
  },
  {
   "cell_type": "markdown",
   "metadata": {
    "colab_type": "text",
    "id": "udxNZHAob7H1"
   },
   "source": [
    "# Evaluation metrics"
   ]
  },
  {
   "cell_type": "code",
   "execution_count": 0,
   "metadata": {
    "colab": {},
    "colab_type": "code",
    "id": "djxey1VdCeQF"
   },
   "outputs": [],
   "source": [
    "def confusion_matrix(predictions,labels,mat):\n",
    "\n",
    "  for ind,lab in enumerate(labels):\n",
    "    tr = np.argmax(lab)\n",
    "    pr = np.argmax(predictions[ind])\n",
    "    mat[pr,tr] +=1\n",
    "  return mat"
   ]
  },
  {
   "cell_type": "code",
   "execution_count": 0,
   "metadata": {
    "colab": {},
    "colab_type": "code",
    "id": "7xzGzh9NWIZn"
   },
   "outputs": [],
   "source": [
    "conf_mat = np.zeros((classes,classes))"
   ]
  },
  {
   "cell_type": "code",
   "execution_count": 0,
   "metadata": {
    "colab": {},
    "colab_type": "code",
    "id": "iQPUtYOXfLA4"
   },
   "outputs": [],
   "source": [
    "c = confusion_matrix(predictions,test_labels, conf_mat)"
   ]
  },
  {
   "cell_type": "code",
   "execution_count": 612,
   "metadata": {
    "colab": {
     "base_uri": "https://localhost:8080/",
     "height": 33
    },
    "colab_type": "code",
    "id": "9vhvH3XwpVD5",
    "outputId": "4457145a-979b-4f47-a39e-85f26d42e47f"
   },
   "outputs": [
    {
     "data": {
      "text/plain": [
       "(3, 3)"
      ]
     },
     "execution_count": 612,
     "metadata": {
      "tags": []
     },
     "output_type": "execute_result"
    }
   ],
   "source": [
    "c.shape"
   ]
  },
  {
   "cell_type": "code",
   "execution_count": 0,
   "metadata": {
    "colab": {},
    "colab_type": "code",
    "id": "8LNL64AJ4psS"
   },
   "outputs": [],
   "source": [
    "# Function to extract from confusion matrix\n",
    "\n",
    "def two_by_two(c,cl):\n",
    "  mat = np.zeros((2,2))\n",
    "  t_p = c[cl,cl]\n",
    "  f_p = np.sum(c[cl]) - t_p\n",
    "  f_n = np.sum(c[:,cl]) - t_p\n",
    "  t_n = np.sum(c) - f_p - f_n - t_p\n",
    "  mat[0,0] = t_p\n",
    "  mat[0,1] = f_p\n",
    "  mat[1,0] = f_n\n",
    "  mat[1,1] = t_n\n",
    "  return mat"
   ]
  },
  {
   "cell_type": "markdown",
   "metadata": {
    "colab_type": "text",
    "id": "_YNlSjM1pdha"
   },
   "source": [
    "# Evaluation metrics - Macro-Averaging"
   ]
  },
  {
   "cell_type": "code",
   "execution_count": 0,
   "metadata": {
    "colab": {},
    "colab_type": "code",
    "id": "c0ruwrI2p1Lc"
   },
   "outputs": [],
   "source": [
    "neg = two_by_two(c,0)\n",
    "neut = two_by_two(c,1)\n",
    "pos = two_by_two(c,2)\n",
    "\n"
   ]
  },
  {
   "cell_type": "code",
   "execution_count": 0,
   "metadata": {
    "colab": {},
    "colab_type": "code",
    "id": "fcIkp8jBGSyj"
   },
   "outputs": [],
   "source": [
    "#mac_recall =  ((neg[0,0]/ np.sum(neg[:,0])) + (neut[0,0]/ np.sum(neut[:,0])) + (pos[0,0])/np.sum(pos[:,0])) / classes\n"
   ]
  },
  {
   "cell_type": "code",
   "execution_count": 0,
   "metadata": {
    "colab": {},
    "colab_type": "code",
    "id": "SdYnmbF0Anw3"
   },
   "outputs": [],
   "source": [
    "\n",
    "mac_prec =( (neg[0,0]/np.sum(neg[0])) + ( (neut[0,0]) /(np.sum(neut[0]))) + ((pos[0,0]) /np.sum(pos[0])) ) / classes\n",
    "\n",
    "mac_acc = ( ((np.sum(np.diag(neg))/np.sum(neg)) + (np.sum(np.diag(neut))/np.sum(neut)) + ( np.sum(np.diag(pos))))  /(np.sum(pos)))/ classes\n",
    "\n",
    "mac_recall = ( (neg[0,0]/ np.sum(neg[:,0])) + (neut[0,0]/np.sum(neut[:,0])) + (pos[0,0])/np.sum(pos[:,0])  ) / classes\n",
    "\n",
    "mac_f1 = (2*mac_prec*mac_recall)/( mac_prec + mac_recall)"
   ]
  },
  {
   "cell_type": "code",
   "execution_count": 616,
   "metadata": {
    "colab": {
     "base_uri": "https://localhost:8080/",
     "height": 33
    },
    "colab_type": "code",
    "id": "Y9DQMkP2X6Mv",
    "outputId": "ff3fcfa7-9fef-4021-ac83-d2395c230c97"
   },
   "outputs": [
    {
     "data": {
      "text/plain": [
       "0.8493449781659389"
      ]
     },
     "execution_count": 616,
     "metadata": {
      "tags": []
     },
     "output_type": "execute_result"
    }
   ],
   "source": [
    "(neg[0,0]/ np.sum(neg[:,0]))"
   ]
  },
  {
   "cell_type": "code",
   "execution_count": 617,
   "metadata": {
    "colab": {
     "base_uri": "https://localhost:8080/",
     "height": 33
    },
    "colab_type": "code",
    "id": "rMaX1gs-GFAf",
    "outputId": "683fbc0d-586e-4df2-8053-8518127b2474"
   },
   "outputs": [
    {
     "data": {
      "text/plain": [
       "0.5324675324675324"
      ]
     },
     "execution_count": 617,
     "metadata": {
      "tags": []
     },
     "output_type": "execute_result"
    }
   ],
   "source": [
    "(neut[0,0]/np.sum(neut[:,0]))"
   ]
  },
  {
   "cell_type": "code",
   "execution_count": 618,
   "metadata": {
    "colab": {
     "base_uri": "https://localhost:8080/",
     "height": 33
    },
    "colab_type": "code",
    "id": "fvOMxqNbX_OP",
    "outputId": "b7e1eafb-fb70-44c8-fc4e-3ac7abd08215"
   },
   "outputs": [
    {
     "data": {
      "text/plain": [
       "0.5932203389830508"
      ]
     },
     "execution_count": 618,
     "metadata": {
      "tags": []
     },
     "output_type": "execute_result"
    }
   ],
   "source": [
    "(pos[0,0])/np.sum(pos[:,0])"
   ]
  },
  {
   "cell_type": "code",
   "execution_count": 619,
   "metadata": {
    "colab": {
     "base_uri": "https://localhost:8080/",
     "height": 33
    },
    "colab_type": "code",
    "id": "fxEnNMzSYRoV",
    "outputId": "ec1a79e6-2b7d-4206-eeee-9edc80dab205"
   },
   "outputs": [
    {
     "data": {
      "text/plain": [
       "0.6583442832055074"
      ]
     },
     "execution_count": 619,
     "metadata": {
      "tags": []
     },
     "output_type": "execute_result"
    }
   ],
   "source": [
    "mac_recall"
   ]
  },
  {
   "cell_type": "markdown",
   "metadata": {
    "colab_type": "text",
    "id": "39gXD-Z1Gjbh"
   },
   "source": []
  },
  {
   "cell_type": "markdown",
   "metadata": {
    "colab_type": "text",
    "id": "esmIJ7KPGkGQ"
   },
   "source": [
    "# Evaluation metrics - Micro-Averaging\n"
   ]
  },
  {
   "cell_type": "code",
   "execution_count": 0,
   "metadata": {
    "colab": {},
    "colab_type": "code",
    "id": "xyVLMKGWGqT-"
   },
   "outputs": [],
   "source": [
    "micro_prec = (neg[0,0] + neut[0,0] + pos[0,0]) / ((neg[0,1] + neut[0,1] + pos[0,1]) + (neg[0,0] + neut[0,0] + pos[0,0]))\n",
    "\n",
    "micro_acc = (neg[1,1] + neut[1,1] + pos[1,1] +  neg[0,0] + neut[0,0] + pos[0,0]) / (np.sum(neg) + np.sum(neut) + np.sum(pos))\n",
    "\n",
    "micro_recall = (neg[0,0] + neut[0,0] + pos[0,0]) / (neg[0,0] + neut[0,0] + pos[0,0] +neg[1,0] + neut[1,0] + pos[1,0])\n",
    "\n",
    "micro_f1 = (2*micro_prec*micro_recall)/ (micro_prec + micro_recall)"
   ]
  },
  {
   "cell_type": "code",
   "execution_count": 621,
   "metadata": {
    "colab": {
     "base_uri": "https://localhost:8080/",
     "height": 33
    },
    "colab_type": "code",
    "id": "qnhymdvlYik3",
    "outputId": "3407be58-0e46-433b-d9a0-a53c68af34ee"
   },
   "outputs": [
    {
     "data": {
      "text/plain": [
       "0.8273972602739726"
      ]
     },
     "execution_count": 621,
     "metadata": {
      "tags": []
     },
     "output_type": "execute_result"
    }
   ],
   "source": [
    "micro_acc"
   ]
  },
  {
   "cell_type": "markdown",
   "metadata": {
    "colab_type": "text",
    "id": "g-ONwRAnJ8Hj"
   },
   "source": [
    "# Plots"
   ]
  },
  {
   "cell_type": "markdown",
   "metadata": {
    "colab_type": "text",
    "id": "SGr7VAydvEpG"
   },
   "source": [
    "# Confusion Matrix"
   ]
  },
  {
   "cell_type": "code",
   "execution_count": 622,
   "metadata": {
    "colab": {
     "base_uri": "https://localhost:8080/",
     "height": 295
    },
    "colab_type": "code",
    "id": "WFYoDy3_J-V5",
    "outputId": "059b8bfc-95e6-40c3-f3f7-b9ebb77a2aa8"
   },
   "outputs": [
    {
     "data": {
      "image/png": "[encoded data removed]",
      "text/plain": [
       "<Figure size 432x288 with 1 Axes>"
      ]
     },
     "metadata": {
      "tags": []
     },
     "output_type": "display_data"
    }
   ],
   "source": [
    "\n",
    "# Prepare table\n",
    "# Add a table at the bottom of the axes\n",
    "c_colors = [[\"w\",\"w\",\"w\"],[ \"w\",\"w\",\"w\"],[ \"w\",\"w\",\"w\"]]\n",
    "\n",
    "\n",
    "columns = ('True Negative', 'True Neutral', 'True Positive')\n",
    "rows = ['Pred Negative', 'Pred Neutral', 'Pred Positive']\n",
    "# Get some pastel shades for the colors\n",
    "colors = plt.cm.BuPu(np.linspace(0, 1, len(rows)))\n",
    "#c_colors = plt.cm.BuPu(np.linspace(0, 1, len(rows)))\n",
    "#r_colors = plt.cm.BuPu(np.linspace(0, 1, len(rows)))\n",
    "plt.axis('tight')\n",
    "plt.axis('off')\n",
    "\n",
    "cell_text = c\n",
    "the_table = plt.table(\n",
    "                      \n",
    "                      cellText=cell_text,\n",
    "                      rowLabels=rows,\n",
    "                      rowColours=colors,\n",
    "                      cellColours = c_colors,\n",
    "                      colColours = colors,\n",
    "                      colWidths = [0.5,0.5,0.5],\n",
    "                      colLabels=columns,\n",
    "                      fontsize = 0.9,\n",
    "                      loc='top')\n",
    "\n",
    "the_table.set_fontsize(13)\n",
    "plt.show()"
   ]
  },
  {
   "cell_type": "markdown",
   "metadata": {
    "colab_type": "text",
    "id": "KYlJU9l_7Whi"
   },
   "source": [
    "# Confusion matrix - Class Wise"
   ]
  },
  {
   "cell_type": "code",
   "execution_count": 623,
   "metadata": {
    "colab": {
     "base_uri": "https://localhost:8080/",
     "height": 284
    },
    "colab_type": "code",
    "id": "HpD89sfF7b5s",
    "outputId": "6ceeab5a-38cb-42e4-ff63-0b9f8b5a1956"
   },
   "outputs": [
    {
     "data": {
      "image/png": "[encoded data removed]",
      "text/plain": [
       "<Figure size 432x288 with 1 Axes>"
      ]
     },
     "metadata": {
      "tags": []
     },
     "output_type": "display_data"
    }
   ],
   "source": [
    "\n",
    "# Prepare table\n",
    "# Add a table at the bottom of the axes\n",
    "c_colors = [[\"w\",\"w\"],[ \"w\",\"w\"]]\n",
    "\n",
    "\n",
    "columns = ('True_Neg', 'True_Not_Neg')\n",
    "rows = ['Pred_Negative', 'Pred_Not_Neg']\n",
    "# Get some pastel shades for the colors\n",
    "colors = plt.cm.BuPu(np.linspace(0, 1, len(rows)))\n",
    "#c_colors = plt.cm.BuPu(np.linspace(0, 1, len(rows)))\n",
    "#r_colors = plt.cm.BuPu(np.linspace(0, 1, len(rows)))\n",
    "plt.axis('tight')\n",
    "plt.axis('off')\n",
    "\n",
    "cell_text = neg\n",
    "the_table = plt.table(\n",
    "                      \n",
    "                      cellText=cell_text,\n",
    "                      rowLabels=rows,\n",
    "                      rowColours=colors,\n",
    "                      cellColours = c_colors,\n",
    "                      colColours = colors,\n",
    "                      colWidths = [0.5,0.5],\n",
    "                      colLabels=columns,\n",
    "                      fontsize = 0.9,\n",
    "                      loc='top')\n",
    "\n",
    "the_table.set_fontsize(13)\n",
    "plt.show()"
   ]
  },
  {
   "cell_type": "code",
   "execution_count": 624,
   "metadata": {
    "colab": {
     "base_uri": "https://localhost:8080/",
     "height": 284
    },
    "colab_type": "code",
    "id": "k8iaVRo-A_wD",
    "outputId": "c1f602a1-8926-44b5-d152-3ca4875912c7"
   },
   "outputs": [
    {
     "data": {
      "image/png": "[encoded data removed]",
      "text/plain": [
       "<Figure size 432x288 with 1 Axes>"
      ]
     },
     "metadata": {
      "tags": []
     },
     "output_type": "display_data"
    }
   ],
   "source": [
    "\n",
    "# Prepare table\n",
    "# Add a table at the bottom of the axes\n",
    "c_colors = [[\"w\",\"w\"],[ \"w\",\"w\"]]\n",
    "\n",
    "\n",
    "columns = ('True_Neutral', 'True_Not_Neutral')\n",
    "rows = ['Pred_Neutral', 'Pred_Not_Neutral']\n",
    "# Get some pastel shades for the colors\n",
    "colors = plt.cm.BuPu(np.linspace(0, 1, len(rows)))\n",
    "#c_colors = plt.cm.BuPu(np.linspace(0, 1, len(rows)))\n",
    "#r_colors = plt.cm.BuPu(np.linspace(0, 1, len(rows)))\n",
    "plt.axis('tight')\n",
    "plt.axis('off')\n",
    "\n",
    "cell_text = neut\n",
    "the_table = plt.table(\n",
    "                      \n",
    "                      cellText=cell_text,\n",
    "                      rowLabels=rows,\n",
    "                      rowColours=colors,\n",
    "                      cellColours = c_colors,\n",
    "                      colColours = colors,\n",
    "                      colWidths = [0.5,0.5],\n",
    "                      colLabels=columns,\n",
    "                      fontsize = 0.9,\n",
    "                      loc='top')\n",
    "\n",
    "the_table.set_fontsize(13)\n",
    "plt.show()"
   ]
  },
  {
   "cell_type": "code",
   "execution_count": 625,
   "metadata": {
    "colab": {
     "base_uri": "https://localhost:8080/",
     "height": 284
    },
    "colab_type": "code",
    "id": "RfoJw34eE8bk",
    "outputId": "68e2fcc7-6f99-417f-f5bb-05c86f801851"
   },
   "outputs": [
    {
     "data": {
      "image/png": "[encoded data removed]",
      "text/plain": [
       "<Figure size 432x288 with 1 Axes>"
      ]
     },
     "metadata": {
      "tags": []
     },
     "output_type": "display_data"
    }
   ],
   "source": [
    "\n",
    "# Prepare table\n",
    "# Add a table at the bottom of the axes\n",
    "c_colors = [[\"w\",\"w\"],[ \"w\",\"w\"]]\n",
    "\n",
    "\n",
    "columns = ('True Positive', 'True_Not_Positive')\n",
    "rows = ['Pred Positive', 'Pred_Not_Positive']\n",
    "# Get some pastel shades for the colors\n",
    "colors = plt.cm.BuPu(np.linspace(0, 1, len(rows)))\n",
    "#c_colors = plt.cm.BuPu(np.linspace(0, 1, len(rows)))\n",
    "#r_colors = plt.cm.BuPu(np.linspace(0, 1, len(rows)))\n",
    "plt.axis('tight')\n",
    "plt.axis('off')\n",
    "\n",
    "cell_text = pos\n",
    "the_table = plt.table(\n",
    "                      \n",
    "                      cellText=cell_text,\n",
    "                      rowLabels=rows,\n",
    "                      rowColours=colors,\n",
    "                      cellColours = c_colors,\n",
    "                      colColours = colors,\n",
    "                      colWidths = [0.5,0.5],\n",
    "                      colLabels=columns,\n",
    "                      fontsize = 0.9,\n",
    "                      loc='top')\n",
    "\n",
    "the_table.set_fontsize(13)\n",
    "plt.show()"
   ]
  },
  {
   "cell_type": "markdown",
   "metadata": {
    "colab_type": "text",
    "id": "favxVBRnM3y7"
   },
   "source": [
    "# Plotting the metrics"
   ]
  },
  {
   "cell_type": "code",
   "execution_count": 626,
   "metadata": {
    "colab": {
     "base_uri": "https://localhost:8080/",
     "height": 307
    },
    "colab_type": "code",
    "id": "NDbiOd4q3F2A",
    "outputId": "a063227b-2e8b-4467-d5c6-f4d81b1fddd4"
   },
   "outputs": [
    {
     "data": {
      "image/png": "[encoded data removed]",
      "text/plain": [
       "<Figure size 432x288 with 1 Axes>"
      ]
     },
     "metadata": {
      "tags": []
     },
     "output_type": "display_data"
    }
   ],
   "source": [
    "\n",
    "# Prepare table\n",
    "# Add a table at the bottom of the axes\n",
    "c_colors = np.asarray([\"w\",\"w\",\"w\",\"w\", \"w\",\"w\",\"w\",\"w\"]).reshape(4,2)\n",
    "\n",
    "\n",
    "columns = ('Macro-Average', 'Micro-Average')\n",
    "rows = ['Accuracy', 'Precision', 'Recall', 'F1-Score']\n",
    "# Get some pastel shades for the colors\n",
    "colors = plt.cm.BuPu(np.linspace(0, 1, len(rows)))\n",
    "#c_colors = plt.cm.BuPu(np.linspace(0, 1, len(rows)))\n",
    "#r_colors = plt.cm.BuPu(np.linspace(0, 1, len(rows)))\n",
    "plt.axis('tight')\n",
    "plt.axis('off')\n",
    "\n",
    "cell_text = np.asarray([mac_acc,micro_acc,mac_prec,micro_prec,mac_recall, micro_recall ,mac_f1,micro_f1]).reshape(4,2)\n",
    "the_table = plt.table(\n",
    "                      \n",
    "                      cellText=cell_text,\n",
    "                      rowLabels=rows,\n",
    "                      rowColours=colors,\n",
    "                      cellColours = c_colors,\n",
    "                      colColours = colors,\n",
    "                      colWidths = [0.5,0.5],\n",
    "                      colLabels=columns,\n",
    "                      fontsize = 0.9,\n",
    "                      loc='top')\n",
    "\n",
    "the_table.set_fontsize(13)\n",
    "plt.show()"
   ]
  }
 ],
 "metadata": {
  "colab": {
   "collapsed_sections": [],
   "name": "ML3.ipynb",
   "provenance": []
  },
  "kernelspec": {
   "display_name": "Python 3",
   "language": "python",
   "name": "python3"
  },
  "language_info": {
   "codemirror_mode": {
    "name": "ipython",
    "version": 3
   },
   "file_extension": ".py",
   "mimetype": "text/x-python",
   "name": "python",
   "nbconvert_exporter": "python",
   "pygments_lexer": "ipython3",
   "version": "3.7.3"
  }
 },
 "nbformat": 4,
 "nbformat_minor": 1
}
