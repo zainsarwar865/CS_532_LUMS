{
 "cells": [
  {
   "cell_type": "code",
   "execution_count": 0,
   "metadata": {
    "colab": {},
    "colab_type": "code",
    "id": "U5VQ6tKNQC7-"
   },
   "outputs": [],
   "source": [
    "import numpy as np\n",
    "import matplotlib.pyplot as plt\n",
    "import os"
   ]
  },
  {
   "cell_type": "code",
   "execution_count": 4,
   "metadata": {
    "colab": {
     "base_uri": "https://localhost:8080/",
     "height": 35
    },
    "colab_type": "code",
    "id": "Gb2BgoyCC-rs",
    "outputId": "2ffb9c25-1b53-4068-c88c-24d53cb16c9c"
   },
   "outputs": [
    {
     "name": "stdout",
     "output_type": "stream",
     "text": [
      "Drive already mounted at /content/drive; to attempt to forcibly remount, call drive.mount(\"/content/drive\", force_remount=True).\n"
     ]
    }
   ],
   "source": [
    "from google.colab import drive\n",
    "drive.mount('/content/drive')"
   ]
  },
  {
   "cell_type": "code",
   "execution_count": 5,
   "metadata": {
    "colab": {
     "base_uri": "https://localhost:8080/",
     "height": 53
    },
    "colab_type": "code",
    "id": "Cfx4ooEoC4Re",
    "outputId": "a039154b-1c27-43f5-e8b3-68d5cba7b498"
   },
   "outputs": [
    {
     "name": "stdout",
     "output_type": "stream",
     "text": [
      "Archive:  /content/drive/My Drive/Dataset.zip\n",
      "replace Dataset/negative-words.txt? [y]es, [n]o, [A]ll, [N]one, [r]ename: N\n"
     ]
    }
   ],
   "source": [
    "!unzip '/content/drive/My Drive/Dataset.zip'"
   ]
  },
  {
   "cell_type": "markdown",
   "metadata": {},
   "source": [
    "# Hyper Parameters and initializations"
   ]
  },
  {
   "cell_type": "code",
   "execution_count": 6,
   "metadata": {
    "colab": {
     "base_uri": "https://localhost:8080/",
     "height": 143
    },
    "colab_type": "code",
    "id": "aFx7W5K1Rl8h",
    "outputId": "22d912e6-e2cd-41cb-a15c-943d4a6d8232"
   },
   "outputs": [
    {
     "data": {
      "text/plain": [
       "array([[-0.7499338 ],\n",
       "       [-0.79502122],\n",
       "       [-0.09403421],\n",
       "       [ 0.24603308],\n",
       "       [-0.74289006],\n",
       "       [ 0.1710541 ],\n",
       "       [ 0.63651401]])"
      ]
     },
     "execution_count": 6,
     "metadata": {
      "tags": []
     },
     "output_type": "execute_result"
    }
   ],
   "source": [
    "epochs = 2000\n",
    "lr = 0.01\n",
    "W = np.random.randn(7)*np.sqrt(2/7) # HE initialization\n",
    "b = np.zeros(1)\n",
    "W = W.reshape(7,1)\n",
    "d_W = np.zeros_like((W))\n",
    "d_b = 0\n",
    "W"
   ]
  },
  {
   "cell_type": "code",
   "execution_count": 0,
   "metadata": {
    "colab": {},
    "colab_type": "code",
    "id": "jv5qpCXzntky"
   },
   "outputs": [],
   "source": [
    "\n",
    "\n",
    "def accuracy(y_pred, y_true):\n",
    "    return np.sum(y_pred == y_true)\n",
    "\n",
    "           "
   ]
  },
  {
   "cell_type": "markdown",
   "metadata": {},
   "source": [
    "# To be used for mini-batch gradient descent"
   ]
  },
  {
   "cell_type": "code",
   "execution_count": 0,
   "metadata": {
    "colab": {},
    "colab_type": "code",
    "id": "tGjN2v-momYf"
   },
   "outputs": [],
   "source": [
    "def data_generator(batch_type,batch_size = 32):\n",
    "\n",
    "        while True:\n",
    "          start = 0\n",
    "          stop = batch_size\n",
    "          if batch_type == 'train':\n",
    "            total_batches = train_data_matrix.shape[0] // batch_size\n",
    "          elif batch_type == 'val':\n",
    "            total_batches = len(val_files) // batch_size\n",
    "\n",
    "          elif batch_type == 'test':\n",
    "            total_batches = len(test_files) // batch_size\n",
    "\n",
    "\n",
    "          \n",
    "          for i in range(total_batches):\n",
    "            if i == total_batches-1:\n",
    "              if batch_type == 'train':\n",
    "                yield (train_data_matrix[start:,:],labels_train[start:,:])\n",
    "              elif batch_type == 'val':\n",
    "                yield (val_data_matrix[start:],labels_validation[start:])\n",
    "              elif batch_type == 'test':\n",
    "                yield (test_data_matrix[start:],labels_test[start:])\n",
    "            \n",
    "            else:\n",
    "              if batch_type == 'train':\n",
    "                yield (train_data_matrix[start:stop,:],labels_train[start:stop,:])\n",
    "              elif batch_type == 'val':\n",
    "                yield (val_data_matrix[start:stop,:],labels_validation[start:stop])\n",
    "              elif batch_type == 'test':\n",
    "                yield (test_data_matrix[start:stop,:],labels_test[start:stop])\n",
    "              start = stop\n",
    "              stop+= batch_size\n",
    "\n",
    "          \n"
   ]
  },
  {
   "cell_type": "markdown",
   "metadata": {},
   "source": [
    "# Loading the dataset"
   ]
  },
  {
   "cell_type": "code",
   "execution_count": 0,
   "metadata": {
    "colab": {},
    "colab_type": "code",
    "id": "f-bS30zgQC8C"
   },
   "outputs": [],
   "source": [
    "review_dir = '/content/Dataset/'\n"
   ]
  },
  {
   "cell_type": "code",
   "execution_count": 0,
   "metadata": {
    "colab": {},
    "colab_type": "code",
    "id": "XmKeXtXiQC8F"
   },
   "outputs": [],
   "source": [
    "train_dir = review_dir + 'train/'\n",
    "test_dir = review_dir + 'test/'\n"
   ]
  },
  {
   "cell_type": "code",
   "execution_count": 0,
   "metadata": {
    "colab": {},
    "colab_type": "code",
    "id": "Ny4sWXkXQC8I"
   },
   "outputs": [],
   "source": [
    "train_pos_files = (os.listdir(train_dir+'pos/'))\n",
    "\n",
    "train_neg_files = (os.listdir(train_dir+'neg/'))\n",
    "\n",
    "test_pos_files = (os.listdir(test_dir+'pos/'))\n",
    "test_neg_files = (os.listdir(test_dir+'neg/'))\n",
    "\n",
    "train_pos_files_n = train_pos_files.copy()\n",
    "train_neg_files_n = train_neg_files.copy()\n",
    "test_pos_files_n = test_pos_files.copy()\n",
    "test_neg_files_n = test_neg_files.copy()\n"
   ]
  },
  {
   "cell_type": "markdown",
   "metadata": {
    "colab": {},
    "colab_type": "code",
    "id": "qagHXDAJQC8L"
   },
   "source": [
    "# Opening the files"
   ]
  },
  {
   "cell_type": "code",
   "execution_count": 0,
   "metadata": {
    "colab": {},
    "colab_type": "code",
    "id": "MMNf5Oe5QC8O"
   },
   "outputs": [],
   "source": [
    "for i in range(len(train_pos_files)):\n",
    "    tr_p_f = open(train_dir+'pos/' +train_pos_files[i], 'r',errors='ignore').read().rstrip(\"\\n\").replace('<br />', '').replace('\\'','')\n",
    "    tr_n_f = open(train_dir+'neg/' +train_neg_files[i], 'r',errors='ignore').read().rstrip(\"\\n\").replace('<br />', '').replace('\\'','')\n",
    "    te_p_f = open(test_dir+'pos/' +test_pos_files[i], 'r',errors='ignore').read().rstrip(\"\\n\").replace('<br />', '').replace('\\'','')\n",
    "    te_n_f = open(test_dir+'neg/' +test_neg_files[i], 'r',errors='ignore').read().rstrip(\"\\n\").replace('<br />', '').replace('\\'','')\n",
    "    train_pos_files[i] = tr_p_f\n",
    "    train_neg_files[i]  = tr_n_f\n",
    "    test_pos_files[i] = te_p_f\n",
    "    test_neg_files[i] = te_n_f"
   ]
  },
  {
   "cell_type": "markdown",
   "metadata": {},
   "source": [
    "# Concatenate postive and negatives into one file"
   ]
  },
  {
   "cell_type": "code",
   "execution_count": 0,
   "metadata": {
    "colab": {},
    "colab_type": "code",
    "id": "VDSOjdLiQC8R"
   },
   "outputs": [],
   "source": [
    "\n",
    "train_pos_files = np.asarray(train_pos_files).reshape(12500,)\n",
    "train_neg_files  = np.asarray(train_neg_files).reshape(12500,)\n",
    "test_pos_files = np.asarray(test_pos_files).reshape(12500,)\n",
    "test_neg_files = np.asarray(test_neg_files).reshape(12500,)\n",
    "train_pos_files_n = np.asarray(train_pos_files_n).reshape(12500,)\n",
    "train_neg_files_n  = np.asarray(train_neg_files_n).reshape(12500,)\n",
    "test_pos_files_n = np.asarray(test_pos_files_n).reshape(12500,)\n",
    "test_neg_files_n = np.asarray(test_neg_files_n).reshape(12500,)\n",
    "\n"
   ]
  },
  {
   "cell_type": "code",
   "execution_count": 14,
   "metadata": {
    "colab": {
     "base_uri": "https://localhost:8080/",
     "height": 55
    },
    "colab_type": "code",
    "id": "gl8Rz_K4QC8U",
    "outputId": "9de73de5-df04-40c1-c6fe-c2537a42205c"
   },
   "outputs": [
    {
     "data": {
      "text/plain": [
       "'Playwright Sidney Bruhl (a wonderfully over-the-top Michael Caine) would kill for a hit play. Enter young wonder kid (a solid Reeve) whos just written such a play. Weave into this Bruhls overly hysterical wife (superbly played by Cannon) and a German psychic (a very funny Irene Worth) and youve got yourself a wonderfully funny suspense flick.While not up to \"Sleuth\" standards, \"Deathtrap\" is none the less a very capable, twist filled comical suspense ride based on a terrific play by Ira Levin. The performers are obviously having a field day with the material, with Caine in particular delivering top notch lines with gusto.The film loses a bit of steam midway through and the ending is a lot less satisfying than the hilarious one in the original play but overall \"Deathtrap\" is solid, well acted and suspenseful fun.'"
      ]
     },
     "execution_count": 14,
     "metadata": {
      "tags": []
     },
     "output_type": "execute_result"
    }
   ],
   "source": [
    "train_pos_files[0]"
   ]
  },
  {
   "cell_type": "code",
   "execution_count": 0,
   "metadata": {
    "colab": {},
    "colab_type": "code",
    "id": "VARdcC6pQC8b"
   },
   "outputs": [],
   "source": [
    "train_files = np.hstack((train_pos_files,train_neg_files)).reshape(25000,1)\n",
    "test_files  = np.hstack((test_pos_files,test_neg_files)).reshape(25000,1)\n",
    "train_files_n =  np.hstack((train_pos_files_n,train_neg_files_n)).reshape(25000,1)\n",
    "test_files_n  = np.hstack((test_pos_files_n,test_neg_files_n)).reshape(25000,1)"
   ]
  },
  {
   "cell_type": "markdown",
   "metadata": {},
   "source": [
    "# More file loading"
   ]
  },
  {
   "cell_type": "code",
   "execution_count": 0,
   "metadata": {
    "colab": {},
    "colab_type": "code",
    "id": "Z9A8j-VPQC8i"
   },
   "outputs": [],
   "source": [
    "neg_words = []\n",
    "with open(review_dir+'negative-words.txt',encoding=\"ISO-8859-1\") as file:\n",
    "    for word in file:\n",
    "        neg_words.append(word.strip())\n",
    "neg_words = np.asarray(neg_words)    \n",
    "\n",
    "pos_words = []\n",
    "\n",
    "with open(review_dir+'positive-words.txt',encoding=\"ISO-8859-1\") as file:\n",
    "    for word in file:\n",
    "        pos_words.append(word.strip())\n",
    "pos_words = np.asarray(pos_words)\n"
   ]
  },
  {
   "cell_type": "code",
   "execution_count": 0,
   "metadata": {
    "colab": {},
    "colab_type": "code",
    "id": "ywbLupxGQC8l"
   },
   "outputs": [],
   "source": [
    "p = np.array([1]).reshape(1,1)\n",
    "n = np.array([0]).reshape(1,1)\n",
    "\n",
    "\n",
    "labels_pos_train = []\n",
    "labels_pos_test = []\n",
    "\n",
    "labels_neg_train = np.tile(n, (train_neg_files.shape[0],1))\n",
    "labels_neg_test =  np.tile(n, (train_neg_files.shape[0],1))\n",
    "labels_pos_train = np.tile(p, (train_neg_files.shape[0],1))\n",
    "labels_pos_test = np.tile(p, (train_neg_files.shape[0],1))\n",
    "\n",
    "labels_train = np.vstack([labels_pos_train,labels_neg_train])\n",
    "labels_test = np.vstack([labels_pos_test,labels_neg_test])\n"
   ]
  },
  {
   "cell_type": "markdown",
   "metadata": {},
   "source": [
    "# Shuffling data"
   ]
  },
  {
   "cell_type": "code",
   "execution_count": 0,
   "metadata": {
    "colab": {},
    "colab_type": "code",
    "id": "V82Hn2FSQC8q"
   },
   "outputs": [],
   "source": [
    "\n",
    "randomize = np.arange(labels_train.shape[0])\n",
    "np.random.shuffle(randomize)\n",
    "\n",
    "train_files = train_files[randomize]\n",
    "test_files = test_files[randomize]\n",
    "train_files_n = train_files_n[randomize]\n",
    "test_files_n = test_files_n[randomize]\n",
    "\n",
    "labels_train = labels_train[randomize]\n",
    "labels_test = labels_test[randomize]\n",
    "\n"
   ]
  },
  {
   "cell_type": "markdown",
   "metadata": {
    "colab": {
     "base_uri": "https://localhost:8080/",
     "height": 55
    },
    "colab_type": "code",
    "id": "DNSWij77QC8u",
    "outputId": "93c9f75b-0cad-4ec1-ea56-89275e258b43"
   },
   "source": [
    "# Initializing and extracting features for the data matrices"
   ]
  },
  {
   "cell_type": "code",
   "execution_count": 0,
   "metadata": {
    "colab": {},
    "colab_type": "code",
    "id": "GRvndqstQC9K"
   },
   "outputs": [],
   "source": [
    "train_data_matrix = np.empty((1,7))\n",
    "test_data_matrix = np.empty((1,7))\n",
    "\n",
    "\n"
   ]
  },
  {
   "cell_type": "code",
   "execution_count": 0,
   "metadata": {
    "colab": {},
    "colab_type": "code",
    "id": "O3I74ZbyzdyI"
   },
   "outputs": [],
   "source": [
    "for i in range(train_files.shape[0]):\n",
    "\n",
    "      count = 0\n",
    "      words = str(train_files[i]).split()\n",
    "\n",
    "      for j in range(len(pos_words)):\n",
    "          if pos_words[j] in words:\n",
    "              count+=1\n",
    "      x1 =  count\n",
    "  \n",
    "      count = 0\n",
    "      \n",
    "      for k in range(len(neg_words)):\n",
    "          if neg_words[k] in words:\n",
    "              count+=1\n",
    "      x2 = count\n",
    "\n",
    "      rating =int(str(train_files_n[i]).split('.')[0].split('_')[1])\n",
    "      x3 = rating\n",
    "      count = 0\n",
    "      count = np.log2(len(words))\n",
    "      x4 = count\n",
    "  \n",
    "      if ' no ' in words:\n",
    "          found = 1\n",
    "      else:\n",
    "          found = 0\n",
    "      x5 = found \n",
    "\n",
    "      \n",
    "      if '!' in words:\n",
    "          found = 1\n",
    "      else:\n",
    "          found = 0\n",
    "      x6 = found \n",
    "\n",
    "      instance = np.asarray([1, x1,x2,x3,x4,x5,x6]).reshape(1,7)\n",
    "      train_data_matrix = np.append(train_data_matrix,instance,axis=0)\n",
    "            "
   ]
  },
  {
   "cell_type": "code",
   "execution_count": 0,
   "metadata": {
    "colab": {
     "base_uri": "https://localhost:8080/",
     "height": 55
    },
    "colab_type": "code",
    "id": "ERX6LoRrQC9O",
    "outputId": "59f591ba-ef4f-4562-c8c5-36e7a6f8a69d"
   },
   "outputs": [
    {
     "data": {
      "text/plain": [
       "'\\nfor i in range(train_files.shape[0]):\\n    x1 = count_pos(train_files[i])\\n    x2 = count_neg(train_files[i])\\n    x3 = get_rating(train_files_n[i])\\n    x4 = log_count(train_files[i])\\n    x5 = if_no(train_files[i])\\n    x6 = if_exc(train_files[i])\\n    instance = np.asarray([1, x1,x2,x3,x4,x5,x6]).reshape(1,7)\\n\\n    train_data_matrix = np.append(train_data_matrix,instance,axis=0)\\n    \\n'"
      ]
     },
     "execution_count": 80,
     "metadata": {
      "tags": []
     },
     "output_type": "execute_result"
    }
   ],
   "source": []
  },
  {
   "cell_type": "code",
   "execution_count": 21,
   "metadata": {
    "colab": {
     "base_uri": "https://localhost:8080/",
     "height": 35
    },
    "colab_type": "code",
    "id": "Z-i7qe2u1HE2",
    "outputId": "6f1eb101-9e77-4747-b8a5-c6a29c6d94d9"
   },
   "outputs": [
    {
     "data": {
      "text/plain": [
       "(25001, 7)"
      ]
     },
     "execution_count": 21,
     "metadata": {
      "tags": []
     },
     "output_type": "execute_result"
    }
   ],
   "source": [
    "train_data_matrix.shape"
   ]
  },
  {
   "cell_type": "code",
   "execution_count": 0,
   "metadata": {
    "colab": {},
    "colab_type": "code",
    "id": "NEYFN3mJ99dF"
   },
   "outputs": [],
   "source": [
    "for i in range(test_files.shape[0]):\n",
    "\n",
    "      count = 0\n",
    "      words = str(test_files[i]).split()\n",
    "\n",
    "      for j in range(len(pos_words)):\n",
    "          if pos_words[j] in words:\n",
    "              count+=1\n",
    "      x1 =  count\n",
    "  \n",
    "      count = 0\n",
    "      \n",
    "      for k in range(len(neg_words)):\n",
    "          if neg_words[k] in words:\n",
    "              count+=1\n",
    "      x2 = count\n",
    "\n",
    "      rating =int(str(test_files_n[i]).split('.')[0].split('_')[1])\n",
    "      x3 = rating\n",
    "      count = 0\n",
    "      count = np.log2(len(words))\n",
    "      x4 = count\n",
    "  \n",
    "      if ' no ' in words:\n",
    "          found = 1\n",
    "      else:\n",
    "          found = 0\n",
    "      x5 = found \n",
    "\n",
    "      \n",
    "      if '!' in words:\n",
    "          found = 1\n",
    "      else:\n",
    "          found = 0\n",
    "      x6 = found \n",
    "\n",
    "      instance = np.asarray([1, x1,x2,x3,x4,x5,x6]).reshape(1,7)\n",
    "      test_data_matrix = np.append(test_data_matrix,instance,axis=0)\n",
    "            "
   ]
  },
  {
   "cell_type": "code",
   "execution_count": 23,
   "metadata": {
    "colab": {
     "base_uri": "https://localhost:8080/",
     "height": 53
    },
    "colab_type": "code",
    "id": "es4H9rveJJW3",
    "outputId": "7f2f3ef0-77ea-46e2-cf9c-776a8da27625"
   },
   "outputs": [
    {
     "data": {
      "text/plain": [
       "array([-0.7499338 , -0.79502122, -0.09403421,  0.24603308, -0.74289006,\n",
       "        0.1710541 ,  0.63651401])"
      ]
     },
     "execution_count": 23,
     "metadata": {
      "tags": []
     },
     "output_type": "execute_result"
    }
   ],
   "source": [
    "test_data_matrix[0]"
   ]
  },
  {
   "cell_type": "markdown",
   "metadata": {},
   "source": [
    "# Getting rid of the first random value"
   ]
  },
  {
   "cell_type": "code",
   "execution_count": 0,
   "metadata": {
    "colab": {},
    "colab_type": "code",
    "id": "UXAY2UM4-qVc"
   },
   "outputs": [],
   "source": [
    "test_data_matrix = test_data_matrix[1:,:]\n",
    "train_data_matrix = train_data_matrix[1:,:] \n"
   ]
  },
  {
   "cell_type": "code",
   "execution_count": 25,
   "metadata": {
    "colab": {
     "base_uri": "https://localhost:8080/",
     "height": 35
    },
    "colab_type": "code",
    "id": "548iYyeI_jWe",
    "outputId": "e4f0ffaf-b0fd-460b-9c78-2e10a2453898"
   },
   "outputs": [
    {
     "data": {
      "text/plain": [
       "array([1])"
      ]
     },
     "execution_count": 25,
     "metadata": {
      "tags": []
     },
     "output_type": "execute_result"
    }
   ],
   "source": [
    "test_data_matrix[2500]\n",
    "labels_test[2500]"
   ]
  },
  {
   "cell_type": "code",
   "execution_count": 0,
   "metadata": {
    "colab": {},
    "colab_type": "code",
    "id": "xTRA5Fk7_URi"
   },
   "outputs": [],
   "source": [
    "#training_gen = data_generator(\"train\",32)\n",
    "#testing_gen = data_generator(\"test\",32)"
   ]
  },
  {
   "cell_type": "code",
   "execution_count": 0,
   "metadata": {
    "colab": {},
    "colab_type": "code",
    "id": "5c4sBR_qlhyK"
   },
   "outputs": [],
   "source": []
  },
  {
   "cell_type": "code",
   "execution_count": 0,
   "metadata": {
    "colab": {},
    "colab_type": "code",
    "id": "DsT_2vE5AAfg"
   },
   "outputs": [],
   "source": [
    "\n",
    "\n",
    "J=[]"
   ]
  },
  {
   "cell_type": "markdown",
   "metadata": {},
   "source": [
    "# Training using Batch Gradient Descent"
   ]
  },
  {
   "cell_type": "code",
   "execution_count": 0,
   "metadata": {
    "colab": {},
    "colab_type": "code",
    "id": "OSfCr1ANpkuL"
   },
   "outputs": [],
   "source": [
    "\n",
    "for epch in range(epochs):\n",
    "  \n",
    "  logits = np.dot(train_data_matrix,W)\n",
    "  sig_acts =  1/(1+(np.exp(-logits)))\n",
    "  #sig_acts.shape\n",
    "  loss = -np.sum(labels_train*(np.log2(sig_acts+1e-50)) + (1-labels_train)*(np.log2(((1-sig_acts)+1e-50))))\n",
    "  loss = loss / sig_acts.shape[0]\n",
    "\n",
    "  J.append(loss)\n",
    "  # Now start computing the gradient\n",
    "  d_W = np.zeros_like(W)\n",
    "\n",
    "  d_W = np.dot((sig_acts - labels_train).T,(train_data_matrix)).T\n",
    "\n",
    "\n",
    "  d_b = np.sum(sig_acts - labels_train)\n",
    "  d_b = d_b / labels_train.shape[0]\n",
    "  d_W = d_W / train_data_matrix.shape[0]\n",
    "  b = b - lr*d_b\n",
    "  W = W - lr*d_W\n",
    "  #print(np.min(sig_acts),np.max(sig_acts))"
   ]
  },
  {
   "cell_type": "markdown",
   "metadata": {},
   "source": [
    "# Now we test our model on the test data and report our results"
   ]
  },
  {
   "cell_type": "code",
   "execution_count": 78,
   "metadata": {
    "colab": {
     "base_uri": "https://localhost:8080/",
     "height": 1000
    },
    "colab_type": "code",
    "id": "hLD5slYcUMXJ",
    "outputId": "1f7ff89e-e4ed-4c2c-d4e5-f27c2fd5a082"
   },
   "outputs": [
    {
     "data": {
      "text/plain": [
       "[array([[10.91676122]]),\n",
       " array([[7.10025661]]),\n",
       " array([[0.0130022]]),\n",
       " array([[0.02712852]]),\n",
       " array([[0.00136038]]),\n",
       " array([[15.38986282]]),\n",
       " array([[0.0731987]]),\n",
       " array([[6.76754132]]),\n",
       " array([[0.04252836]]),\n",
       " array([[3.65149027]]),\n",
       " array([[0.2089015]]),\n",
       " array([[0.27058653]]),\n",
       " array([[2.4022096]]),\n",
       " array([[0.40080705]]),\n",
       " array([[0.02619756]]),\n",
       " array([[0.02038946]]),\n",
       " array([[1.40253422]]),\n",
       " array([[1.83014293]]),\n",
       " array([[0.00817005]]),\n",
       " array([[0.04771723]]),\n",
       " array([[0.52345417]]),\n",
       " array([[0.35100665]]),\n",
       " array([[0.00646298]]),\n",
       " array([[0.05409998]]),\n",
       " array([[0.31639048]]),\n",
       " array([[0.4243385]]),\n",
       " array([[0.25645109]]),\n",
       " array([[0.01752749]]),\n",
       " array([[0.02245146]]),\n",
       " array([[0.02582183]]),\n",
       " array([[0.72332369]]),\n",
       " array([[0.77542395]]),\n",
       " array([[2.23043697]]),\n",
       " array([[0.31297009]]),\n",
       " array([[0.39824176]]),\n",
       " array([[0.07815566]]),\n",
       " array([[0.05100701]]),\n",
       " array([[0.00556028]]),\n",
       " array([[0.21089333]]),\n",
       " array([[0.04226619]]),\n",
       " array([[1.40882546]]),\n",
       " array([[0.03690163]]),\n",
       " array([[0.08566762]]),\n",
       " array([[0.09534018]]),\n",
       " array([[0.12824726]]),\n",
       " array([[6.27994909]]),\n",
       " array([[3.42564437]]),\n",
       " array([[0.00108533]]),\n",
       " array([[0.95793797]]),\n",
       " array([[0.00353473]]),\n",
       " array([[0.00349107]]),\n",
       " array([[0.67637723]]),\n",
       " array([[1.43906346]]),\n",
       " array([[0.21369377]]),\n",
       " array([[0.15949704]]),\n",
       " array([[0.08624577]]),\n",
       " array([[0.0977048]]),\n",
       " array([[0.00751961]]),\n",
       " array([[0.09087288]]),\n",
       " array([[0.73428769]]),\n",
       " array([[0.0036037]]),\n",
       " array([[2.49834341]]),\n",
       " array([[0.16429828]]),\n",
       " array([[0.0116378]]),\n",
       " array([[0.16333577]]),\n",
       " array([[0.01117132]]),\n",
       " array([[0.3610164]]),\n",
       " array([[0.02048153]]),\n",
       " array([[0.53101239]]),\n",
       " array([[0.24744801]]),\n",
       " array([[0.14626575]]),\n",
       " array([[0.25090721]]),\n",
       " array([[0.02598363]]),\n",
       " array([[0.1045492]]),\n",
       " array([[0.04607505]]),\n",
       " array([[0.36753426]]),\n",
       " array([[0.25415053]]),\n",
       " array([[0.06403273]]),\n",
       " array([[0.10298802]]),\n",
       " array([[0.0325467]]),\n",
       " array([[0.09212759]]),\n",
       " array([[0.24164858]]),\n",
       " array([[0.12783059]]),\n",
       " array([[0.18109408]]),\n",
       " array([[0.0170031]]),\n",
       " array([[0.04530463]]),\n",
       " array([[0.17786605]]),\n",
       " array([[0.42995664]]),\n",
       " array([[0.03588212]]),\n",
       " array([[0.03555947]]),\n",
       " array([[0.01302585]]),\n",
       " array([[0.06079809]]),\n",
       " array([[0.01413444]]),\n",
       " array([[0.01493969]]),\n",
       " array([[0.83620947]]),\n",
       " array([[0.04213614]]),\n",
       " array([[0.17376442]]),\n",
       " array([[0.02229992]]),\n",
       " array([[0.55493375]]),\n",
       " array([[0.02680261]]),\n",
       " array([[0.15331815]]),\n",
       " array([[0.29526821]]),\n",
       " array([[0.00339551]]),\n",
       " array([[0.10702266]]),\n",
       " array([[0.01146062]]),\n",
       " array([[0.00416227]]),\n",
       " array([[0.49065762]]),\n",
       " array([[0.01558256]]),\n",
       " array([[0.15786323]]),\n",
       " array([[0.00447064]]),\n",
       " array([[0.04773141]]),\n",
       " array([[0.05349219]]),\n",
       " array([[0.22662364]]),\n",
       " array([[0.22416575]]),\n",
       " array([[1.33464935]]),\n",
       " array([[0.08850483]]),\n",
       " array([[0.14481341]]),\n",
       " array([[0.04465955]]),\n",
       " array([[0.04718005]]),\n",
       " array([[0.43927168]]),\n",
       " array([[0.09067914]]),\n",
       " array([[0.12775044]]),\n",
       " array([[0.00223493]]),\n",
       " array([[0.00343536]]),\n",
       " array([[0.17788724]]),\n",
       " array([[0.00873527]]),\n",
       " array([[0.00871245]]),\n",
       " array([[0.02667617]]),\n",
       " array([[0.51852209]]),\n",
       " array([[0.02900093]]),\n",
       " array([[0.00452633]]),\n",
       " array([[0.00539585]]),\n",
       " array([[0.32602066]]),\n",
       " array([[0.10292795]]),\n",
       " array([[0.39356552]]),\n",
       " array([[0.01908829]]),\n",
       " array([[0.03808564]]),\n",
       " array([[0.39442335]]),\n",
       " array([[0.03474768]]),\n",
       " array([[0.01016097]]),\n",
       " array([[0.00701974]]),\n",
       " array([[0.05994521]]),\n",
       " array([[0.01264022]]),\n",
       " array([[1.08841476]]),\n",
       " array([[0.005074]]),\n",
       " array([[1.03652618]]),\n",
       " array([[0.03682176]]),\n",
       " array([[0.96927973]]),\n",
       " array([[0.41371127]]),\n",
       " array([[0.01978557]]),\n",
       " array([[0.127492]]),\n",
       " array([[0.40183245]]),\n",
       " array([[0.01534452]]),\n",
       " array([[0.17622826]]),\n",
       " array([[0.08591194]]),\n",
       " array([[0.01360517]]),\n",
       " array([[0.02831424]]),\n",
       " array([[0.2786235]]),\n",
       " array([[0.04928893]]),\n",
       " array([[0.06226129]]),\n",
       " array([[0.05578829]]),\n",
       " array([[0.10312877]]),\n",
       " array([[0.01836437]]),\n",
       " array([[0.15703921]]),\n",
       " array([[0.34231182]]),\n",
       " array([[0.03138934]]),\n",
       " array([[0.63216461]]),\n",
       " array([[0.0234813]]),\n",
       " array([[0.0308897]]),\n",
       " array([[0.2975272]]),\n",
       " array([[0.01795144]]),\n",
       " array([[0.71369081]]),\n",
       " array([[0.34128573]]),\n",
       " array([[0.01676319]]),\n",
       " array([[0.00828616]]),\n",
       " array([[0.10729136]]),\n",
       " array([[0.39703544]]),\n",
       " array([[0.11172499]]),\n",
       " array([[0.01783073]]),\n",
       " array([[2.23612876]]),\n",
       " array([[1.22951127]]),\n",
       " array([[0.00291089]]),\n",
       " array([[0.00209299]]),\n",
       " array([[0.02557244]]),\n",
       " array([[1.12806358]]),\n",
       " array([[0.84306816]]),\n",
       " array([[0.00981729]]),\n",
       " array([[0.02566403]]),\n",
       " array([[0.02316273]]),\n",
       " array([[0.13838198]]),\n",
       " array([[0.03923169]]),\n",
       " array([[0.00367188]]),\n",
       " array([[0.44861251]]),\n",
       " array([[0.01522088]]),\n",
       " array([[0.01542494]]),\n",
       " array([[0.10280176]]),\n",
       " array([[0.10865366]]),\n",
       " array([[0.2683339]]),\n",
       " array([[0.01689421]]),\n",
       " array([[0.19120395]]),\n",
       " array([[0.09539737]]),\n",
       " array([[0.03976529]]),\n",
       " array([[0.05738254]]),\n",
       " array([[0.03671058]]),\n",
       " array([[0.01102545]]),\n",
       " array([[0.4093461]]),\n",
       " array([[0.92400685]]),\n",
       " array([[0.01432171]]),\n",
       " array([[0.00814741]]),\n",
       " array([[0.40729886]]),\n",
       " array([[0.00740419]]),\n",
       " array([[0.01370525]]),\n",
       " array([[0.11082546]]),\n",
       " array([[0.0672041]]),\n",
       " array([[0.12520308]]),\n",
       " array([[0.19904762]]),\n",
       " array([[0.00972964]]),\n",
       " array([[0.23590112]]),\n",
       " array([[0.18680293]]),\n",
       " array([[0.28152095]]),\n",
       " array([[0.31798114]]),\n",
       " array([[0.00382522]]),\n",
       " array([[0.0073119]]),\n",
       " array([[0.00604927]]),\n",
       " array([[0.0106219]]),\n",
       " array([[0.02012784]]),\n",
       " array([[0.01788495]]),\n",
       " array([[0.00899755]]),\n",
       " array([[0.00488129]]),\n",
       " array([[0.00816489]]),\n",
       " array([[0.01398657]]),\n",
       " array([[0.03657442]]),\n",
       " array([[0.29854726]]),\n",
       " array([[0.00714969]]),\n",
       " array([[0.01037148]]),\n",
       " array([[0.01737553]]),\n",
       " array([[0.03525971]]),\n",
       " array([[0.01075146]]),\n",
       " array([[0.28202352]]),\n",
       " array([[0.28013948]]),\n",
       " array([[0.07377673]]),\n",
       " array([[0.00991359]]),\n",
       " array([[0.01448007]]),\n",
       " array([[0.12599808]]),\n",
       " array([[0.03029463]]),\n",
       " array([[0.29082967]]),\n",
       " array([[0.01877371]]),\n",
       " array([[0.00292463]]),\n",
       " array([[0.00829552]]),\n",
       " array([[0.16679499]]),\n",
       " array([[0.11756062]]),\n",
       " array([[0.01451217]]),\n",
       " array([[0.10576113]]),\n",
       " array([[0.38528617]]),\n",
       " array([[0.0127459]]),\n",
       " array([[0.02844559]]),\n",
       " array([[0.00866528]]),\n",
       " array([[0.00713566]]),\n",
       " array([[0.17466108]]),\n",
       " array([[0.05021793]]),\n",
       " array([[0.00941331]]),\n",
       " array([[0.06031688]]),\n",
       " array([[0.38938847]]),\n",
       " array([[0.00642107]]),\n",
       " array([[0.2662748]]),\n",
       " array([[0.02927437]]),\n",
       " array([[0.00678824]]),\n",
       " array([[0.39629209]]),\n",
       " array([[0.01155667]]),\n",
       " array([[0.26993802]]),\n",
       " array([[0.03952062]]),\n",
       " array([[0.00815698]]),\n",
       " array([[0.00788673]]),\n",
       " array([[0.02627602]]),\n",
       " array([[0.20307976]]),\n",
       " array([[0.01834742]]),\n",
       " array([[0.0051068]]),\n",
       " array([[0.04480437]]),\n",
       " array([[0.49704558]]),\n",
       " array([[0.7135079]]),\n",
       " array([[0.16648612]]),\n",
       " array([[0.01258171]]),\n",
       " array([[0.01318679]]),\n",
       " array([[0.1357826]]),\n",
       " array([[0.0167117]]),\n",
       " array([[0.0779222]]),\n",
       " array([[0.00640732]]),\n",
       " array([[0.01519692]]),\n",
       " array([[0.04012111]]),\n",
       " array([[0.00266403]]),\n",
       " array([[0.01295628]]),\n",
       " array([[0.01184086]]),\n",
       " array([[0.07141968]]),\n",
       " array([[0.00842376]]),\n",
       " array([[0.00856098]]),\n",
       " array([[0.00718467]]),\n",
       " array([[0.00617089]]),\n",
       " array([[0.00451016]]),\n",
       " array([[0.63206626]]),\n",
       " array([[0.00163521]]),\n",
       " array([[0.01221249]]),\n",
       " array([[0.02015862]]),\n",
       " array([[0.02572077]]),\n",
       " array([[0.01729572]]),\n",
       " array([[0.011601]]),\n",
       " array([[0.02462962]]),\n",
       " array([[0.01422418]]),\n",
       " array([[0.14566087]]),\n",
       " array([[0.13593231]]),\n",
       " array([[0.02775208]]),\n",
       " array([[0.12578425]]),\n",
       " array([[0.23430156]]),\n",
       " array([[0.01921875]]),\n",
       " array([[0.16678063]]),\n",
       " array([[0.45273665]]),\n",
       " array([[0.0030024]]),\n",
       " array([[0.00396738]]),\n",
       " array([[0.00362377]]),\n",
       " array([[0.01072162]]),\n",
       " array([[0.09426458]]),\n",
       " array([[0.00730435]]),\n",
       " array([[0.39694689]]),\n",
       " array([[0.3693584]]),\n",
       " array([[0.02514608]]),\n",
       " array([[0.86642201]]),\n",
       " array([[0.00974879]]),\n",
       " array([[0.02900539]]),\n",
       " array([[0.06981909]]),\n",
       " array([[0.5569597]]),\n",
       " array([[0.02614686]]),\n",
       " array([[0.01616526]]),\n",
       " array([[0.03991074]]),\n",
       " array([[0.00649802]]),\n",
       " array([[0.00545121]]),\n",
       " array([[0.46719001]]),\n",
       " array([[0.01506371]]),\n",
       " array([[0.01331063]]),\n",
       " array([[0.00668474]]),\n",
       " array([[0.00798664]]),\n",
       " array([[0.00716765]]),\n",
       " array([[0.02738154]]),\n",
       " array([[0.01257903]]),\n",
       " array([[0.00906207]]),\n",
       " array([[0.03973996]]),\n",
       " array([[0.00679066]]),\n",
       " array([[0.00462531]]),\n",
       " array([[0.00682029]]),\n",
       " array([[0.01436233]]),\n",
       " array([[0.00377873]]),\n",
       " array([[0.00480688]]),\n",
       " array([[0.15764292]]),\n",
       " array([[0.03301922]]),\n",
       " array([[0.02214546]]),\n",
       " array([[0.14562179]]),\n",
       " array([[0.00726462]]),\n",
       " array([[0.00265971]]),\n",
       " array([[0.08227462]]),\n",
       " array([[0.0856048]]),\n",
       " array([[0.53232933]]),\n",
       " array([[0.01123374]]),\n",
       " array([[0.00144299]]),\n",
       " array([[0.42537579]]),\n",
       " array([[0.01486048]]),\n",
       " array([[0.07899205]]),\n",
       " array([[0.01405673]]),\n",
       " array([[0.05015852]]),\n",
       " array([[0.01020954]]),\n",
       " array([[0.00644652]]),\n",
       " array([[0.01156841]]),\n",
       " array([[0.02472596]]),\n",
       " array([[0.0213409]]),\n",
       " array([[0.04773297]]),\n",
       " array([[0.00857906]]),\n",
       " array([[0.01138149]]),\n",
       " array([[0.05590543]]),\n",
       " array([[0.04836842]]),\n",
       " array([[0.00498057]]),\n",
       " array([[0.09955396]]),\n",
       " array([[0.03406018]]),\n",
       " array([[0.06833081]]),\n",
       " array([[0.09861765]]),\n",
       " array([[0.05616212]]),\n",
       " array([[0.00554218]]),\n",
       " array([[0.01078187]]),\n",
       " array([[0.12381128]]),\n",
       " array([[0.00208256]]),\n",
       " array([[0.01140667]]),\n",
       " array([[0.12475412]]),\n",
       " array([[0.00552687]]),\n",
       " array([[0.24948948]]),\n",
       " array([[0.13649855]]),\n",
       " array([[0.1124176]]),\n",
       " array([[0.04647021]]),\n",
       " array([[0.00657352]]),\n",
       " array([[0.08079201]]),\n",
       " array([[0.04776673]]),\n",
       " array([[0.0477695]]),\n",
       " array([[0.01953005]]),\n",
       " array([[0.00908349]]),\n",
       " array([[0.15033189]]),\n",
       " array([[0.00907949]]),\n",
       " array([[0.22680364]]),\n",
       " array([[0.0185125]]),\n",
       " array([[0.21132449]]),\n",
       " array([[0.01747833]]),\n",
       " array([[0.00580375]]),\n",
       " array([[0.00807341]]),\n",
       " array([[0.02208141]]),\n",
       " array([[0.00511951]]),\n",
       " array([[0.07683168]]),\n",
       " array([[0.00514439]]),\n",
       " array([[0.01657386]]),\n",
       " array([[0.0040172]]),\n",
       " array([[0.04661444]]),\n",
       " array([[0.10168234]]),\n",
       " array([[0.18519022]]),\n",
       " array([[0.42137023]]),\n",
       " array([[0.05401601]]),\n",
       " array([[0.22053]]),\n",
       " array([[0.00634632]]),\n",
       " array([[0.00260813]]),\n",
       " array([[0.00560255]]),\n",
       " array([[0.0124934]]),\n",
       " array([[0.00477333]]),\n",
       " array([[0.01430193]]),\n",
       " array([[0.01573834]]),\n",
       " array([[0.00592861]]),\n",
       " array([[0.02149268]]),\n",
       " array([[0.96225269]]),\n",
       " array([[0.00109196]]),\n",
       " array([[0.00148009]]),\n",
       " array([[0.26859648]]),\n",
       " array([[0.00083071]]),\n",
       " array([[0.52760378]]),\n",
       " array([[0.01609556]]),\n",
       " array([[0.02836139]]),\n",
       " array([[0.06087639]]),\n",
       " array([[0.01197101]]),\n",
       " array([[0.2058668]]),\n",
       " array([[0.00804807]]),\n",
       " array([[0.03123591]]),\n",
       " array([[0.05847651]]),\n",
       " array([[0.00161036]]),\n",
       " array([[0.02822877]]),\n",
       " array([[0.01352261]]),\n",
       " array([[0.03707144]]),\n",
       " array([[0.00736163]]),\n",
       " array([[0.05306041]]),\n",
       " array([[0.00321659]]),\n",
       " array([[0.00158181]]),\n",
       " array([[0.00232002]]),\n",
       " array([[0.00911415]]),\n",
       " array([[0.01277799]]),\n",
       " array([[0.15064051]]),\n",
       " array([[0.0127699]]),\n",
       " array([[0.02104024]]),\n",
       " array([[0.01014181]]),\n",
       " array([[0.00921491]]),\n",
       " array([[0.10432449]]),\n",
       " array([[0.01238196]]),\n",
       " array([[0.00263679]]),\n",
       " array([[0.00493747]]),\n",
       " array([[0.0746835]]),\n",
       " array([[0.00354709]]),\n",
       " array([[0.10118252]]),\n",
       " array([[0.45813918]]),\n",
       " array([[0.47946648]]),\n",
       " array([[0.00035786]]),\n",
       " array([[0.01452069]]),\n",
       " array([[0.04510367]]),\n",
       " array([[0.01893757]]),\n",
       " array([[0.05043151]]),\n",
       " array([[0.00378614]]),\n",
       " array([[0.01274405]]),\n",
       " array([[0.13143517]]),\n",
       " array([[0.00415428]]),\n",
       " array([[0.05777742]]),\n",
       " array([[0.08156608]]),\n",
       " array([[0.17426207]]),\n",
       " array([[0.00430862]]),\n",
       " array([[0.00573529]]),\n",
       " array([[0.0284223]]),\n",
       " array([[0.00567181]]),\n",
       " array([[0.14588916]]),\n",
       " array([[0.04752711]]),\n",
       " array([[0.20582309]]),\n",
       " array([[0.02130996]]),\n",
       " array([[0.13664168]]),\n",
       " array([[0.01020255]]),\n",
       " array([[0.27638622]]),\n",
       " array([[0.13415273]]),\n",
       " array([[0.00774315]]),\n",
       " array([[0.01005623]]),\n",
       " array([[0.70585836]]),\n",
       " array([[0.01603893]]),\n",
       " array([[0.03130047]]),\n",
       " array([[0.0266207]]),\n",
       " array([[0.01841841]]),\n",
       " array([[0.03041642]]),\n",
       " array([[0.00407576]]),\n",
       " array([[0.01649575]]),\n",
       " array([[0.01929956]]),\n",
       " array([[0.00493566]]),\n",
       " array([[0.01366768]]),\n",
       " array([[0.04996823]]),\n",
       " array([[0.00321568]]),\n",
       " array([[0.00769472]]),\n",
       " array([[0.00320061]]),\n",
       " array([[0.5756798]]),\n",
       " array([[0.01575362]]),\n",
       " array([[0.06398694]]),\n",
       " array([[0.00571489]]),\n",
       " array([[0.18442067]]),\n",
       " array([[0.10440759]]),\n",
       " array([[0.01660691]]),\n",
       " array([[0.01246415]]),\n",
       " array([[0.04615837]]),\n",
       " array([[0.03071778]]),\n",
       " array([[0.01624694]]),\n",
       " array([[0.00494152]]),\n",
       " array([[0.00459647]]),\n",
       " array([[0.16814758]]),\n",
       " array([[0.00751028]]),\n",
       " array([[0.02465047]]),\n",
       " array([[0.10846419]]),\n",
       " array([[0.05687117]]),\n",
       " array([[0.00588002]]),\n",
       " array([[0.01844608]]),\n",
       " array([[0.00497048]]),\n",
       " array([[0.17201042]]),\n",
       " array([[0.02263437]]),\n",
       " array([[0.0062416]]),\n",
       " array([[0.10976846]]),\n",
       " array([[0.0932466]]),\n",
       " array([[0.0270779]]),\n",
       " array([[0.24623433]]),\n",
       " array([[0.00809263]]),\n",
       " array([[0.01464806]]),\n",
       " array([[0.01636152]]),\n",
       " array([[0.00361616]]),\n",
       " array([[0.00461837]]),\n",
       " array([[0.13267584]]),\n",
       " array([[0.00796639]]),\n",
       " array([[0.34113569]]),\n",
       " array([[0.00408382]]),\n",
       " array([[0.00885186]]),\n",
       " array([[0.06428933]]),\n",
       " array([[0.02885673]]),\n",
       " array([[0.00828982]]),\n",
       " array([[0.00987396]]),\n",
       " array([[0.15721236]]),\n",
       " array([[0.00329389]]),\n",
       " array([[0.17028314]]),\n",
       " array([[0.04369021]]),\n",
       " array([[0.37014122]]),\n",
       " array([[0.00406973]]),\n",
       " array([[0.15690509]]),\n",
       " array([[0.35171345]]),\n",
       " array([[0.00101709]]),\n",
       " array([[0.00939278]]),\n",
       " array([[0.0044449]]),\n",
       " array([[0.00290592]]),\n",
       " array([[0.00485458]]),\n",
       " array([[0.00726652]]),\n",
       " array([[0.03598932]]),\n",
       " array([[0.00155731]]),\n",
       " array([[0.00870425]]),\n",
       " array([[0.05964144]]),\n",
       " array([[0.03738543]]),\n",
       " array([[0.08853314]]),\n",
       " array([[0.03158996]]),\n",
       " array([[0.06612555]]),\n",
       " array([[0.10843567]]),\n",
       " array([[0.00546322]]),\n",
       " array([[0.0620281]]),\n",
       " array([[0.2866032]]),\n",
       " array([[0.06347866]]),\n",
       " array([[0.15019287]]),\n",
       " array([[0.16303572]]),\n",
       " array([[0.01927444]]),\n",
       " array([[0.04375375]]),\n",
       " array([[0.02756347]]),\n",
       " array([[0.01086375]]),\n",
       " array([[0.00349478]]),\n",
       " array([[0.18346226]]),\n",
       " array([[0.08286201]]),\n",
       " array([[0.19086005]]),\n",
       " array([[0.02401515]]),\n",
       " array([[0.07082016]]),\n",
       " array([[0.0034191]]),\n",
       " array([[0.00098412]]),\n",
       " array([[0.00469444]]),\n",
       " array([[0.00763338]]),\n",
       " array([[0.00260952]]),\n",
       " array([[0.00853988]]),\n",
       " array([[0.00481755]]),\n",
       " array([[0.07226805]]),\n",
       " array([[0.02617996]]),\n",
       " array([[0.01351749]]),\n",
       " array([[0.01824739]]),\n",
       " array([[0.24305309]]),\n",
       " array([[0.03642706]]),\n",
       " array([[0.08879284]]),\n",
       " array([[0.05364534]]),\n",
       " array([[0.09202074]]),\n",
       " array([[0.0098495]]),\n",
       " array([[0.04967369]]),\n",
       " array([[0.0004501]]),\n",
       " array([[0.01414675]]),\n",
       " array([[0.06121691]]),\n",
       " array([[0.0140379]]),\n",
       " array([[0.00417914]]),\n",
       " array([[0.0072959]]),\n",
       " array([[0.00154826]]),\n",
       " array([[0.00082809]]),\n",
       " array([[0.00977881]]),\n",
       " array([[0.02626863]]),\n",
       " array([[0.00112723]]),\n",
       " array([[0.02607787]]),\n",
       " array([[0.0039229]]),\n",
       " array([[0.00944904]]),\n",
       " array([[0.00232013]]),\n",
       " array([[0.04704368]]),\n",
       " array([[0.00232098]]),\n",
       " array([[0.00194818]]),\n",
       " array([[0.03360049]]),\n",
       " array([[0.05360573]]),\n",
       " array([[0.01680759]]),\n",
       " array([[0.47882673]]),\n",
       " array([[0.02866887]]),\n",
       " array([[0.009148]]),\n",
       " array([[0.04817451]]),\n",
       " array([[0.00298018]]),\n",
       " array([[0.00271758]]),\n",
       " array([[0.00426592]]),\n",
       " array([[0.00142892]]),\n",
       " array([[0.01526361]]),\n",
       " array([[0.00556603]]),\n",
       " array([[0.00169933]]),\n",
       " array([[0.19714209]]),\n",
       " array([[0.06240483]]),\n",
       " array([[0.00898712]]),\n",
       " array([[0.0093205]]),\n",
       " array([[0.01089757]]),\n",
       " array([[0.00270417]]),\n",
       " array([[0.00195573]]),\n",
       " array([[0.01846358]]),\n",
       " array([[0.00653679]]),\n",
       " array([[0.05557492]]),\n",
       " array([[0.00826695]]),\n",
       " array([[0.00358731]]),\n",
       " array([[0.02276123]]),\n",
       " array([[0.0135617]]),\n",
       " array([[0.04875414]]),\n",
       " array([[0.00554378]]),\n",
       " array([[0.00825272]]),\n",
       " array([[0.00136327]]),\n",
       " array([[0.0026576]]),\n",
       " array([[0.0178877]]),\n",
       " array([[0.00300009]]),\n",
       " array([[0.00525332]]),\n",
       " array([[0.01572975]]),\n",
       " array([[0.00401959]]),\n",
       " array([[0.08060833]]),\n",
       " array([[0.00178017]]),\n",
       " array([[0.07461612]]),\n",
       " array([[0.00205377]]),\n",
       " array([[0.00720056]]),\n",
       " array([[0.0482981]]),\n",
       " array([[0.00168263]]),\n",
       " array([[0.02835314]]),\n",
       " array([[0.08882446]]),\n",
       " array([[0.00570068]]),\n",
       " array([[0.00238025]]),\n",
       " array([[0.01696485]]),\n",
       " array([[0.18981531]]),\n",
       " array([[0.01248098]]),\n",
       " array([[0.00133355]]),\n",
       " array([[0.00329565]]),\n",
       " array([[0.00223049]]),\n",
       " array([[0.02285245]]),\n",
       " array([[0.00487728]]),\n",
       " array([[0.00164787]]),\n",
       " array([[0.00202435]]),\n",
       " array([[0.24752194]]),\n",
       " array([[0.45043807]]),\n",
       " array([[0.11919015]]),\n",
       " array([[0.58042626]]),\n",
       " array([[0.00487609]]),\n",
       " array([[0.10632112]]),\n",
       " array([[0.00597623]]),\n",
       " array([[0.00688601]]),\n",
       " array([[0.14130069]]),\n",
       " array([[0.0046928]]),\n",
       " array([[0.20563718]]),\n",
       " array([[0.27993362]]),\n",
       " array([[0.00061217]]),\n",
       " array([[0.02608644]]),\n",
       " array([[0.00224926]]),\n",
       " array([[0.00728253]]),\n",
       " array([[0.04917303]]),\n",
       " array([[0.00515674]]),\n",
       " array([[0.11433662]]),\n",
       " array([[0.00171119]]),\n",
       " array([[0.00336173]]),\n",
       " array([[0.0219947]]),\n",
       " array([[0.00290695]]),\n",
       " array([[0.00498502]]),\n",
       " array([[0.00300631]]),\n",
       " array([[0.09633186]]),\n",
       " array([[0.17093153]]),\n",
       " array([[0.00038161]]),\n",
       " array([[0.25659328]]),\n",
       " array([[0.04132595]]),\n",
       " array([[0.00161982]]),\n",
       " array([[0.19829591]]),\n",
       " array([[0.04154593]]),\n",
       " array([[0.01541304]]),\n",
       " array([[0.00390214]]),\n",
       " array([[0.12155639]]),\n",
       " array([[0.01256162]]),\n",
       " array([[0.00589067]]),\n",
       " array([[0.02285874]]),\n",
       " array([[0.08903493]]),\n",
       " array([[0.00286064]]),\n",
       " array([[0.00111694]]),\n",
       " array([[0.01726196]]),\n",
       " array([[0.0041086]]),\n",
       " array([[0.00382983]]),\n",
       " array([[0.02887168]]),\n",
       " array([[0.05062716]]),\n",
       " array([[0.01806749]]),\n",
       " array([[0.00330938]]),\n",
       " array([[0.03965128]]),\n",
       " array([[0.01013615]]),\n",
       " array([[0.0071362]]),\n",
       " array([[0.01259336]]),\n",
       " array([[0.51438893]]),\n",
       " array([[0.0028315]]),\n",
       " array([[0.00985341]]),\n",
       " array([[0.00263333]]),\n",
       " array([[0.00338083]]),\n",
       " array([[0.0014701]]),\n",
       " array([[0.02439329]]),\n",
       " array([[0.02759817]]),\n",
       " array([[0.20270514]]),\n",
       " array([[0.01335695]]),\n",
       " array([[0.1471868]]),\n",
       " array([[0.01728106]]),\n",
       " array([[0.25542888]]),\n",
       " array([[0.02257895]]),\n",
       " array([[0.00030989]]),\n",
       " array([[0.00073189]]),\n",
       " array([[0.07602994]]),\n",
       " array([[0.02255231]]),\n",
       " array([[0.60395525]]),\n",
       " array([[0.02295415]]),\n",
       " array([[0.01214871]]),\n",
       " array([[0.0386427]]),\n",
       " array([[0.00142295]]),\n",
       " array([[0.12979974]]),\n",
       " array([[0.00158964]]),\n",
       " array([[0.00254109]]),\n",
       " array([[0.00186806]]),\n",
       " array([[0.16579775]]),\n",
       " array([[0.12351646]]),\n",
       " array([[0.03457015]]),\n",
       " array([[0.06345218]]),\n",
       " array([[0.01342637]]),\n",
       " array([[0.00737666]]),\n",
       " array([[0.03242776]]),\n",
       " array([[0.00088774]]),\n",
       " array([[0.01098286]]),\n",
       " array([[0.0012201]]),\n",
       " array([[0.00017997]]),\n",
       " array([[0.00556316]]),\n",
       " array([[0.00310746]]),\n",
       " array([[0.0034884]]),\n",
       " array([[0.01072266]]),\n",
       " array([[0.00607628]]),\n",
       " array([[0.04609475]]),\n",
       " array([[0.00693146]]),\n",
       " array([[0.06113405]]),\n",
       " array([[0.0009629]]),\n",
       " array([[0.00020905]]),\n",
       " array([[0.02561302]]),\n",
       " array([[0.0225808]]),\n",
       " array([[0.62812592]]),\n",
       " array([[0.07881434]]),\n",
       " array([[0.0022769]]),\n",
       " array([[0.00213831]]),\n",
       " array([[0.00128753]]),\n",
       " array([[0.00342205]]),\n",
       " array([[0.00068423]]),\n",
       " array([[0.02281648]]),\n",
       " array([[0.06785999]]),\n",
       " array([[0.00297238]]),\n",
       " array([[0.01808714]]),\n",
       " array([[0.00806775]]),\n",
       " array([[0.00149149]]),\n",
       " array([[0.00832368]]),\n",
       " array([[0.00188302]]),\n",
       " array([[0.00526207]]),\n",
       " array([[0.00289421]]),\n",
       " array([[0.00664958]]),\n",
       " array([[0.00242483]]),\n",
       " array([[0.12855409]]),\n",
       " array([[0.05470743]]),\n",
       " array([[0.01285718]]),\n",
       " array([[0.04333758]]),\n",
       " array([[0.22680321]]),\n",
       " array([[0.07619433]]),\n",
       " array([[0.00433149]]),\n",
       " array([[0.00572085]]),\n",
       " array([[0.12170767]]),\n",
       " array([[0.06068784]]),\n",
       " array([[0.0351529]]),\n",
       " array([[0.03850356]]),\n",
       " array([[0.04086315]]),\n",
       " array([[0.00194932]]),\n",
       " array([[0.02078391]]),\n",
       " array([[0.08331864]]),\n",
       " array([[0.15329888]]),\n",
       " array([[0.00125497]]),\n",
       " array([[0.03781758]]),\n",
       " array([[0.02613185]]),\n",
       " array([[0.00101478]]),\n",
       " array([[0.11137592]]),\n",
       " array([[0.03721335]]),\n",
       " array([[0.14200584]]),\n",
       " array([[0.42321452]]),\n",
       " array([[0.02720952]]),\n",
       " array([[0.00193274]]),\n",
       " array([[0.00189478]]),\n",
       " array([[0.14527497]]),\n",
       " array([[0.00087301]]),\n",
       " array([[0.00185125]]),\n",
       " array([[0.00138152]]),\n",
       " array([[0.02353506]]),\n",
       " array([[0.00619374]]),\n",
       " array([[0.01288351]]),\n",
       " array([[0.41597799]]),\n",
       " array([[0.00220593]]),\n",
       " array([[0.10907248]]),\n",
       " array([[0.00140144]]),\n",
       " array([[0.00061376]]),\n",
       " array([[0.01095489]]),\n",
       " array([[0.04545951]]),\n",
       " array([[0.00841836]]),\n",
       " array([[0.03015415]]),\n",
       " array([[0.02393101]]),\n",
       " array([[0.00087253]]),\n",
       " array([[0.04124068]]),\n",
       " array([[0.00740944]]),\n",
       " array([[0.06542602]]),\n",
       " array([[0.02230478]]),\n",
       " array([[0.29015606]]),\n",
       " array([[0.00128482]]),\n",
       " array([[0.00219165]]),\n",
       " array([[0.00149453]]),\n",
       " array([[0.00155351]]),\n",
       " array([[0.02114343]]),\n",
       " array([[0.01708566]]),\n",
       " array([[0.03393735]]),\n",
       " array([[0.07579571]]),\n",
       " array([[0.14411702]]),\n",
       " array([[0.00777021]]),\n",
       " array([[0.0474375]]),\n",
       " array([[0.22806787]]),\n",
       " array([[0.02397696]]),\n",
       " array([[0.00826596]]),\n",
       " array([[0.00820518]]),\n",
       " array([[0.00173774]]),\n",
       " array([[0.09829982]]),\n",
       " array([[0.00738203]]),\n",
       " array([[0.00403662]]),\n",
       " array([[0.00331028]]),\n",
       " array([[0.00164312]]),\n",
       " array([[0.00457136]]),\n",
       " array([[0.00063793]]),\n",
       " array([[0.0006952]]),\n",
       " array([[0.00469127]]),\n",
       " array([[0.0106191]]),\n",
       " array([[0.02118853]]),\n",
       " array([[0.0097343]]),\n",
       " array([[0.08245471]]),\n",
       " array([[0.1130099]]),\n",
       " array([[0.00090237]]),\n",
       " array([[0.03806417]]),\n",
       " array([[0.00794241]]),\n",
       " array([[0.05283659]]),\n",
       " array([[0.02416081]]),\n",
       " array([[0.68146476]]),\n",
       " array([[0.00423147]]),\n",
       " array([[0.16123066]]),\n",
       " array([[0.01177768]]),\n",
       " array([[0.01083778]]),\n",
       " array([[0.00291714]]),\n",
       " array([[0.55361025]]),\n",
       " array([[0.00089749]]),\n",
       " array([[0.04329795]]),\n",
       " array([[0.00385342]]),\n",
       " array([[0.00663441]]),\n",
       " array([[0.00458308]]),\n",
       " array([[0.00177614]]),\n",
       " array([[0.00176958]]),\n",
       " array([[0.00593707]]),\n",
       " array([[0.00228283]]),\n",
       " array([[0.2087183]]),\n",
       " array([[0.01752535]]),\n",
       " array([[0.00419928]]),\n",
       " array([[0.51949531]]),\n",
       " array([[0.02042447]]),\n",
       " array([[0.06400642]]),\n",
       " array([[0.0515242]]),\n",
       " array([[0.2630234]]),\n",
       " array([[0.02655459]]),\n",
       " array([[0.00662891]]),\n",
       " array([[0.04854422]]),\n",
       " array([[0.00151988]]),\n",
       " array([[0.04335149]]),\n",
       " array([[0.02053348]]),\n",
       " array([[0.07053557]]),\n",
       " array([[0.0046516]]),\n",
       " array([[0.15715136]]),\n",
       " array([[0.00688066]]),\n",
       " array([[0.00074497]]),\n",
       " array([[0.13008805]]),\n",
       " array([[0.00278223]]),\n",
       " array([[0.00403475]]),\n",
       " array([[0.00589133]]),\n",
       " array([[0.0024686]]),\n",
       " array([[0.0767396]]),\n",
       " array([[0.05183448]]),\n",
       " array([[0.00286103]]),\n",
       " array([[0.31070613]]),\n",
       " array([[0.00114242]]),\n",
       " array([[0.00881952]]),\n",
       " array([[0.00170166]]),\n",
       " array([[0.03001094]]),\n",
       " array([[0.0325052]]),\n",
       " array([[0.10964]]),\n",
       " array([[0.44673604]]),\n",
       " array([[0.12855106]]),\n",
       " array([[0.00148022]]),\n",
       " array([[0.15280219]]),\n",
       " array([[0.00258546]]),\n",
       " array([[0.00387453]]),\n",
       " array([[0.00901527]]),\n",
       " array([[0.02938723]]),\n",
       " array([[0.24504653]]),\n",
       " array([[0.00455062]]),\n",
       " array([[0.03007702]]),\n",
       " array([[0.00218584]]),\n",
       " array([[0.29611996]]),\n",
       " array([[0.06270076]]),\n",
       " array([[9.80589769e-05]]),\n",
       " array([[0.00065817]]),\n",
       " array([[0.10398997]]),\n",
       " array([[0.20885012]]),\n",
       " array([[0.01828932]]),\n",
       " array([[0.14535943]]),\n",
       " array([[0.01393189]]),\n",
       " array([[0.05340509]]),\n",
       " array([[0.17574294]]),\n",
       " array([[0.04571589]]),\n",
       " array([[0.08297407]]),\n",
       " array([[0.01332744]]),\n",
       " array([[0.00868323]]),\n",
       " array([[0.00982492]]),\n",
       " array([[0.14642977]]),\n",
       " array([[0.00118031]]),\n",
       " array([[0.00175165]]),\n",
       " array([[1.6430633]]),\n",
       " array([[0.01884858]]),\n",
       " array([[0.00780142]]),\n",
       " array([[0.04560036]]),\n",
       " array([[1.0151477]]),\n",
       " array([[0.0045119]]),\n",
       " array([[0.07155288]]),\n",
       " array([[0.00167887]]),\n",
       " array([[0.00147167]]),\n",
       " array([[0.00292875]]),\n",
       " array([[0.0027895]]),\n",
       " array([[0.00103243]]),\n",
       " array([[0.00251896]]),\n",
       " array([[0.00213309]]),\n",
       " array([[0.00636771]]),\n",
       " array([[0.00230597]]),\n",
       " array([[0.11339098]]),\n",
       " array([[0.00378882]]),\n",
       " array([[0.00168246]]),\n",
       " array([[0.00239336]]),\n",
       " array([[0.00070436]]),\n",
       " array([[0.00199762]]),\n",
       " array([[0.00080757]]),\n",
       " array([[0.0190648]]),\n",
       " array([[0.04094401]]),\n",
       " array([[0.17985368]]),\n",
       " array([[0.19762282]]),\n",
       " ...]"
      ]
     },
     "execution_count": 78,
     "metadata": {
      "tags": []
     },
     "output_type": "execute_result"
    }
   ],
   "source": [
    "# Loss\n",
    "J"
   ]
  },
  {
   "cell_type": "code",
   "execution_count": 79,
   "metadata": {
    "colab": {
     "base_uri": "https://localhost:8080/",
     "height": 143
    },
    "colab_type": "code",
    "id": "2jOIvZuSHQGY",
    "outputId": "59e50bb4-5ae7-4f24-8506-18946db946bd"
   },
   "outputs": [
    {
     "data": {
      "text/plain": [
       "array([[-1.18736791],\n",
       "       [ 0.28086835],\n",
       "       [ 0.0828928 ],\n",
       "       [ 3.08855425],\n",
       "       [-2.38812045],\n",
       "       [ 0.1710541 ],\n",
       "       [ 0.6342401 ]])"
      ]
     },
     "execution_count": 79,
     "metadata": {
      "tags": []
     },
     "output_type": "execute_result"
    }
   ],
   "source": [
    "# Learnt weights\n",
    "W"
   ]
  },
  {
   "cell_type": "code",
   "execution_count": 0,
   "metadata": {
    "colab": {},
    "colab_type": "code",
    "id": "Fp_o3uukBMH-"
   },
   "outputs": [],
   "source": [
    "logits = np.dot(test_data_matrix,W)\n",
    "sig_acts =  1/(1+(np.exp(-logits)))\n",
    "preds = np.zeros_like((sig_acts)).reshape(test_files.shape[0],1)\n",
    "mask = sig_acts > 0.5\n",
    "preds[mask] = 1\n"
   ]
  },
  {
   "cell_type": "code",
   "execution_count": 82,
   "metadata": {
    "colab": {
     "base_uri": "https://localhost:8080/",
     "height": 35
    },
    "colab_type": "code",
    "id": "2UCOj71xc2jZ",
    "outputId": "e4c9c0b2-9cd1-40b5-cff5-7be6f7c42d24"
   },
   "outputs": [
    {
     "name": "stdout",
     "output_type": "stream",
     "text": [
      "The accuracy on the test data is:  0.9998\n"
     ]
    }
   ],
   "source": [
    "# Calculating accuracy\n",
    "\n",
    "acc = accuracy(preds,labels_test)\n",
    "acc = acc / labels_test.shape[0]\n",
    "\n",
    "print(\"The accuracy on the test data is: \", acc)"
   ]
  },
  {
   "cell_type": "markdown",
   "metadata": {},
   "source": [
    "# Now using SGD"
   ]
  },
  {
   "cell_type": "code",
   "execution_count": 88,
   "metadata": {
    "colab": {
     "base_uri": "https://localhost:8080/",
     "height": 143
    },
    "colab_type": "code",
    "id": "3EjKJg-V2Nvv",
    "outputId": "04e05f25-b148-4620-e475-6c6afd622931"
   },
   "outputs": [
    {
     "data": {
      "text/plain": [
       "array([[-0.21557251],\n",
       "       [ 0.39691112],\n",
       "       [-0.10484902],\n",
       "       [ 0.37536773],\n",
       "       [ 0.01741159],\n",
       "       [-0.49868401],\n",
       "       [-0.51779689]])"
      ]
     },
     "execution_count": 88,
     "metadata": {
      "tags": []
     },
     "output_type": "execute_result"
    }
   ],
   "source": [
    "\n",
    "W = np.random.randn((7)).reshape(7,1)\n",
    "\n",
    "W"
   ]
  },
  {
   "cell_type": "code",
   "execution_count": 0,
   "metadata": {
    "colab": {},
    "colab_type": "code",
    "id": "_dIlUZpp2OIU"
   },
   "outputs": [],
   "source": [
    "\n",
    "for epch in range(24999):\n",
    "  \n",
    "  logits = np.dot(train_data_matrix[epch].reshape(1,7),W)\n",
    "  \n",
    "  sig_acts =  1/(1+(np.exp(-logits)))\n",
    "  #sig_acts.shape\n",
    "  loss = -(labels_train[epch].reshape(1,1)*(np.log2(sig_acts+1e-50)) + (1-labels_train[epch])*(np.log2(((1-sig_acts)+1e-50))))\n",
    "  \n",
    "  J.append(loss)\n",
    "  # Now start computing the gradient\n",
    "  d_W = np.zeros_like(W)\n",
    "\n",
    "  d_W = np.dot((sig_acts - labels_train[epch]).reshape(1,1),(train_data_matrix[epch].reshape(1,7))).T\n",
    "  d_b = (sig_acts - labels_train)\n",
    "\n",
    "  b = b - lr*d_b\n",
    "  W = W - lr*d_W\n",
    "  "
   ]
  },
  {
   "cell_type": "code",
   "execution_count": 28,
   "metadata": {
    "colab": {
     "base_uri": "https://localhost:8080/",
     "height": 143
    },
    "colab_type": "code",
    "id": "L245eDzC6eA6",
    "outputId": "0a3db5d7-f589-4a56-8841-79e15f9cff5f"
   },
   "outputs": [
    {
     "data": {
      "text/plain": [
       "array([[-1.17446624],\n",
       "       [ 0.26902658],\n",
       "       [ 0.06037401],\n",
       "       [ 3.03003928],\n",
       "       [-2.3617397 ],\n",
       "       [ 0.1710541 ],\n",
       "       [ 0.63424858]])"
      ]
     },
     "execution_count": 28,
     "metadata": {
      "tags": []
     },
     "output_type": "execute_result"
    }
   ],
   "source": [
    "W"
   ]
  },
  {
   "cell_type": "code",
   "execution_count": 0,
   "metadata": {
    "colab": {},
    "colab_type": "code",
    "id": "F8JChnFj2OQL"
   },
   "outputs": [],
   "source": [
    "logits = np.dot(test_data_matrix,W)\n",
    "sig_acts =  1/(1+(np.exp(-logits)))\n",
    "preds = np.zeros_like((sig_acts)).reshape(test_files.shape[0],1)\n",
    "mask = sig_acts > 0.5\n",
    "preds[mask] = 1"
   ]
  },
  {
   "cell_type": "code",
   "execution_count": 31,
   "metadata": {
    "colab": {
     "base_uri": "https://localhost:8080/",
     "height": 35
    },
    "colab_type": "code",
    "id": "NLFS7k3D2Ofn",
    "outputId": "18f70e31-4058-4178-cb44-d829665d5f25"
   },
   "outputs": [
    {
     "name": "stdout",
     "output_type": "stream",
     "text": [
      "The accuracy on the test data is:  0.99984\n"
     ]
    }
   ],
   "source": [
    "# Calculating accuracy\n",
    "\n",
    "acc = accuracy(preds,labels_test)\n",
    "acc = acc / labels_test.shape[0]\n",
    "\n",
    "print(\"The accuracy on the test data is: \", acc)"
   ]
  },
  {
   "cell_type": "markdown",
   "metadata": {
    "colab": {},
    "colab_type": "code",
    "id": "XWJUAslbQC9R"
   },
   "source": [
    "# Confusion matrix"
   ]
  },
  {
   "cell_type": "code",
   "execution_count": 43,
   "metadata": {
    "colab": {
     "base_uri": "https://localhost:8080/",
     "height": 35
    },
    "colab_type": "code",
    "id": "XrET5a_tQC9U",
    "outputId": "9781ade4-b0f1-4203-e03c-778eb3e9c1eb"
   },
   "outputs": [
    {
     "data": {
      "text/plain": [
       "(25000, 1)"
      ]
     },
     "execution_count": 43,
     "metadata": {
      "tags": []
     },
     "output_type": "execute_result"
    }
   ],
   "source": [
    "t_p,t_n,f_p,f_n = 0,0,0,0\n",
    "mask = np.zeros_like((preds))\n"
   ]
  },
  {
   "cell_type": "code",
   "execution_count": 54,
   "metadata": {
    "colab": {
     "base_uri": "https://localhost:8080/",
     "height": 35
    },
    "colab_type": "code",
    "id": "h4iormk6zOyj",
    "outputId": "8ed3b7cf-e851-46ac-8995-125afa855a74"
   },
   "outputs": [
    {
     "name": "stdout",
     "output_type": "stream",
     "text": [
      "12500.0 12496.0 4.0 0.0\n"
     ]
    }
   ],
   "source": [
    "mask = preds[preds == labels_test] \n",
    "t_p = np.sum(mask)\n",
    "t_n = len(mask) - t_p\n",
    "mask = preds[preds != labels_test] \n",
    "f_p = np.sum(mask)\n",
    "f_n = len(mask) - f_p\n",
    "print(t_p,t_n,f_p,f_n)"
   ]
  },
  {
   "cell_type": "code",
   "execution_count": 71,
   "metadata": {
    "colab": {
     "base_uri": "https://localhost:8080/",
     "height": 625
    },
    "colab_type": "code",
    "id": "y_UghGbKzQfS",
    "outputId": "3b6459c4-4299-4c8d-d329-19905c4552f4"
   },
   "outputs": [
    {
     "data": {
      "text/plain": [
       "<matplotlib.table.Table at 0x7f37f7f89a90>"
      ]
     },
     "execution_count": 71,
     "metadata": {
      "tags": []
     },
     "output_type": "execute_result"
    },
    {
     "data": {
      "image/png": "[encoded data removed]",
      "text/plain": [
       "<Figure size 432x288 with 2 Axes>"
      ]
     },
     "metadata": {
      "tags": []
     },
     "output_type": "display_data"
    }
   ],
   "source": [
    "left, width = 0.1, 0.1\n",
    "bottom, height = 0.1, 0.1\n",
    "left_table = 0\n",
    "table_width = 1\n",
    "table_height = 1\n",
    "\n",
    "#rect_main = [left, bottom, width, height]\n",
    "rect_table1 = [left_table, table_height+bottom , table_width, table_height]\n",
    "rect_table2 = [left_table, bottom, table_width, table_height]\n",
    "\n",
    "#axMain = plt.axes(rect_main)\n",
    "axTable1 = plt.axes(rect_table1, frameon =False)\n",
    "axTable2 = plt.axes(rect_table2, frameon =False)\n",
    "axTable1.axes.get_xaxis().set_visible(False)\n",
    "axTable2.axes.get_xaxis().set_visible(False)\n",
    "axTable1.axes.get_yaxis().set_visible(False)\n",
    "axTable2.axes.get_yaxis().set_visible(False)\n",
    "\n",
    "axMain.plot([1,2,3])\n",
    "axTable1.table(cellText=[[t_p,f_p],[f_n,t_n]],\n",
    "               rowLabels=['True_P','False_P'], colLabels=['True_G','False_G'])"
   ]
  },
  {
   "cell_type": "code",
   "execution_count": 73,
   "metadata": {
    "colab": {
     "base_uri": "https://localhost:8080/",
     "height": 89
    },
    "colab_type": "code",
    "id": "SBLWIlqiDD5j",
    "outputId": "fd894a8c-fe36-4a0a-9e8d-9bec59b7db61"
   },
   "outputs": [
    {
     "name": "stdout",
     "output_type": "stream",
     "text": [
      "Precision is:  0.9996801023672425 \n",
      "Recall is:,  1.0 \n",
      "Accuracy is:  0.99984 \n",
      "F1-Score is:  0.9998400255959047\n"
     ]
    }
   ],
   "source": [
    "precision = (t_p)/(t_p + f_p)\n",
    "recall = t_p / (t_p + f_n)\n",
    "f1_score = (2*recall*precision)/(recall + precision)\n",
    "\n",
    "print(\"Precision is: \", precision,\n",
    "      \"\\nRecall is:, \", recall,\n",
    "      \"\\nAccuracy is: \", acc,\n",
    "      \"\\nF1-Score is: \", f1_score)"
   ]
  },
  {
   "cell_type": "code",
   "execution_count": 0,
   "metadata": {
    "colab": {},
    "colab_type": "code",
    "id": "O9eAHKYHHOjM"
   },
   "outputs": [],
   "source": []
  }
 ],
 "metadata": {
  "colab": {
   "collapsed_sections": [],
   "name": "ML1.ipynb",
   "provenance": []
  },
  "kernelspec": {
   "display_name": "Python 3",
   "language": "python",
   "name": "python3"
  },
  "language_info": {
   "codemirror_mode": {
    "name": "ipython",
    "version": 3
   },
   "file_extension": ".py",
   "mimetype": "text/x-python",
   "name": "python",
   "nbconvert_exporter": "python",
   "pygments_lexer": "ipython3",
   "version": "3.7.3"
  }
 },
 "nbformat": 4,
 "nbformat_minor": 1
}
