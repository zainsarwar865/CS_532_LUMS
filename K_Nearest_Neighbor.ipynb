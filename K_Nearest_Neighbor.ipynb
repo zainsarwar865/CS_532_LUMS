{
  "nbformat": 4,
  "nbformat_minor": 0,
  "metadata": {
    "colab": {
      "name": "A5_20020130_CS_537.ipynb",
      "provenance": [],
      "collapsed_sections": []
    },
    "kernelspec": {
      "name": "python3",
      "display_name": "Python 3"
    }
  },
  "cells": [
    {
      "cell_type": "code",
      "metadata": {
        "id": "Nev1WPGkNNjV",
        "colab_type": "code",
        "colab": {}
      },
      "source": [
        "import numpy as np\n",
        "import csv\n",
        "import matplotlib.pyplot as plt\n"
      ],
      "execution_count": 0,
      "outputs": []
    },
    {
      "cell_type": "code",
      "metadata": {
        "id": "oPVHiwNmQXVM",
        "colab_type": "code",
        "colab": {
          "base_uri": "https://localhost:8080/",
          "height": 128
        },
        "outputId": "a4101e62-e56d-444b-e093-e3f5a6ed9048"
      },
      "source": [
        "from google.colab import drive\n",
        "drive.mount('/content/drive')"
      ],
      "execution_count": 2,
      "outputs": [
        {
          "output_type": "stream",
          "text": [
            "Go to this URL in a browser: https://accounts.google.com/o/oauth2/auth?client_id=947318989803-6bn6qk8qdgf4n4g3pfee6491hc0brc4i.apps.googleusercontent.com&redirect_uri=urn%3aietf%3awg%3aoauth%3a2.0%3aoob&response_type=code&scope=email%20https%3a%2f%2fwww.googleapis.com%2fauth%2fdocs.test%20https%3a%2f%2fwww.googleapis.com%2fauth%2fdrive%20https%3a%2f%2fwww.googleapis.com%2fauth%2fdrive.photos.readonly%20https%3a%2f%2fwww.googleapis.com%2fauth%2fpeopleapi.readonly\n",
            "\n",
            "Enter your authorization code:\n",
            "··········\n",
            "Mounted at /content/drive\n"
          ],
          "name": "stdout"
        }
      ]
    },
    {
      "cell_type": "code",
      "metadata": {
        "id": "b1_j_a2YR_PS",
        "colab_type": "code",
        "colab": {
          "base_uri": "https://localhost:8080/",
          "height": 72
        },
        "outputId": "9e5434ba-5380-450a-ff8e-f2dcabf32f7a"
      },
      "source": [
        "!unzip '/content/drive/My Drive/Data_set.zip'"
      ],
      "execution_count": 3,
      "outputs": [
        {
          "output_type": "stream",
          "text": [
            "Archive:  /content/drive/My Drive/Data_set.zip\n",
            "  inflating: test.csv                \n",
            "  inflating: train.csv               \n"
          ],
          "name": "stdout"
        }
      ]
    },
    {
      "cell_type": "code",
      "metadata": {
        "id": "mvBud7zYa2z4",
        "colab_type": "code",
        "colab": {}
      },
      "source": [
        "# Hyperparameters\n",
        "k = 1\n",
        "classes = 3"
      ],
      "execution_count": 0,
      "outputs": []
    },
    {
      "cell_type": "code",
      "metadata": {
        "id": "BhzE2z5BSpDJ",
        "colab_type": "code",
        "colab": {}
      },
      "source": [
        "def accuracy(preds,true):\n",
        "  correct = 0\n",
        "  l = preds.shape[0]\n",
        "  for ex in range(l):\n",
        "    if (preds[ex] == true[ex]).all():\n",
        "      correct+=1\n",
        "  print(correct, \" of\", l, \"predictions were correct\")    \n",
        "  acc = (correct/l)\n",
        "  print(\"Accuracy is : \", acc)\n",
        "  return acc    \n",
        "\n"
      ],
      "execution_count": 0,
      "outputs": []
    },
    {
      "cell_type": "code",
      "metadata": {
        "id": "PaGV5tMFVLkv",
        "colab_type": "code",
        "colab": {}
      },
      "source": [
        "t_s_len = []\n",
        "t_s_width = []\n",
        "t_p_len = []\n",
        "t_p_width = []\n",
        "t_labels = []"
      ],
      "execution_count": 0,
      "outputs": []
    },
    {
      "cell_type": "code",
      "metadata": {
        "id": "EqHHzJ90haRZ",
        "colab_type": "code",
        "colab": {}
      },
      "source": [
        ""
      ],
      "execution_count": 0,
      "outputs": []
    },
    {
      "cell_type": "code",
      "metadata": {
        "id": "OyY-ghnxTIYw",
        "colab_type": "code",
        "colab": {}
      },
      "source": [
        "s_len = []\n",
        "s_width = []\n",
        "p_len = []\n",
        "p_width = []\n",
        "labels = []"
      ],
      "execution_count": 0,
      "outputs": []
    },
    {
      "cell_type": "code",
      "metadata": {
        "id": "6Dkl3mxiQX8R",
        "colab_type": "code",
        "colab": {}
      },
      "source": [
        "#Loading the training data\n",
        "with open('/content/train.csv') as train:\n",
        "  data = csv.reader(train)\n",
        "  for row in data:\n",
        "    if row == []:\n",
        "      continue\n",
        "    s_len.append(row[0])\n",
        "    s_width.append(row[1])\n",
        "    p_len.append(row[2])\n",
        "    p_width.append(row[3])\n",
        "    labels.append(row[4])\n",
        "  "
      ],
      "execution_count": 0,
      "outputs": []
    },
    {
      "cell_type": "code",
      "metadata": {
        "id": "PDBNwCnnUpG1",
        "colab_type": "code",
        "colab": {}
      },
      "source": [
        "#Loading the training data\n",
        "with open('/content/test.csv') as test:\n",
        "  data = csv.reader(test)\n",
        "  for row in data:\n",
        "    t_s_len.append(row[0])\n",
        "    t_s_width.append(row[1])\n",
        "    t_p_len.append(row[2])\n",
        "    t_p_width.append(row[3])\n",
        "    t_labels.append(row[4])"
      ],
      "execution_count": 0,
      "outputs": []
    },
    {
      "cell_type": "code",
      "metadata": {
        "id": "PvCrMRuKhbHn",
        "colab_type": "code",
        "colab": {}
      },
      "source": [
        "train_data = np.vstack((s_len,s_width,p_len,p_width))\n",
        "test_data = np.vstack((t_s_len,t_s_width,t_p_len,t_p_width))"
      ],
      "execution_count": 0,
      "outputs": []
    },
    {
      "cell_type": "code",
      "metadata": {
        "id": "NssWPeLGgtDR",
        "colab_type": "code",
        "colab": {}
      },
      "source": [
        "train_data = train_data.T\n",
        "test_data = test_data.T"
      ],
      "execution_count": 0,
      "outputs": []
    },
    {
      "cell_type": "code",
      "metadata": {
        "id": "oxeHetCF8bWt",
        "colab_type": "code",
        "colab": {}
      },
      "source": [
        "train_data = train_data.astype(np.float)\n",
        "test_data = test_data.astype(np.float)"
      ],
      "execution_count": 0,
      "outputs": []
    },
    {
      "cell_type": "code",
      "metadata": {
        "id": "zsjF3TBobIIo",
        "colab_type": "code",
        "colab": {}
      },
      "source": [
        "def one_hot_gen(labels):\n",
        "  shape = (labels.shape[0],classes)\n",
        "  encoded = np.zeros(shape)\n",
        "  rows = np.arange(labels.shape[0])\n",
        "  encoded[rows,labels] = 1\n",
        "  labels = encoded\n",
        "\n",
        "  return labels"
      ],
      "execution_count": 0,
      "outputs": []
    },
    {
      "cell_type": "code",
      "metadata": {
        "id": "zpPMuI6RXEN5",
        "colab_type": "code",
        "colab": {}
      },
      "source": [
        "#Converting labels to coded labels\n",
        "\n",
        "for r in range(len(labels)):\n",
        "  if labels[r] == 'Iris-setosa':\n",
        "    labels[r] = 0\n",
        "  if labels[r] == 'Iris-versicolor':\n",
        "    labels[r] = 1\n",
        "  if labels[r] == 'Iris-virginica':\n",
        "    labels[r] = 2\n",
        "        "
      ],
      "execution_count": 0,
      "outputs": []
    },
    {
      "cell_type": "code",
      "metadata": {
        "id": "W-xSczafaatQ",
        "colab_type": "code",
        "colab": {}
      },
      "source": [
        "#Converting labels to coded labels\n",
        "\n",
        "for r in range(len(t_labels)):\n",
        "  if t_labels[r] == 'Iris-setosa':\n",
        "    t_labels[r] = 0\n",
        "  if t_labels[r] == 'Iris-versicolor':\n",
        "    t_labels[r] = 1\n",
        "  if t_labels[r] == 'Iris-virginica':\n",
        "    t_labels[r] = 2\n",
        "        "
      ],
      "execution_count": 0,
      "outputs": []
    },
    {
      "cell_type": "code",
      "metadata": {
        "id": "PYd2jTKifzHd",
        "colab_type": "code",
        "colab": {}
      },
      "source": [
        "# Converting to numpy\n",
        "labels = np.asarray(labels).astype(np.int32)\n",
        "t_labels = np.asarray(t_labels).astype(np.int32)"
      ],
      "execution_count": 0,
      "outputs": []
    },
    {
      "cell_type": "code",
      "metadata": {
        "id": "xFnnl1MpauiG",
        "colab_type": "code",
        "colab": {}
      },
      "source": [
        "# Getting one hot representations\n",
        "\n",
        "labels = one_hot_gen(labels)\n",
        "t_labels = one_hot_gen(t_labels)"
      ],
      "execution_count": 0,
      "outputs": []
    },
    {
      "cell_type": "code",
      "metadata": {
        "id": "QhJXEwlnMtwn",
        "colab_type": "code",
        "colab": {
          "base_uri": "https://localhost:8080/",
          "height": 35
        },
        "outputId": "24157594-751d-4c39-df13-b911758e1a54"
      },
      "source": [
        "aba = np.array([7,23,11,1,1212,22,45,232,3])\n",
        "\n",
        "res = predict_label(aba,labels,k)"
      ],
      "execution_count": 137,
      "outputs": [
        {
          "output_type": "stream",
          "text": [
            "[[1. 0. 0.]]\n"
          ],
          "name": "stdout"
        }
      ]
    },
    {
      "cell_type": "code",
      "metadata": {
        "id": "UtYGgP87PjEp",
        "colab_type": "code",
        "colab": {
          "base_uri": "https://localhost:8080/",
          "height": 35
        },
        "outputId": "926f388f-e175-42e3-946b-a039be1886ed"
      },
      "source": [
        "res"
      ],
      "execution_count": 138,
      "outputs": [
        {
          "output_type": "execute_result",
          "data": {
            "text/plain": [
              "array([[1., 0., 0.]])"
            ]
          },
          "metadata": {
            "tags": []
          },
          "execution_count": 138
        }
      ]
    },
    {
      "cell_type": "code",
      "metadata": {
        "id": "rZmLfmQkF4jS",
        "colab_type": "code",
        "colab": {}
      },
      "source": [
        "def predict_label(dist_vect,train_labels,k):\n",
        "  #Indices of k smallest distances in the array\n",
        "  pred_label = np.zeros((1,classes)) \n",
        "  votes = np.zeros((1,classes))\n",
        "  indices = dist_vect.argsort()[:k]\n",
        "  for inde in indices:\n",
        "    ind = np.argmax(train_labels[inde])\n",
        "    votes[0][ind] += 1\n",
        "  lab = np.argmax(votes)\n",
        "  pred_label[0][lab] = 1  \n",
        "  return pred_label\n"
      ],
      "execution_count": 0,
      "outputs": []
    },
    {
      "cell_type": "code",
      "metadata": {
        "id": "LTx11dVQf6eQ",
        "colab_type": "code",
        "colab": {}
      },
      "source": [
        "def KNN(test_data,test_labels,train_data,train_labels):\n",
        "  preds = np.zeros_like(test_labels)\n",
        "  for i in range(test_data.shape[0]):\n",
        "    dist_vect = []\n",
        "    for ex in range(train_data.shape[0]):\n",
        "      \n",
        "      tot = 0\n",
        "      for feat in range(4):\n",
        "        tot += np.square(train_data[ex][feat] - test_data[i][feat])\n",
        "      \n",
        "      tot = np.power(tot,0.5)  \n",
        "      dist_vect.append(tot)\n",
        "    dist_vect = np.asarray(dist_vect)\n",
        "    pred_label = predict_label(dist_vect,train_labels,k)\n",
        "    preds[i] = pred_label\n",
        "\n",
        "  return preds  \n"
      ],
      "execution_count": 0,
      "outputs": []
    },
    {
      "cell_type": "code",
      "metadata": {
        "id": "dRedd8DGjStq",
        "colab_type": "code",
        "colab": {
          "base_uri": "https://localhost:8080/",
          "height": 54
        },
        "outputId": "153033a6-2e0a-450e-8e52-9192f9df4471"
      },
      "source": [
        "# For K = 1\n",
        "\n",
        "predictions_1 = KNN(test_data,t_labels,train_data,labels)\n",
        "\n",
        "acc_k_1 = accuracy(predictions_1,t_labels)"
      ],
      "execution_count": 165,
      "outputs": [
        {
          "output_type": "stream",
          "text": [
            "15  of 15 predictions were correct\n",
            "Accuracy is :  1.0\n"
          ],
          "name": "stdout"
        }
      ]
    },
    {
      "cell_type": "code",
      "metadata": {
        "id": "qRAzfoBY8FCD",
        "colab_type": "code",
        "colab": {
          "base_uri": "https://localhost:8080/",
          "height": 54
        },
        "outputId": "ddfabb0d-302e-40c4-ba3a-be30a6e0d207"
      },
      "source": [
        "# For K = 3\n",
        "\n",
        "predictions_2 = KNN(test_data,t_labels,train_data,labels)\n",
        "\n",
        "acc_k_2 = accuracy(predictions_2,t_labels)"
      ],
      "execution_count": 166,
      "outputs": [
        {
          "output_type": "stream",
          "text": [
            "15  of 15 predictions were correct\n",
            "Accuracy is :  1.0\n"
          ],
          "name": "stdout"
        }
      ]
    },
    {
      "cell_type": "code",
      "metadata": {
        "id": "YYRQiTpt9X3O",
        "colab_type": "code",
        "colab": {
          "base_uri": "https://localhost:8080/",
          "height": 54
        },
        "outputId": "89361e33-c54b-4d8f-c1ef-a6e20df2e2c6"
      },
      "source": [
        "# For K = 5\n",
        "\n",
        "predictions_3 = KNN(test_data,t_labels,train_data,labels)\n",
        "\n",
        "acc_k_3 = accuracy(predictions_3,t_labels)\n"
      ],
      "execution_count": 167,
      "outputs": [
        {
          "output_type": "stream",
          "text": [
            "15  of 15 predictions were correct\n",
            "Accuracy is :  1.0\n"
          ],
          "name": "stdout"
        }
      ]
    }
  ]
}