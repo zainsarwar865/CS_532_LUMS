{
  "nbformat": 4,
  "nbformat_minor": 0,
  "metadata": {
    "colab": {
      "name": "ML4.ipynb",
      "provenance": [],
      "collapsed_sections": []
    },
    "kernelspec": {
      "name": "python3",
      "display_name": "Python 3"
    }
  },
  "cells": [
    {
      "cell_type": "markdown",
      "metadata": {
        "colab_type": "text",
        "id": "2ErjuT-fROLU"
      },
      "source": [
        "# NAIVE BAYES STARTS HERE"
      ]
    },
    {
      "cell_type": "code",
      "metadata": {
        "colab_type": "code",
        "id": "IrPT_XWXRSYL",
        "colab": {}
      },
      "source": [
        "import numpy as np\n",
        "import matplotlib.pyplot as plt\n",
        "import string\n",
        "import csv\n",
        "import collections\n"
      ],
      "execution_count": 0,
      "outputs": []
    },
    {
      "cell_type": "code",
      "metadata": {
        "id": "ndll7poaWgks",
        "colab_type": "code",
        "outputId": "ca015fe3-744e-42d3-b24d-402e762b21ce",
        "colab": {
          "base_uri": "https://localhost:8080/",
          "height": 35
        }
      },
      "source": [
        "from google.colab import drive\n",
        "drive.mount('/content/drive')"
      ],
      "execution_count": 436,
      "outputs": [
        {
          "output_type": "stream",
          "text": [
            "Drive already mounted at /content/drive; to attempt to forcibly remount, call drive.mount(\"/content/drive\", force_remount=True).\n"
          ],
          "name": "stdout"
        }
      ]
    },
    {
      "cell_type": "markdown",
      "metadata": {
        "id": "lorxB-NlvZhh",
        "colab_type": "text"
      },
      "source": [
        "# Hyperparameters and intitializations"
      ]
    },
    {
      "cell_type": "code",
      "metadata": {
        "id": "DQJxkzOavfqx",
        "colab_type": "code",
        "colab": {}
      },
      "source": [
        "classes = 3 \n"
      ],
      "execution_count": 0,
      "outputs": []
    },
    {
      "cell_type": "code",
      "metadata": {
        "id": "vuKzgqUMvGxA",
        "colab_type": "code",
        "colab": {}
      },
      "source": [
        ""
      ],
      "execution_count": 0,
      "outputs": []
    },
    {
      "cell_type": "markdown",
      "metadata": {
        "id": "oj3wK8M_vxh8",
        "colab_type": "text"
      },
      "source": [
        "# Important functions"
      ]
    },
    {
      "cell_type": "code",
      "metadata": {
        "id": "YbYqmHZyvxrk",
        "colab_type": "code",
        "colab": {}
      },
      "source": [
        "def accuracy(preds,true):\n",
        "  correct = 0\n",
        "  l = preds.shape[0]\n",
        "  for ex in range(l):\n",
        "    if (preds[ex] == true[ex]).all():\n",
        "      correct+=1\n",
        "  print(correct, \" of\", l, \"predictions were correct\")    \n",
        "  acc = (correct/l)\n",
        "  return acc    \n",
        "\n",
        "\n",
        "\n"
      ],
      "execution_count": 0,
      "outputs": []
    },
    {
      "cell_type": "code",
      "metadata": {
        "id": "YWVUb4pZctgc",
        "colab_type": "code",
        "colab": {}
      },
      "source": [
        "tweets = []\n",
        "labels = []"
      ],
      "execution_count": 0,
      "outputs": []
    },
    {
      "cell_type": "code",
      "metadata": {
        "id": "hbGAXgpz2Moc",
        "colab_type": "code",
        "colab": {}
      },
      "source": [
        ""
      ],
      "execution_count": 0,
      "outputs": []
    },
    {
      "cell_type": "code",
      "metadata": {
        "id": "1yrGNnJ4VRFP",
        "colab_type": "code",
        "colab": {}
      },
      "source": [
        "#Loadind the files\n",
        "with open('/content/drive/My Drive/Tweets.csv') as tw:\n",
        "  data = csv.reader(tw)\n",
        "  for row in data:\n",
        "    labels.append(row[0])\n",
        "    tweets.append(row[1])"
      ],
      "execution_count": 0,
      "outputs": []
    },
    {
      "cell_type": "code",
      "metadata": {
        "id": "bvqOuT2Sd_j0",
        "colab_type": "code",
        "colab": {}
      },
      "source": [
        "#Converting labels to coded labels\n",
        "\n",
        "for r in range(len(labels)):\n",
        "  if labels[r] == 'negative':\n",
        "    labels[r] = 0\n",
        "  if labels[r] == 'neutral':\n",
        "    labels[r] = 1\n",
        "  if labels[r] == 'positive':\n",
        "    labels[r] = 2\n",
        "        "
      ],
      "execution_count": 0,
      "outputs": []
    },
    {
      "cell_type": "code",
      "metadata": {
        "id": "QVzteRtdhl0S",
        "colab_type": "code",
        "colab": {}
      },
      "source": [
        "#Deleting the header\n",
        "tweets = np.asarray(np.delete(tweets,0))\n",
        "labels = np.asarray(np.delete(labels,0),dtype=int)\n"
      ],
      "execution_count": 0,
      "outputs": []
    },
    {
      "cell_type": "markdown",
      "metadata": {
        "id": "xZvEjsbW5Meq",
        "colab_type": "text"
      },
      "source": [
        "# - Dataset Splitting function"
      ]
    },
    {
      "cell_type": "code",
      "metadata": {
        "id": "0tk3CbFT5PLv",
        "colab_type": "code",
        "colab": {}
      },
      "source": [
        "def split_data(tweets,labels):\n",
        "\n",
        "    # Counting total instances of each class\n",
        "  neg = np.count_nonzero(labels == 0)\n",
        "  neut = np.count_nonzero(labels == 1)\n",
        "  pos = np.count_nonzero(labels == 2)\n",
        "\n",
        "  # Sorting arrays so we can split the data\n",
        "\n",
        "  sort_indices = np.argsort(labels)\n",
        "  labels = labels[sort_indices]\n",
        "  tweets = tweets[sort_indices]\n",
        "\n",
        "  # Splitting train/test 80-20\n",
        "  neg_tweets = tweets[0:neg]\n",
        "  neg_labels = labels[0:neg]\n",
        "  neut_tweets = tweets[neg:neg+neut]\n",
        "  neut_labels = labels[neg:neg+neut]\n",
        "  pos_tweets = tweets[neut+neg:]\n",
        "  pos_labels = labels[neut+neg:]\n",
        "\n",
        "\n",
        "  neg_num = int(np.ceil(0.9*neg))\n",
        "  neut_num = int(np.ceil(0.9*neut))\n",
        "  pos_num = int(np.ceil(0.9*pos))\n",
        "\n",
        "  neg_train = neg_tweets[0:neg_num]\n",
        "  neg_train_l = neg_labels[0:neg_num]\n",
        "\n",
        "  neg_test = neg_tweets[neg_num:]\n",
        "  neg_test_l = neg_labels[neg_num:]\n",
        "\n",
        "  neut_train = neut_tweets[0:neut_num]\n",
        "  neut_train_l = neut_labels[0:neut_num]\n",
        "\n",
        "  neut_test = neut_tweets[neut_num:]\n",
        "  neut_test_l = neut_labels[neut_num:]\n",
        "\n",
        "                        \n",
        "  pos_train = pos_tweets[0:pos_num]\n",
        "  pos_train_l = pos_labels[0:pos_num]\n",
        "\n",
        "  pos_test = pos_tweets[pos_num:]\n",
        "  pos_test_l = pos_labels[pos_num:]\n",
        "\n",
        "\n",
        "  train_data = np.hstack([neg_train,neut_train,pos_train])\n",
        "  train_labels = np.hstack([neg_train_l,neut_train_l,pos_train_l])\n",
        "  test_data = np.hstack([neg_test,neut_test,pos_test])\n",
        "  test_labels = np.hstack([neg_test_l,neut_test_l,pos_test_l])\n",
        "\n",
        "  # Sanity check\n",
        "  print(len(train_data)+len(test_data),len(labels))\n",
        "\n",
        "\n",
        "  #ONE hot\n",
        "  shape = (train_labels.shape[0],classes)\n",
        "  encoded = np.zeros(shape)\n",
        "  rows = np.arange(train_labels.shape[0])\n",
        "  encoded[rows,train_labels] = 1\n",
        "  train_labels = encoded\n",
        "\n",
        "\n",
        "  shape = (test_labels.shape[0],classes)\n",
        "  encoded = np.zeros(shape)\n",
        "  rows = np.arange(test_labels.shape[0])\n",
        "  encoded[rows,test_labels] = 1\n",
        "  test_labels = encoded\n",
        "\n",
        "  \n",
        "  # Shuffling the data\n",
        "  \n",
        "  index = np.arange(train_labels.shape[0])\n",
        "  np.random.shuffle(index)\n",
        "  train_labels = train_labels[index]\n",
        "  train_data = train_data[index]\n",
        "  \n",
        "  dindex = np.arange(test_labels.shape[0])\n",
        "  np.random.shuffle(dindex)\n",
        "  test_labels = test_labels[dindex]\n",
        "  test_data = test_data[dindex]\n",
        "\n",
        "  \n",
        "  return train_labels, train_data, test_labels, test_data"
      ],
      "execution_count": 0,
      "outputs": []
    },
    {
      "cell_type": "markdown",
      "metadata": {
        "id": "-8tY6Tt3kUq4",
        "colab_type": "text"
      },
      "source": [
        "# Dataset Preprocessing function"
      ]
    },
    {
      "cell_type": "code",
      "metadata": {
        "id": "GQogjYfB8inW",
        "colab_type": "code",
        "colab": {}
      },
      "source": [
        "Pos_Emoji=list(np.unique(('💜,✅,💗,💗,💘,💙,✔️,♥,💯,👍,💜✈,😘,⭐️,🙌,😆,😀,😎,👌,❤,💙,💝,😍,💕,😁,😋,👏,🌟,😅,😃,😳,😎,🙉,😻,💔,😜,😄,😆,😜,☀️,😁,😆,🎉,🍷,😀,💁,😂,😉,😮,😲,🎵,🍸,😉,😃,😂,😄,🎲,✌️').split(\",\")))\n",
        "Neg_Emoji=list(np.unique(('❌,🚫,😫,😣,:(,😡,❌,😠,😷,👎,😕,😭,😢,😩,😵,😑,😐,😒,🙏,😤,😡,😖,😩,😞,👿,😥,😒,😷,😑,😩,😏').split(\",\")))\n",
        "Neu_Emoji=list(np.unique(('👉,🚪,👀,😔,😊,✈️').split(\",\")))\n"
      ],
      "execution_count": 0,
      "outputs": []
    },
    {
      "cell_type": "code",
      "metadata": {
        "id": "HEyaZ70K86SP",
        "colab_type": "code",
        "colab": {}
      },
      "source": [
        "pos_em = '😁'\n",
        "neg_em = '😫'\n",
        "neut_em = '👀'"
      ],
      "execution_count": 0,
      "outputs": []
    },
    {
      "cell_type": "code",
      "metadata": {
        "id": "jtpIGI-SFfUg",
        "colab_type": "code",
        "colab": {}
      },
      "source": [
        ""
      ],
      "execution_count": 0,
      "outputs": []
    },
    {
      "cell_type": "code",
      "metadata": {
        "id": "z45NNLkNvf0b",
        "colab_type": "code",
        "colab": {}
      },
      "source": [
        "ignore_list = [\"a\", \"is,\" \"about\", \"above\", \"after\", \"again\", \"against\", \"ain\", \"all\", \"am\", \"an\", \"and\", \"any\", \"are\", \"aren\", \"aren't\", \"as\", \"at\", \"be\", \"because\", \"been\", \"before\", \"being\", \"below\", \"between\", \"both\", \"but\", \"by\", \"can\", \"couldn\", \"couldn't\", \"d\", \"did\", \"didn\", \"didn't\", \"do\", \"does\", \"doesn\", \"doesn't\", \"doing\", \"don\", \"don't\", \"down\", \"during\", 'httpt','is','me','amp','hrs','min','via','\"',\"each\", \"few\", \"for\", \"from\", \"further\", \"had\", \"hadn\", \"hadn't\", \"has\", \"hasn\", \"hasn't\", \"have\", \"haven\", \"haven't\", \"having\", \"he\", \"her\", \"here\", \"hers\", \"herself\", \"him\", \"himself\", \"his\", \"how\", \"i\", \"if\", \"in\", \"into\", \"is\", \"isn\", \"isn't\", \"it\", \"it's\", \"its\", \"itself\", \"just\", \"ll\", \"m\", \"ma\", \"me\", \"mightn\", \"mightn't\", \"more\", \"most\", \"mustn\", \"mustn't\", \"my\", \"myself\", \"needn\", \"needn't\", \"no\", \"nor\", \"not\", \"now\", \"o\", \"of\", \"off\", \"on\", \"once\", \"only\", \"or\", \"other\", \"our\", \"ours\", \"ourselves\", \"out\", \"over\", \"own\", \"re\", \"s\", \"same\", \"shan\", \"shan't\", \"she\", \"she's\", \"should\", \"should've\", \"shouldn\", \"shouldn't\", \"so\", \"some\", \"such\", \"t\", \"than\", \"that\", \"that'll\", \"the\", \"their\", \"theirs\", \"them\", \"themselves\", \"then\", \"there\", \"these\", \"they\", \"this\", \"those\", \"through\", \"to\", \"too\", \"under\", \"until\", \"up\", \"ve\", \"very\", \"was\", \"wasn\", \"wasn't\", \"we\", \"were\", \"weren\", \"weren't\", \"what\", \"when\", \"where\", \"which\", \"while\", \"who\", \"whom\", \"why\", \"will\", \"with\", \"won\", \"won't\", \"wouldn\", \"wouldn't\", \"y\", \"you\", \"you'd\", \"you'll\", \"you're\", \"you've\", \"your\", \"yours\", \"yourself\", \"yourselves\", \"could\", \"he'd\", \"he'll\", \"he's\", \"here's\", \"how's\", \"i'd\", \"i'll\", \"i'm\", \"i've\", \"let's\", \"ought\", \"she'd\", \"she'll\", \"that's\", \"there's\", \"they'd\", \"they'll\", \"they're\", \"they've\", \"we'd\", \"we'll\", \"we're\", \"we've\", \"what's\", \"when's\", \"where's\", \"who's\", \"why's\", \"would\",'i', 'me', 'my', 'myself', 'we', 'our', 'ours', 'ourselves', 'you', 'your', 'yours', 'yourself', 'yourselves', 'he', 'him', 'his', 'himself', 'she', 'her', 'hers', 'herself', 'it', 'its', 'itself', 'they', 'them', 'their', 'theirs', 'themselves', 'what', 'which', 'who', 'whom', 'this', 'that', 'these', 'those', 'am', 'is', 'are', 'was', 'were', 'be', 'been', 'being', 'have', 'has', 'had', 'having', 'do', 'does', 'did', 'doing', 'a', 'an', 'the', 'and', 'but', 'if', 'or', 'because', 'as', 'until', 'while', 'of', 'at', 'by', 'for', 'with', 'about', 'against', 'between', 'into', 'through', 'during', 'before', 'after', 'above', 'below', 'to', 'from', 'up', 'down', 'in', 'out', 'on', 'off', 'over', 'under', 'again', 'further', 'then', 'once', 'here', 'there', 'when', 'where', 'why', 'how', 'all', 'any', 'both', 'each', 'few', 'more', 'most', 'other', 'some', 'such', 'no', 'nor', 'not', 'only', 'own', 'same', 'so', 'than', 'too', 'very', 's', 't', 'can', 'will', 'just', 'don', 'should', 'now', 'd', 'll', 'm', 'o', 're', 've', 'y', 'ain', 'aren', 'couldn', 'didn', 'doesn', 'hadn', 'hasn', 'haven', 'isn', 'ma', 'mightn', 'mustn', 'needn', 'shan', 'shouldn', 'wasn', 'weren', 'won', 'wouldn',\"always\",\"a\", \"about\", \"above\", \"after\", \"again\", \"against\", \"ain\", \"all\", \"am\", \"an\", \"and\", \"any\", \"are\", \"aren\"] \n",
        "               \n"
      ],
      "execution_count": 0,
      "outputs": []
    },
    {
      "cell_type": "code",
      "metadata": {
        "id": "J-aMMtAUCEjJ",
        "colab_type": "code",
        "outputId": "262bf60d-f8db-42f5-94fe-77cb8d4b537f",
        "colab": {
          "base_uri": "https://localhost:8080/",
          "height": 35
        }
      },
      "source": [
        "train_labels, train_data, test_labels, test_data = split_data(tweets,labels)"
      ],
      "execution_count": 1086,
      "outputs": [
        {
          "output_type": "stream",
          "text": [
            "14640 14640\n"
          ],
          "name": "stdout"
        }
      ]
    },
    {
      "cell_type": "code",
      "metadata": {
        "id": "_uB4K4sY7ciL",
        "colab_type": "code",
        "colab": {}
      },
      "source": [
        "def make_dictionary(ignore_list, tweets):\n",
        "  dictionary = {}\n",
        "\n",
        "  for i in range(tweets.shape[0]):\n",
        "    out = tweets[i].replace(',', ' ').replace('.', ' ').replace('!', ' ').replace('?', ' ').replace('http',\" \")\n",
        "    final = out.translate(str.maketrans('', '', string.punctuation))\n",
        "    Text = final.replace(',', ' ').replace('.', ' ').replace('!', ' ').replace('?', ' ')\n",
        "    rev = final.strip()\n",
        "    rev = rev.split()\n",
        "   \n",
        "    for word in rev:\n",
        "      word = word.lower()\n",
        "      if word in ignore_list:\n",
        "        continue\n",
        "      elif(any(char.isdigit() for char in word)):\n",
        "        continue\n",
        "      if word in Pos_Emoji:\n",
        "        word = pos_em\n",
        "      elif word in Neg_Emoji:\n",
        "        word = neg_em\n",
        "      elif word in Neu_Emoji:\n",
        "        word = neut_em\n",
        "      \n",
        "      if word in dictionary:\n",
        "        dictionary[word] +=1\n",
        "      else:\n",
        "        \n",
        "        dictionary.update({word:1})    \n",
        "  return dictionary"
      ],
      "execution_count": 0,
      "outputs": []
    },
    {
      "cell_type": "code",
      "metadata": {
        "id": "hdBF3Y0n3kD6",
        "colab_type": "code",
        "colab": {}
      },
      "source": [
        ""
      ],
      "execution_count": 0,
      "outputs": []
    },
    {
      "cell_type": "code",
      "metadata": {
        "id": "t_Wkozi2t7ie",
        "colab_type": "code",
        "colab": {}
      },
      "source": [
        "def class_dictionary(ignore_list, tweets,labels):\n",
        "  negative_dict = {}\n",
        "  neutral_dict = {}\n",
        "  positive_dict = {}\n",
        "  for i in range(tweets.shape[0]):\n",
        "    Text = tweets[i].replace(',', ' ').replace('.', ' ').replace('!', ' ').replace('?', ' ')\n",
        "    final = Text.translate(str.maketrans('', '', string.punctuation))\n",
        "    final = final.strip()\n",
        "    rev = final.split()\n",
        "    for word in rev:\n",
        "      word = word.lower()\n",
        "      if word in ignore_list:\n",
        "        continue\n",
        "      elif(any(char.isdigit() for char in word)):\n",
        "        continue\n",
        "      if word in Pos_Emoji:\n",
        "        word = pos_em\n",
        "      elif word in Neg_Emoji:\n",
        "        word = neg_em\n",
        "      elif word in Neu_Emoji:\n",
        "        word = neut_em\n",
        "      \n",
        "      label_ind = np.argmax(labels[i])\n",
        "      if(label_ind == 0):\n",
        "        if word in negative_dict:\n",
        "          negative_dict[word] +=1\n",
        "        else:\n",
        "          \n",
        "          negative_dict.update({word:1})\n",
        "      elif(label_ind == 1):\n",
        "        if word in neutral_dict:\n",
        "          neutral_dict[word] +=1\n",
        "        else:\n",
        "          \n",
        "          neutral_dict.update({word:1})  \n",
        "      elif(label_ind == 2):\n",
        "        if word in positive_dict:\n",
        "          positive_dict[word] +=1\n",
        "        else:\n",
        "          \n",
        "          positive_dict.update({word:1})  \n",
        "     \n",
        "\n",
        "\n",
        "\n",
        "\n",
        "  return negative_dict, neutral_dict, positive_dict "
      ],
      "execution_count": 0,
      "outputs": []
    },
    {
      "cell_type": "code",
      "metadata": {
        "id": "n9-KKMIODLs-",
        "colab_type": "code",
        "colab": {}
      },
      "source": [
        "entire_corpus = make_dictionary(ignore_list,train_data)\n"
      ],
      "execution_count": 0,
      "outputs": []
    },
    {
      "cell_type": "code",
      "metadata": {
        "id": "sx8c1-vQyo4u",
        "colab_type": "code",
        "colab": {}
      },
      "source": [
        "negative_dict, neutral_dict, positive_dict = class_dictionary(ignore_list,train_data, train_labels)"
      ],
      "execution_count": 0,
      "outputs": []
    },
    {
      "cell_type": "code",
      "metadata": {
        "id": "LdmbCcHl-mG1",
        "colab_type": "code",
        "colab": {}
      },
      "source": [
        "class_d_list = [negative_dict,neutral_dict, positive_dict]"
      ],
      "execution_count": 0,
      "outputs": []
    },
    {
      "cell_type": "code",
      "metadata": {
        "id": "9yQtTEitz0c5",
        "colab_type": "code",
        "colab": {}
      },
      "source": [
        "# Cleaning Function\n",
        "def remove_words(class_d_list,corpus):\n",
        "\n",
        "  for dic in class_d_list:\n",
        "    class_words = list(dic.keys())\n",
        "    for word in class_words:\n",
        "      if word not in corpus:\n",
        "        del dic[word]\n",
        "  return class_d_list"
      ],
      "execution_count": 0,
      "outputs": []
    },
    {
      "cell_type": "code",
      "metadata": {
        "id": "JN2DAHvIU9q9",
        "colab_type": "code",
        "colab": {}
      },
      "source": [
        ""
      ],
      "execution_count": 0,
      "outputs": []
    },
    {
      "cell_type": "code",
      "metadata": {
        "id": "ZWISf_nv774S",
        "colab_type": "code",
        "colab": {}
      },
      "source": [
        "# Laplace Smoothing\n",
        "def add_one_smoothing(class_dict):\n",
        "  corp_words = list(class_dict.keys())\n",
        "  for word in corp_words:\n",
        "    class_dict[word] +=1\n",
        "  return class_dict      \n"
      ],
      "execution_count": 0,
      "outputs": []
    },
    {
      "cell_type": "code",
      "metadata": {
        "id": "GL91x3sw_Lxl",
        "colab_type": "code",
        "colab": {}
      },
      "source": [
        "\n",
        "negative_dict = add_one_smoothing(negative_dict)\n",
        "neutral_dict = add_one_smoothing(neutral_dict)\n",
        "positive_dict = add_one_smoothing(positive_dict)\n"
      ],
      "execution_count": 0,
      "outputs": []
    },
    {
      "cell_type": "code",
      "metadata": {
        "id": "PeCbv9993Ook",
        "colab_type": "code",
        "colab": {}
      },
      "source": [
        "# Add words from different classes\n",
        "def add_missing(class_dict,corpus):\n",
        "  corp_words = list(corpus.keys())\n",
        "  for word in corp_words:\n",
        "    if word not in class_dict:\n",
        "      class_dict.update({word:1})\n",
        "  return class_dict      "
      ],
      "execution_count": 0,
      "outputs": []
    },
    {
      "cell_type": "code",
      "metadata": {
        "id": "dkT9mPyD6_AJ",
        "colab_type": "code",
        "colab": {}
      },
      "source": [
        "negative_dict = add_missing(negative_dict,entire_corpus)\n",
        "neutral_dict = add_missing(neutral_dict,entire_corpus)\n",
        "positive_dict = add_missing(positive_dict,entire_corpus)\n"
      ],
      "execution_count": 0,
      "outputs": []
    },
    {
      "cell_type": "code",
      "metadata": {
        "id": "xloiKH9gi2vs",
        "colab_type": "code",
        "colab": {}
      },
      "source": [
        "# Cleaning Function\n",
        "entire_corpus = {k: v for k, v in entire_corpus.items() if v >= 2 }\n",
        "entire_corpus = {k: v for k, v in entire_corpus.items() if (len(k) >=3 and (k != pos_em) and (k != neg_em) and (k != neut_em))}\n",
        "\n"
      ],
      "execution_count": 0,
      "outputs": []
    },
    {
      "cell_type": "code",
      "metadata": {
        "id": "75_tXy7z0quG",
        "colab_type": "code",
        "colab": {}
      },
      "source": [
        "\n",
        "class_d_list = remove_words(class_d_list,entire_corpus)\n",
        "negative_dict, neutral_dict, positive_dict = class_d_list\n"
      ],
      "execution_count": 0,
      "outputs": []
    },
    {
      "cell_type": "code",
      "metadata": {
        "id": "XR_2tCozBbK6",
        "colab_type": "code",
        "colab": {}
      },
      "source": [
        "# Assigning log probs to words\n",
        "def log_probs(class_dict):\n",
        "  d_ = {}\n",
        "  total_words = 0\n",
        "  counts = list(class_dict.values())\n",
        "  counts = np.sum(counts)\n",
        "  print(counts)\n",
        "  corpus = list(class_dict.keys())\n",
        "  for word in corpus:\n",
        "    prob = (class_dict[word]) / counts\n",
        "    prob = np.log2(prob)\n",
        "    d_.update({word:prob})\n",
        "    \n",
        "  return d_  \n"
      ],
      "execution_count": 0,
      "outputs": []
    },
    {
      "cell_type": "code",
      "metadata": {
        "id": "hr1niPN4E69Y",
        "colab_type": "code",
        "outputId": "8da09955-b6c5-40e4-96fb-637f8abb7e26",
        "colab": {
          "base_uri": "https://localhost:8080/",
          "height": 72
        }
      },
      "source": [
        "negative_probs = log_probs(negative_dict)\n",
        "neutral_probs = log_probs(neutral_dict)\n",
        "positive_probs = log_probs(positive_dict)\n"
      ],
      "execution_count": 1107,
      "outputs": [
        {
          "output_type": "stream",
          "text": [
            "87665\n",
            "25149\n",
            "21135\n"
          ],
          "name": "stdout"
        }
      ]
    },
    {
      "cell_type": "markdown",
      "metadata": {
        "id": "MGfVBW2yOUpt",
        "colab_type": "text"
      },
      "source": [
        "# Computing class priors"
      ]
    },
    {
      "cell_type": "code",
      "metadata": {
        "id": "65wz0c1rYaM5",
        "colab_type": "code",
        "colab": {}
      },
      "source": [
        "# Making a list of dictionaries for each class"
      ],
      "execution_count": 0,
      "outputs": []
    },
    {
      "cell_type": "code",
      "metadata": {
        "id": "Tz_zMvgAYd9Q",
        "colab_type": "code",
        "colab": {}
      },
      "source": [
        "class_dicts_list = [negative_probs,neutral_probs,positive_probs]"
      ],
      "execution_count": 0,
      "outputs": []
    },
    {
      "cell_type": "code",
      "metadata": {
        "colab_type": "code",
        "id": "1ePS0vNsRNZ6",
        "colab": {}
      },
      "source": [
        "neg_prior = np.log2(np.sum(train_labels[:,0]) / train_labels.shape[0])\n",
        "neut_prior = np.log2(np.sum(train_labels[:,1]) / train_labels.shape[0])\n",
        "pos_prior = np.log2(np.sum(train_labels[:,2]) / train_labels.shape[0])\n",
        "class_priors = [neg_prior,neut_prior,pos_prior]"
      ],
      "execution_count": 0,
      "outputs": []
    },
    {
      "cell_type": "markdown",
      "metadata": {
        "id": "Kjba37KmRXUf",
        "colab_type": "text"
      },
      "source": [
        "# Naive Bayes starts here"
      ]
    },
    {
      "cell_type": "code",
      "metadata": {
        "id": "wP4-w57yRdM5",
        "colab_type": "code",
        "colab": {}
      },
      "source": [
        "def Naive_Bayes(class_priors,class_dicts_list,corpus,test_data,test_labels):\n",
        "  preds = np.zeros_like(test_labels)  \n",
        "  for i in range(len(test_data)):\n",
        "    class_scores = []\n",
        "    Text = test_data[i].replace(',', ' ').replace('.', ' ').replace('!', ' ').replace('?',' ')\n",
        "    final = Text.translate(str.maketrans('', '', string.punctuation))\n",
        "    final = final.strip()\n",
        "    rev = final.split()\n",
        "    clean_list = []\n",
        "    \n",
        "    for word in rev:\n",
        "      word = word.lower()\n",
        "      if word in ignore_list:\n",
        "        continue\n",
        "      if(any(char.isdigit() for char in word)): \n",
        "        continue  \n",
        "      if word in Pos_Emoji:\n",
        "        word = pos_em\n",
        "      elif word in Neg_Emoji:\n",
        "        word = neg_em\n",
        "      elif word in Neu_Emoji:\n",
        "        word = neut_em  \n",
        "      else:\n",
        "        word = word.lower()\n",
        "        clean_list.append(word)   \n",
        "    for dic in range(len(class_priors)):\n",
        "      tot_prob = class_priors[dic] \n",
        "      for word in clean_list:\n",
        "        if word not in corpus:\n",
        "          continue;\n",
        "        else:\n",
        "          tot_prob += class_dicts_list[dic][word]\n",
        "          \n",
        "      class_scores.append(tot_prob)\n",
        "    #print(class_scores)  \n",
        "    highest = np.argmax(class_scores)\n",
        "\n",
        "    preds[i,highest] = 1\n",
        "    \n",
        "  return preds\n",
        "\n"
      ],
      "execution_count": 0,
      "outputs": []
    },
    {
      "cell_type": "markdown",
      "metadata": {
        "id": "OVmGv6pJRc2h",
        "colab_type": "text"
      },
      "source": [
        "# Getting predictions "
      ]
    },
    {
      "cell_type": "code",
      "metadata": {
        "id": "jtAYMzKaYIh6",
        "colab_type": "code",
        "colab": {}
      },
      "source": [
        "predictions = Naive_Bayes(class_priors,class_dicts_list,entire_corpus,test_data,test_labels)"
      ],
      "execution_count": 0,
      "outputs": []
    },
    {
      "cell_type": "markdown",
      "metadata": {
        "id": "eGXDiNmxbKS7",
        "colab_type": "text"
      },
      "source": [
        "\n",
        "# Checking training & validation accuracy"
      ]
    },
    {
      "cell_type": "code",
      "metadata": {
        "id": "wV1mac2_c_4Q",
        "colab_type": "code",
        "outputId": "f05646cf-912f-4578-a0ef-bad38a087c8c",
        "colab": {
          "base_uri": "https://localhost:8080/",
          "height": 54
        }
      },
      "source": [
        "accuracy(predictions,test_labels)"
      ],
      "execution_count": 1120,
      "outputs": [
        {
          "output_type": "stream",
          "text": [
            "1127  of 1462 predictions were correct\n"
          ],
          "name": "stdout"
        },
        {
          "output_type": "execute_result",
          "data": {
            "text/plain": [
              "0.7708618331053352"
            ]
          },
          "metadata": {
            "tags": []
          },
          "execution_count": 1120
        }
      ]
    },
    {
      "cell_type": "code",
      "metadata": {
        "id": "SngB7iOFdRh0",
        "colab_type": "code",
        "colab": {}
      },
      "source": [
        ""
      ],
      "execution_count": 0,
      "outputs": []
    },
    {
      "cell_type": "markdown",
      "metadata": {
        "id": "udxNZHAob7H1",
        "colab_type": "text"
      },
      "source": [
        "# Evaluation metrics"
      ]
    },
    {
      "cell_type": "code",
      "metadata": {
        "id": "djxey1VdCeQF",
        "colab_type": "code",
        "colab": {}
      },
      "source": [
        "def confusion_matrix(predictions,labels,mat):\n",
        "\n",
        "  for ind,lab in enumerate(labels):\n",
        "    tr = np.argmax(lab)\n",
        "    pr = np.argmax(predictions[ind])\n",
        "    mat[pr,tr] +=1\n",
        "  return mat"
      ],
      "execution_count": 0,
      "outputs": []
    },
    {
      "cell_type": "code",
      "metadata": {
        "id": "7xzGzh9NWIZn",
        "colab_type": "code",
        "colab": {}
      },
      "source": [
        "conf_mat = np.zeros((classes,classes))"
      ],
      "execution_count": 0,
      "outputs": []
    },
    {
      "cell_type": "code",
      "metadata": {
        "id": "iQPUtYOXfLA4",
        "colab_type": "code",
        "colab": {}
      },
      "source": [
        "c = confusion_matrix(predictions,test_labels, conf_mat)"
      ],
      "execution_count": 0,
      "outputs": []
    },
    {
      "cell_type": "code",
      "metadata": {
        "id": "9vhvH3XwpVD5",
        "colab_type": "code",
        "outputId": "a805e0a6-92d0-4b4c-9074-edec20f5db2b",
        "colab": {
          "base_uri": "https://localhost:8080/",
          "height": 35
        }
      },
      "source": [
        "c.shape"
      ],
      "execution_count": 1124,
      "outputs": [
        {
          "output_type": "execute_result",
          "data": {
            "text/plain": [
              "(3, 3)"
            ]
          },
          "metadata": {
            "tags": []
          },
          "execution_count": 1124
        }
      ]
    },
    {
      "cell_type": "code",
      "metadata": {
        "id": "8LNL64AJ4psS",
        "colab_type": "code",
        "colab": {}
      },
      "source": [
        "# Function to extract from confusion matrix\n",
        "\n",
        "def two_by_two(c,cl):\n",
        "  mat = np.zeros((2,2))\n",
        "  t_p = c[cl,cl]\n",
        "  f_p = np.sum(c[cl]) - t_p\n",
        "  f_n = np.sum(c[:,cl]) - t_p\n",
        "  t_n = np.sum(c) - f_p - f_n - t_p\n",
        "  mat[0,0] = t_p\n",
        "  mat[0,1] = f_p\n",
        "  mat[1,0] = f_n\n",
        "  mat[1,1] = t_n\n",
        "  return mat"
      ],
      "execution_count": 0,
      "outputs": []
    },
    {
      "cell_type": "markdown",
      "metadata": {
        "id": "_YNlSjM1pdha",
        "colab_type": "text"
      },
      "source": [
        "# Evaluation metrics - Macro-Averaging"
      ]
    },
    {
      "cell_type": "code",
      "metadata": {
        "id": "c0ruwrI2p1Lc",
        "colab_type": "code",
        "colab": {}
      },
      "source": [
        "neg = two_by_two(c,0)\n",
        "neut = two_by_two(c,1)\n",
        "pos = two_by_two(c,2)\n",
        "\n"
      ],
      "execution_count": 0,
      "outputs": []
    },
    {
      "cell_type": "code",
      "metadata": {
        "id": "fcIkp8jBGSyj",
        "colab_type": "code",
        "colab": {}
      },
      "source": [
        "#mac_recall =  ((neg[0,0]/ np.sum(neg[:,0])) + (neut[0,0]/ np.sum(neut[:,0])) + (pos[0,0])/np.sum(pos[:,0])) / classes\n"
      ],
      "execution_count": 0,
      "outputs": []
    },
    {
      "cell_type": "code",
      "metadata": {
        "id": "SdYnmbF0Anw3",
        "colab_type": "code",
        "colab": {}
      },
      "source": [
        "\n",
        "mac_prec =( (neg[0,0]/np.sum(neg[0])) + ( (neut[0,0]) /(np.sum(neut[0]))) + ((pos[0,0]) /np.sum(pos[0])) ) / classes\n",
        "\n",
        "mac_acc = ( ((np.sum(np.diag(neg))/np.sum(neg)) + (np.sum(np.diag(neut))/np.sum(neut)) + ( np.sum(np.diag(pos))))  /(np.sum(pos)))/ classes\n",
        "\n",
        "mac_recall = ( (neg[0,0]/ np.sum(neg[:,0])) + (neut[0,0]/np.sum(neut[:,0])) + (pos[0,0])/np.sum(pos[:,0])  ) / classes\n",
        "\n",
        "mac_f1 = (2*mac_prec*mac_recall)/( mac_prec + mac_recall)"
      ],
      "execution_count": 0,
      "outputs": []
    },
    {
      "cell_type": "markdown",
      "metadata": {
        "id": "39gXD-Z1Gjbh",
        "colab_type": "text"
      },
      "source": [
        ""
      ]
    },
    {
      "cell_type": "markdown",
      "metadata": {
        "colab_type": "text",
        "id": "esmIJ7KPGkGQ"
      },
      "source": [
        "# Evaluation metrics - Micro-Averaging\n"
      ]
    },
    {
      "cell_type": "code",
      "metadata": {
        "id": "xyVLMKGWGqT-",
        "colab_type": "code",
        "colab": {}
      },
      "source": [
        "micro_prec = (neg[0,0] + neut[0,0] + pos[0,0]) / ((neg[0,1] + neut[0,1] + pos[0,1]) + (neg[0,0] + neut[0,0] + pos[0,0]))\n",
        "\n",
        "micro_acc = (neg[1,1] + neut[1,1] + pos[1,1] +  neg[0,0] + neut[0,0] + pos[0,0]) / ( np.sum(neg) + np.sum(neut) + np.sum(pos))\n",
        "\n",
        "micro_recall = (neg[0,0] + neut[0,0] + pos[0,0]) / (np.sum(neg[:,0]) + np.sum(neut[:,0]) +np.sum(pos[:,0]))\n",
        "\n",
        "micro_f1 = (2*micro_prec*micro_recall)/ (micro_prec + micro_recall)"
      ],
      "execution_count": 0,
      "outputs": []
    },
    {
      "cell_type": "code",
      "metadata": {
        "id": "qnhymdvlYik3",
        "colab_type": "code",
        "outputId": "1f09b371-ccf1-4f27-cb21-a97e7af1df4c",
        "colab": {
          "base_uri": "https://localhost:8080/",
          "height": 35
        }
      },
      "source": [
        "micro_acc"
      ],
      "execution_count": 1150,
      "outputs": [
        {
          "output_type": "execute_result",
          "data": {
            "text/plain": [
              "0.8472412220702235"
            ]
          },
          "metadata": {
            "tags": []
          },
          "execution_count": 1150
        }
      ]
    },
    {
      "cell_type": "markdown",
      "metadata": {
        "id": "g-ONwRAnJ8Hj",
        "colab_type": "text"
      },
      "source": [
        "# Plots"
      ]
    },
    {
      "cell_type": "markdown",
      "metadata": {
        "id": "SGr7VAydvEpG",
        "colab_type": "text"
      },
      "source": [
        "# Confusion Matrix"
      ]
    },
    {
      "cell_type": "code",
      "metadata": {
        "id": "WFYoDy3_J-V5",
        "colab_type": "code",
        "outputId": "0f54622f-d753-4f1a-bd22-41efcce1355a",
        "colab": {
          "base_uri": "https://localhost:8080/",
          "height": 296
        }
      },
      "source": [
        "\n",
        "# Prepare table\n",
        "# Add a table at the bottom of the axes\n",
        "c_colors = [[\"w\",\"w\",\"w\"],[ \"w\",\"w\",\"w\"],[ \"w\",\"w\",\"w\"]]\n",
        "\n",
        "\n",
        "columns = ('True Negative', 'True Neutral', 'True Positive')\n",
        "rows = ['Pred Negative', 'Pred Neutral', 'Pred Positive']\n",
        "# Get some pastel shades for the colors\n",
        "colors = plt.cm.BuPu(np.linspace(0, 1, len(rows)))\n",
        "#c_colors = plt.cm.BuPu(np.linspace(0, 1, len(rows)))\n",
        "#r_colors = plt.cm.BuPu(np.linspace(0, 1, len(rows)))\n",
        "plt.axis('tight')\n",
        "plt.axis('off')\n",
        "\n",
        "cell_text = c\n",
        "the_table = plt.table(\n",
        "                      \n",
        "                      cellText=cell_text,\n",
        "                      rowLabels=rows,\n",
        "                      rowColours=colors,\n",
        "                      cellColours = c_colors,\n",
        "                      colColours = colors,\n",
        "                      colWidths = [0.5,0.5,0.5],\n",
        "                      colLabels=columns,\n",
        "                      fontsize = 0.9,\n",
        "                      loc='top')\n",
        "\n",
        "the_table.set_fontsize(13)\n",
        "plt.show()"
      ],
      "execution_count": 1151,
      "outputs": [
        {
          "output_type": "display_data",
          "data": {
            "image/png": "[encoded data removed]",
            "text/plain": [
              "<Figure size 432x288 with 1 Axes>"
            ]
          },
          "metadata": {
            "tags": [],
            "needs_background": "light"
          }
        }
      ]
    },
    {
      "cell_type": "markdown",
      "metadata": {
        "id": "KYlJU9l_7Whi",
        "colab_type": "text"
      },
      "source": [
        "# Confusion matrix - Class Wise"
      ]
    },
    {
      "cell_type": "code",
      "metadata": {
        "id": "HpD89sfF7b5s",
        "colab_type": "code",
        "outputId": "abbbdde9-5d61-4787-a314-adb35b151ccf",
        "colab": {
          "base_uri": "https://localhost:8080/",
          "height": 284
        }
      },
      "source": [
        "\n",
        "# Prepare table\n",
        "# Add a table at the bottom of the axes\n",
        "c_colors = [[\"w\",\"w\"],[ \"w\",\"w\"]]\n",
        "\n",
        "\n",
        "columns = ('True_Neg', 'True_Not_Neg')\n",
        "rows = ['Pred_Negative', 'Pred_Not_Neg']\n",
        "# Get some pastel shades for the colors\n",
        "colors = plt.cm.BuPu(np.linspace(0, 1, len(rows)))\n",
        "#c_colors = plt.cm.BuPu(np.linspace(0, 1, len(rows)))\n",
        "#r_colors = plt.cm.BuPu(np.linspace(0, 1, len(rows)))\n",
        "plt.axis('tight')\n",
        "plt.axis('off')\n",
        "\n",
        "cell_text = neg\n",
        "the_table = plt.table(\n",
        "                      \n",
        "                      cellText=cell_text,\n",
        "                      rowLabels=rows,\n",
        "                      rowColours=colors,\n",
        "                      cellColours = c_colors,\n",
        "                      colColours = colors,\n",
        "                      colWidths = [0.5,0.5],\n",
        "                      colLabels=columns,\n",
        "                      fontsize = 0.9,\n",
        "                      loc='top')\n",
        "\n",
        "the_table.set_fontsize(13)\n",
        "plt.show()"
      ],
      "execution_count": 1152,
      "outputs": [
        {
          "output_type": "display_data",
          "data": {
            "image/png": "[encoded data removed]",
            "text/plain": [
              "<Figure size 432x288 with 1 Axes>"
            ]
          },
          "metadata": {
            "tags": [],
            "needs_background": "light"
          }
        }
      ]
    },
    {
      "cell_type": "code",
      "metadata": {
        "id": "k8iaVRo-A_wD",
        "colab_type": "code",
        "outputId": "88dc6f98-2ac8-46b2-d066-88d43f434dce",
        "colab": {
          "base_uri": "https://localhost:8080/",
          "height": 284
        }
      },
      "source": [
        "\n",
        "# Prepare table\n",
        "# Add a table at the bottom of the axes\n",
        "c_colors = [[\"w\",\"w\"],[ \"w\",\"w\"]]\n",
        "\n",
        "\n",
        "columns = ('True_Neutral', 'True_Not_Neutral')\n",
        "rows = ['Pred_Neutral', 'Pred_Not_Neutral']\n",
        "# Get some pastel shades for the colors\n",
        "colors = plt.cm.BuPu(np.linspace(0, 1, len(rows)))\n",
        "#c_colors = plt.cm.BuPu(np.linspace(0, 1, len(rows)))\n",
        "#r_colors = plt.cm.BuPu(np.linspace(0, 1, len(rows)))\n",
        "plt.axis('tight')\n",
        "plt.axis('off')\n",
        "\n",
        "cell_text = neut\n",
        "the_table = plt.table(\n",
        "                      \n",
        "                      cellText=cell_text,\n",
        "                      rowLabels=rows,\n",
        "                      rowColours=colors,\n",
        "                      cellColours = c_colors,\n",
        "                      colColours = colors,\n",
        "                      colWidths = [0.5,0.5],\n",
        "                      colLabels=columns,\n",
        "                      fontsize = 0.9,\n",
        "                      loc='top')\n",
        "\n",
        "the_table.set_fontsize(13)\n",
        "plt.show()"
      ],
      "execution_count": 1153,
      "outputs": [
        {
          "output_type": "display_data",
          "data": {
            "image/png": "[encoded data removed]",
            "text/plain": [
              "<Figure size 432x288 with 1 Axes>"
            ]
          },
          "metadata": {
            "tags": [],
            "needs_background": "light"
          }
        }
      ]
    },
    {
      "cell_type": "code",
      "metadata": {
        "id": "RfoJw34eE8bk",
        "colab_type": "code",
        "outputId": "0b5ab21a-8b14-4754-bc39-890919f2d08c",
        "colab": {
          "base_uri": "https://localhost:8080/",
          "height": 284
        }
      },
      "source": [
        "\n",
        "# Prepare table\n",
        "# Add a table at the bottom of the axes\n",
        "c_colors = [[\"w\",\"w\"],[ \"w\",\"w\"]]\n",
        "\n",
        "\n",
        "columns = ('True Positive', 'True_Not_Positive')\n",
        "rows = ['Pred Positive', 'Pred_Not_Positive']\n",
        "# Get some pastel shades for the colors\n",
        "colors = plt.cm.BuPu(np.linspace(0, 1, len(rows)))\n",
        "#c_colors = plt.cm.BuPu(np.linspace(0, 1, len(rows)))\n",
        "#r_colors = plt.cm.BuPu(np.linspace(0, 1, len(rows)))\n",
        "plt.axis('tight')\n",
        "plt.axis('off')\n",
        "\n",
        "cell_text = pos\n",
        "the_table = plt.table(\n",
        "                      \n",
        "                      cellText=cell_text,\n",
        "                      rowLabels=rows,\n",
        "                      rowColours=colors,\n",
        "                      cellColours = c_colors,\n",
        "                      colColours = colors,\n",
        "                      colWidths = [0.5,0.5],\n",
        "                      colLabels=columns,\n",
        "                      fontsize = 0.9,\n",
        "                      loc='top')\n",
        "\n",
        "the_table.set_fontsize(13)\n",
        "plt.show()"
      ],
      "execution_count": 1154,
      "outputs": [
        {
          "output_type": "display_data",
          "data": {
            "image/png": "[encoded data removed]",
            "text/plain": [
              "<Figure size 432x288 with 1 Axes>"
            ]
          },
          "metadata": {
            "tags": [],
            "needs_background": "light"
          }
        }
      ]
    },
    {
      "cell_type": "markdown",
      "metadata": {
        "id": "favxVBRnM3y7",
        "colab_type": "text"
      },
      "source": [
        "# Plotting the metrics"
      ]
    },
    {
      "cell_type": "code",
      "metadata": {
        "id": "f_7ueq1y1lsj",
        "colab_type": "code",
        "colab": {}
      },
      "source": [
        ""
      ],
      "execution_count": 0,
      "outputs": []
    },
    {
      "cell_type": "code",
      "metadata": {
        "id": "ZkTBIAzA72jo",
        "colab_type": "code",
        "colab": {
          "base_uri": "https://localhost:8080/",
          "height": 35
        },
        "outputId": "96574be7-a68a-401c-d73c-1a2eb9458853"
      },
      "source": [
        "micro_recall"
      ],
      "execution_count": 1155,
      "outputs": [
        {
          "output_type": "execute_result",
          "data": {
            "text/plain": [
              "0.7708618331053352"
            ]
          },
          "metadata": {
            "tags": []
          },
          "execution_count": 1155
        }
      ]
    },
    {
      "cell_type": "code",
      "metadata": {
        "id": "NDbiOd4q3F2A",
        "colab_type": "code",
        "outputId": "22dc297a-5193-435d-b9f3-cd3abd50ced9",
        "colab": {
          "base_uri": "https://localhost:8080/",
          "height": 308
        }
      },
      "source": [
        "\n",
        "# Prepare table\n",
        "# Add a table at the bottom of the axes\n",
        "c_colors = np.asarray([\"w\",\"w\",\"w\",\"w\", \"w\",\"w\",\"w\",\"w\"]).reshape(4,2)\n",
        "\n",
        "\n",
        "columns = ('Macro-Average', 'Micro-Average')\n",
        "rows = ['Accuracy', 'Precision', 'Recall', 'F1-Score']\n",
        "# Get some pastel shades for the colorsadam = Adam(lr=0.0005, beta_1=0.5)\n",
        "\n",
        "colors = plt.cm.BuPu(np.linspace(0, 1, len(rows)))\n",
        "#c_colors = plt.cm.BuPu(np.linspace(0, 1, len(rows)))\n",
        "#r_colors = plt.cm.BuPu(np.linspace(0, 1, len(rows)))\n",
        "plt.axis('tight')\n",
        "plt.axis('off')\n",
        "\n",
        "cell_text = np.asarray([mac_acc,micro_acc,mac_prec,micro_prec,mac_recall, micro_recall ,mac_f1,micro_f1]).reshape(4,2)\n",
        "the_table = plt.table(\n",
        "                      \n",
        "                      cellText=cell_text,\n",
        "                      rowLabels=rows,\n",
        "                      rowColours=colors,\n",
        "                      cellColours = c_colors,\n",
        "                      colColours = colors,\n",
        "                      colWidths = [0.5,0.5],\n",
        "                      colLabels=columns,\n",
        "                      fontsize = 0.9,\n",
        "                      loc='top')\n",
        "\n",
        "the_table.set_fontsize(13)\n",
        "plt.show()"
      ],
      "execution_count": 1156,
      "outputs": [
        {
          "output_type": "display_data",
          "data": {
            "image/png": "[encoded data removed]",
            "text/plain": [
              "<Figure size 432x288 with 1 Axes>"
            ]
          },
          "metadata": {
            "tags": [],
            "needs_background": "light"
          }
        }
      ]
    },
    {
      "cell_type": "code",
      "metadata": {
        "id": "nOWrYXMIBj-0",
        "colab_type": "code",
        "colab": {}
      },
      "source": [
        ""
      ],
      "execution_count": 0,
      "outputs": []
    }
  ]
}